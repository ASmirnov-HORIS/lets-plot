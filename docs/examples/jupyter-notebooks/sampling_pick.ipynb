{
 "cells": [
  {
   "cell_type": "markdown",
   "metadata": {},
   "source": [
    "## Pick Sampling"
   ]
  },
  {
   "cell_type": "code",
   "execution_count": 7,
   "metadata": {},
   "outputs": [
    {
     "data": {
      "text/html": [
       "\n",
       "            <div id=\"c8HmnC\"></div>\n",
       "            <script type=\"text/javascript\">\n",
       "                if(!window.letsPlotCallQueue) {\n",
       "                    window.letsPlotCallQueue = [];\n",
       "                }; \n",
       "                window.letsPlotCall = function(f) {\n",
       "                    window.letsPlotCallQueue.push(f);\n",
       "                };\n",
       "                (function() {\n",
       "                    var script = document.createElement(\"script\");\n",
       "                    script.type = \"text/javascript\";\n",
       "                    script.src = \"https://dl.bintray.com/jetbrains/datalore-plot/datalore-plot-0.0.1rc4.min.js\";\n",
       "                    script.onload = function() {\n",
       "                        window.letsPlotCall = function(f) {f();};\n",
       "                        window.letsPlotCallQueue.forEach(function(f) {f();});\n",
       "                        window.letsPlotCallQueue = [];\n",
       "                        \n",
       "            var div = document.createElement(\"div\");\n",
       "            div.style.color = 'darkblue';\n",
       "            div.textContent = 'Datalore Plot JS successfully loaded.';\n",
       "            document.getElementById(\"c8HmnC\").appendChild(div);\n",
       "        \n",
       "                    };\n",
       "                    script.onerror = function(event) {\n",
       "                        window.letsPlotCall = function(f) {};    // noop\n",
       "                        window.letsPlotCallQueue = [];\n",
       "                        var div = document.createElement(\"div\");\n",
       "                        div.style.color = 'darkred';\n",
       "                        div.textContent = 'Error loading Datalore Plot JS';\n",
       "                        document.getElementById(\"c8HmnC\").appendChild(div);\n",
       "                    };\n",
       "                    var e = document.getElementById(\"c8HmnC\");\n",
       "                    e.appendChild(script);\n",
       "                })()\n",
       "            </script>\n",
       "            "
      ]
     },
     "metadata": {},
     "output_type": "display_data"
    }
   ],
   "source": [
    "import numpy as np\n",
    "from lets_plot import *\n",
    "import random, string\n",
    "\n",
    "load_lets_plot_js()"
   ]
  },
  {
   "cell_type": "code",
   "execution_count": 8,
   "metadata": {},
   "outputs": [],
   "source": [
    "def gen_word(length):\n",
    "    letters = string.ascii_lowercase\n",
    "    return ''.join(random.choice(letters) for _ in range(length))\n",
    "\n",
    "def gen_word_set(n):\n",
    "    random.seed(1)\n",
    "    word_set = set()\n",
    "    while len(word_set) < n:\n",
    "        word_set.add(gen_word(5))\n",
    "    return word_set\n",
    "\n",
    "def data(n, word_set):\n",
    "    word_choice = list(word_set)\n",
    "    words=[]\n",
    "    groups = []\n",
    "    for _ in range(n):\n",
    "        words.append(np.random.choice(word_choice))\n",
    "        groups.append(np.random.choice(['a','b','c']))\n",
    "\n",
    "    return dict(word=words, g=groups)"
   ]
  },
  {
   "cell_type": "code",
   "execution_count": 9,
   "metadata": {},
   "outputs": [],
   "source": [
    "# Number of unique words exceeds threshold (50) of default 'pick' sampling on bar chart.\n",
    "N = 500\n",
    "word_set = gen_word_set(N)\n",
    "dat = data(1000, word_set)\n",
    "p = ggplot(dat, aes(x='word'))"
   ]
  },
  {
   "cell_type": "code",
   "execution_count": 10,
   "metadata": {},
   "outputs": [
    {
     "data": {
      "text/html": [
       "\n",
       "            <div id=\"plot_output_S3ztjq\"></div>\n",
       "            <script type=\"text/javascript\">\n",
       "                (function() {\n",
       "                    var plotSpec={\n",
       "'data':{\n",
       "},\n",
       "'mapping':{\n",
       "'x':\"word\"\n",
       "},\n",
       "'kind':\"plot\",\n",
       "'scales':[],\n",
       "'layers':[{\n",
       "'geom':\"bar\",\n",
       "'sampling':\"none\",\n",
       "'data':{\n",
       "'..count..':[2.0,4.0,2.0,2.0,6.0,3.0,3.0,1.0,1.0,2.0,6.0,4.0,3.0,1.0,4.0,4.0,5.0,4.0,2.0,2.0,2.0,3.0,2.0,1.0,3.0,1.0,1.0,2.0,3.0,4.0,3.0,3.0,2.0,2.0,2.0,6.0,6.0,3.0,4.0,4.0,1.0,2.0,3.0,3.0,5.0,2.0,2.0,2.0,4.0,3.0,1.0,4.0,1.0,3.0,4.0,3.0,5.0,3.0,2.0,2.0,1.0,5.0,3.0,4.0,2.0,5.0,4.0,2.0,1.0,3.0,4.0,4.0,2.0,4.0,5.0,4.0,4.0,3.0,1.0,2.0,3.0,2.0,5.0,3.0,3.0,4.0,3.0,2.0,3.0,3.0,1.0,2.0,3.0,1.0,2.0,4.0,4.0,4.0,4.0,2.0,1.0,3.0,4.0,4.0,3.0,4.0,3.0,2.0,4.0,7.0,2.0,1.0,4.0,4.0,1.0,1.0,5.0,2.0,4.0,2.0,3.0,2.0,2.0,2.0,2.0,1.0,2.0,3.0,4.0,2.0,4.0,2.0,2.0,1.0,3.0,1.0,2.0,2.0,1.0,2.0,3.0,3.0,3.0,3.0,4.0,1.0,2.0,2.0,3.0,6.0,4.0,2.0,2.0,1.0,2.0,5.0,2.0,2.0,2.0,1.0,1.0,1.0,1.0,3.0,2.0,2.0,4.0,2.0,4.0,3.0,2.0,2.0,1.0,2.0,2.0,2.0,3.0,1.0,4.0,1.0,2.0,3.0,2.0,2.0,4.0,4.0,2.0,2.0,4.0,1.0,1.0,3.0,1.0,2.0,1.0,2.0,2.0,4.0,5.0,3.0,4.0,2.0,2.0,4.0,3.0,4.0,1.0,3.0,1.0,2.0,5.0,1.0,5.0,4.0,3.0,3.0,3.0,2.0,1.0,3.0,3.0,1.0,5.0,4.0,3.0,1.0,2.0,1.0,3.0,1.0,1.0,3.0,1.0,3.0,2.0,3.0,3.0,3.0,1.0,2.0,2.0,1.0,2.0,2.0,2.0,2.0,2.0,2.0,1.0,4.0,2.0,2.0,1.0,3.0,2.0,8.0,2.0,2.0,1.0,2.0,3.0,2.0,1.0,4.0,1.0,3.0,2.0,1.0,2.0,4.0,3.0,3.0,1.0,2.0,3.0,1.0,1.0,1.0,2.0,2.0,2.0,3.0,3.0,2.0,3.0,2.0,1.0,2.0,1.0,4.0,2.0,3.0,1.0,2.0,2.0,3.0,3.0,2.0,2.0,2.0,2.0,4.0,1.0,1.0,2.0,2.0,4.0,2.0,2.0,3.0,2.0,1.0,2.0,1.0,3.0,1.0,4.0,2.0,2.0,1.0,1.0,2.0,3.0,2.0,1.0,1.0,3.0,1.0,3.0,2.0,1.0,4.0,2.0,2.0,1.0,3.0,1.0,2.0,1.0,4.0,2.0,1.0,1.0,1.0,1.0,3.0,2.0,1.0,1.0,1.0,2.0,2.0,5.0,2.0,2.0,2.0,2.0,1.0,2.0,1.0,1.0,2.0,1.0,2.0,1.0,1.0,2.0,1.0,2.0,2.0,1.0,1.0,1.0,1.0,1.0,1.0,2.0,2.0,1.0,1.0,1.0,2.0,1.0,1.0,1.0,1.0,2.0,1.0,2.0,3.0,1.0,1.0,1.0,2.0,1.0,2.0,1.0,1.0,1.0,2.0,1.0,1.0,2.0,1.0,1.0,1.0,1.0,1.0,2.0,1.0,1.0,1.0,1.0,1.0,2.0,1.0,1.0,2.0,1.0,1.0,1.0,2.0,2.0,1.0,1.0,1.0,1.0,1.0,1.0,1.0,1.0,1.0,1.0,1.0,1.0,1.0,2.0,1.0,1.0,1.0,1.0,1.0,1.0],\n",
       "'word':[\"puzrg\",\"pykmo\",\"ekjdw\",\"escbj\",\"ktodi\",\"jipgp\",\"rhcxb\",\"ujreb\",\"erxby\",\"lzxba\",\"sdkaa\",\"txqps\",\"uupky\",\"exivg\",\"pemwd\",\"bebqp\",\"lrrzx\",\"omdte\",\"ydkbn\",\"jovee\",\"ofywt\",\"ihmxr\",\"vvwco\",\"fljcf\",\"naslp\",\"tvnil\",\"mkqnl\",\"gmufm\",\"xeizm\",\"oxplp\",\"gaxry\",\"mfein\",\"tbbzk\",\"uwxzh\",\"qdxsn\",\"uhbcy\",\"qhayg\",\"aeivh\",\"fgkzs\",\"zuxet\",\"knyhz\",\"bpvmw\",\"knxfr\",\"bjwts\",\"ulmjo\",\"ndygs\",\"wqraj\",\"kzxvs\",\"dseqq\",\"khdcv\",\"tqzss\",\"wpesr\",\"rrchm\",\"qjzzg\",\"zzlux\",\"rjriw\",\"cejrx\",\"pdvef\",\"dkkly\",\"facnt\",\"yrrff\",\"ktxlh\",\"jwelp\",\"xgqqm\",\"mwmzg\",\"jklik\",\"kadow\",\"uovux\",\"ziudi\",\"uxjdx\",\"swore\",\"spqms\",\"iuwjo\",\"wcmuw\",\"aucfo\",\"uqnfg\",\"dgsvn\",\"uaapb\",\"mnvfl\",\"lvrpy\",\"pilei\",\"zurkn\",\"fjuxw\",\"oljym\",\"zapkm\",\"unbxj\",\"kvidt\",\"hmcir\",\"zylnm\",\"fkoet\",\"rgqnp\",\"bkfkz\",\"wzjhg\",\"euyzg\",\"raoyb\",\"oixnf\",\"cwqvl\",\"ckbob\",\"uojyd\",\"xlivu\",\"gwoaj\",\"ltphk\",\"rqntu\",\"uemxr\",\"vffye\",\"kbaaz\",\"uyvxg\",\"hsgqs\",\"xfglm\",\"lsloi\",\"whdhk\",\"nrfbw\",\"bvcca\",\"niqjx\",\"phwnk\",\"xqgtn\",\"graiu\",\"auram\",\"bqkqw\",\"zgufq\",\"oipol\",\"fkvhc\",\"qdxio\",\"xqici\",\"evsbl\",\"wjrlf\",\"pgdnt\",\"qzass\",\"gztyr\",\"ahame\",\"oayyi\",\"sizhw\",\"kzksc\",\"amndz\",\"jxtko\",\"doayn\",\"zgidi\",\"kkqzm\",\"ivdmr\",\"wwazb\",\"sifyx\",\"ufrsf\",\"czsrt\",\"ylriz\",\"lediy\",\"uzwqo\",\"qkdlz\",\"wikps\",\"esesd\",\"otazh\",\"ypgwp\",\"srjqn\",\"zsnfd\",\"squcc\",\"sxwxc\",\"sxklz\",\"ftyfx\",\"hidzt\",\"tpdem\",\"arjvy\",\"cpucr\",\"txxxq\",\"lnmjv\",\"ixpbx\",\"zwnvr\",\"eszyc\",\"mwncc\",\"bsfvd\",\"ucqpq\",\"xawdz\",\"juanx\",\"qvsat\",\"mjqpa\",\"sesee\",\"hvatm\",\"hyaaj\",\"wcyuh\",\"turch\",\"vomku\",\"myods\",\"yocus\",\"kdtsz\",\"xxqqa\",\"ktppk\",\"brgrn\",\"qtjeg\",\"otvqg\",\"rtxui\",\"wqxto\",\"vhiyc\",\"nhzbq\",\"biydn\",\"mljyk\",\"ftchp\",\"lacem\",\"vrtxa\",\"ceffr\",\"smuff\",\"oljrm\",\"ytali\",\"spdeu\",\"gnrut\",\"rbove\",\"qmadk\",\"zifyc\",\"qbmgl\",\"jqebo\",\"fzeud\",\"tqebk\",\"cxcau\",\"yajth\",\"yivoz\",\"wgcuc\",\"hpomy\",\"gjwwu\",\"sulzp\",\"lvsyy\",\"giykt\",\"wpvli\",\"rtszt\",\"yzkcq\",\"riltx\",\"itjgq\",\"ixtxy\",\"lbudx\",\"rndvj\",\"sjgmf\",\"fhhjo\",\"zfrlp\",\"ijvvz\",\"mbxik\",\"pzitk\",\"uihgd\",\"iriqi\",\"vgnxa\",\"cxhiv\",\"amkfi\",\"zkcjb\",\"whitw\",\"scilj\",\"vdqfr\",\"xdnmz\",\"niipw\",\"ldkbe\",\"tkrqf\",\"rwmar\",\"nrudf\",\"ukhmj\",\"bphxz\",\"mlxfh\",\"gnira\",\"rqhni\",\"xwgfj\",\"ukitx\",\"kxwqn\",\"vlrgz\",\"xlcur\",\"prthi\",\"ghkic\",\"nbloa\",\"cgapu\",\"tvacn\",\"vjcdh\",\"terwk\",\"zadsx\",\"nsiea\",\"mkpdf\",\"oqrxb\",\"lszjn\",\"lqavm\",\"adiep\",\"hyoja\",\"gotqn\",\"bgnbb\",\"zztsd\",\"zgvuc\",\"eeihg\",\"cdtqs\",\"lcovq\",\"igfje\",\"utara\",\"dupbq\",\"ozwhu\",\"egehx\",\"qdekx\",\"oqrxs\",\"rcrkk\",\"dbsqa\",\"brtqe\",\"afqkq\",\"tphno\",\"imcvs\",\"drviw\",\"misoa\",\"ymvqz\",\"chhaz\",\"jsztc\",\"ziymr\",\"jfezm\",\"cwfin\",\"xmcsz\",\"wwxot\",\"jeeqd\",\"wfdhm\",\"mywoa\",\"sedfy\",\"hqiiw\",\"rsmgo\",\"yfiua\",\"oixzh\",\"nbpls\",\"leszj\",\"ejgvx\",\"sabwl\",\"ygvbp\",\"znrfw\",\"djhty\",\"rwyvx\",\"jeoip\",\"sjoje\",\"aauth\",\"dpybu\",\"bxfow\",\"lwibr\",\"qilkk\",\"firba\",\"anjsx\",\"rictz\",\"idpyo\",\"mgjzd\",\"rxbqc\",\"zytkp\",\"srdoi\",\"fiqfv\",\"ktmja\",\"rnvcw\",\"tlyoi\",\"khiqb\",\"xceyt\",\"ofvhf\",\"vqpmd\",\"dayxv\",\"lpbrp\",\"deewi\",\"qvnrh\",\"rrhmq\",\"kzets\",\"yruoq\",\"amioi\",\"hbszs\",\"vjnka\",\"hquam\",\"xgwqw\",\"sujmi\",\"rbsgs\",\"qvgjj\",\"afklg\",\"voznr\",\"pdumm\",\"cmzee\",\"ccxdj\",\"bufvv\",\"pzykl\",\"yzgjj\",\"zdvjd\",\"rjcqj\",\"xbnog\",\"nwink\",\"grnwh\",\"lpxap\",\"kvhzv\",\"qoser\",\"ajyzl\",\"mqlgh\",\"bsmie\",\"mcmzq\",\"rhlhv\",\"gzblo\",\"okqzr\",\"vszkv\",\"hdses\",\"dzbja\",\"rtztk\",\"qewsi\",\"amevr\",\"eqyrg\",\"yvacc\",\"neafi\",\"frgjg\",\"nhqrg\",\"pgmxr\",\"hneei\",\"iaomz\",\"cjjxf\",\"rgijs\",\"mdvoj\",\"nxtbz\",\"ruqbl\",\"hmrmf\",\"zdple\",\"dzbgh\",\"msaqg\",\"lxuwh\",\"lnlar\",\"inxrj\",\"mkmcc\",\"etioq\",\"brbqe\",\"dwgmv\",\"eiiil\",\"hmznm\",\"mzxqz\",\"ftqgq\",\"xkyru\",\"dnush\",\"dpamn\",\"bwswv\",\"yvnmi\",\"snmkt\",\"hhkpv\",\"qkdnl\",\"hlcic\",\"nrmjh\",\"mcsrh\",\"couja\",\"kitlb\",\"flntw\",\"iimsm\",\"xmmnv\",\"mqpcm\",\"ydmux\",\"whzth\",\"egbjc\",\"pkdgu\",\"ybtnn\",\"dgcba\",\"feyew\",\"hycqf\",\"estev\",\"igcux\",\"foqbi\",\"dvkia\",\"ktzvr\"]\n",
       "}\n",
       "}]\n",
       "};\n",
       "                    var plotContainer = document.getElementById(\"plot_output_S3ztjq\");\n",
       "                    window.letsPlotCall(function() {{\n",
       "                        DatalorePlot.buildPlotFromProcessedSpecs(plotSpec, -1, -1, plotContainer);\n",
       "                    }});\n",
       "                })();    \n",
       "            </script>\n",
       "        "
      ],
      "text/plain": [
       "<lets_plot.plot.core.PlotSpec at 0x12214db90>"
      ]
     },
     "execution_count": 10,
     "metadata": {},
     "output_type": "execute_result"
    }
   ],
   "source": [
    "# Disable sampling to see raw plot\n",
    "p + geom_bar(sampling='none')"
   ]
  },
  {
   "cell_type": "code",
   "execution_count": 11,
   "metadata": {},
   "outputs": [
    {
     "data": {
      "text/html": [
       "\n",
       "            <div id=\"plot_output_vmQjQ9\"></div>\n",
       "            <script type=\"text/javascript\">\n",
       "                (function() {\n",
       "                    var plotSpec={\n",
       "'data':{\n",
       "},\n",
       "'mapping':{\n",
       "'x':\"word\"\n",
       "},\n",
       "'kind':\"plot\",\n",
       "'scales':[],\n",
       "'layers':[{\n",
       "'geom':\"bar\",\n",
       "'data':{\n",
       "'..count..':[2.0,4.0,2.0,2.0,6.0,3.0,3.0,1.0,1.0,2.0,6.0,4.0,3.0,1.0,4.0,4.0,5.0,4.0,2.0,2.0,2.0,3.0,2.0,1.0,3.0,1.0,1.0,2.0,3.0,4.0,3.0,3.0,2.0,2.0,2.0,6.0,6.0,3.0,4.0,4.0,1.0,2.0,3.0,3.0,5.0,2.0,2.0,2.0,4.0,3.0],\n",
       "'word':[\"puzrg\",\"pykmo\",\"ekjdw\",\"escbj\",\"ktodi\",\"jipgp\",\"rhcxb\",\"ujreb\",\"erxby\",\"lzxba\",\"sdkaa\",\"txqps\",\"uupky\",\"exivg\",\"pemwd\",\"bebqp\",\"lrrzx\",\"omdte\",\"ydkbn\",\"jovee\",\"ofywt\",\"ihmxr\",\"vvwco\",\"fljcf\",\"naslp\",\"tvnil\",\"mkqnl\",\"gmufm\",\"xeizm\",\"oxplp\",\"gaxry\",\"mfein\",\"tbbzk\",\"uwxzh\",\"qdxsn\",\"uhbcy\",\"qhayg\",\"aeivh\",\"fgkzs\",\"zuxet\",\"knyhz\",\"bpvmw\",\"knxfr\",\"bjwts\",\"ulmjo\",\"ndygs\",\"wqraj\",\"kzxvs\",\"dseqq\",\"khdcv\"]\n",
       "}\n",
       "}],\n",
       "'computation_messages':[\"sampling_pick(n=50) was applied to [bar/count stat] layer\"]\n",
       "};\n",
       "                    var plotContainer = document.getElementById(\"plot_output_vmQjQ9\");\n",
       "                    window.letsPlotCall(function() {{\n",
       "                        DatalorePlot.buildPlotFromProcessedSpecs(plotSpec, -1, -1, plotContainer);\n",
       "                    }});\n",
       "                })();    \n",
       "            </script>\n",
       "        "
      ],
      "text/plain": [
       "<lets_plot.plot.core.PlotSpec at 0x1221771d0>"
      ]
     },
     "execution_count": 11,
     "metadata": {},
     "output_type": "execute_result"
    }
   ],
   "source": [
    "# Draw plot with default sampling enabled\n",
    "p + geom_bar()"
   ]
  },
  {
   "cell_type": "code",
   "execution_count": 12,
   "metadata": {},
   "outputs": [
    {
     "data": {
      "text/html": [
       "\n",
       "            <div id=\"plot_output_SUI7ui\"></div>\n",
       "            <script type=\"text/javascript\">\n",
       "                (function() {\n",
       "                    var plotSpec={\n",
       "'data':{\n",
       "},\n",
       "'mapping':{\n",
       "'x':\"word\"\n",
       "},\n",
       "'kind':\"plot\",\n",
       "'scales':[],\n",
       "'layers':[{\n",
       "'geom':\"bar\",\n",
       "'mapping':{\n",
       "'fill':\"g\"\n",
       "},\n",
       "'data':{\n",
       "'..count..':[1.0,2.0,1.0,3.0,3.0,1.0,2.0,1.0,1.0,1.0,2.0,1.0,2.0,2.0,2.0,2.0,3.0,1.0,1.0,2.0,1.0,1.0,1.0,1.0,1.0,1.0,3.0,1.0,2.0,2.0,1.0,2.0,1.0,1.0,2.0,1.0,1.0,1.0,1.0,3.0,3.0,1.0,1.0,4.0,2.0,1.0,1.0,2.0,3.0,1.0,1.0,3.0,2.0,1.0,1.0,1.0,2.0,1.0,1.0,3.0,2.0,1.0,1.0,1.0,1.0,1.0,2.0,1.0,3.0,1.0,1.0,1.0,1.0,1.0,1.0,1.0,2.0,1.0,1.0,1.0,2.0,2.0,1.0,2.0,2.0,3.0,1.0,1.0,2.0,1.0,1.0,2.0,1.0,1.0,1.0,1.0,1.0],\n",
       "'word':[\"puzrg\",\"pykmo\",\"jipgp\",\"sdkaa\",\"uupky\",\"bebqp\",\"lrrzx\",\"jovee\",\"tvnil\",\"gmufm\",\"gaxry\",\"mfein\",\"tbbzk\",\"uwxzh\",\"rhcxb\",\"qdxsn\",\"uhbcy\",\"bpvmw\",\"bjwts\",\"ndygs\",\"wqraj\",\"khdcv\",\"rrchm\",\"qjzzg\",\"zzlux\",\"rjriw\",\"pdvef\",\"yrrff\",\"ktxlh\",\"jwelp\",\"xgqqm\",\"jklik\",\"swore\",\"iuwjo\",\"aucfo\",\"mnvfl\",\"unbxj\",\"hmcir\",\"rgqnp\",\"wzjhg\",\"oixnf\",\"ltphk\",\"lvrpy\",\"kbaaz\",\"hsgqs\",\"nrfbw\",\"xqgtn\",\"graiu\",\"dgsvn\",\"qdxio\",\"rhcxb\",\"zzlux\",\"ktxlh\",\"bebqp\",\"lvrpy\",\"jovee\",\"ltphk\",\"lrrzx\",\"sdkaa\",\"uhbcy\",\"swore\",\"gmufm\",\"bjwts\",\"aucfo\",\"jipgp\",\"graiu\",\"unbxj\",\"rjriw\",\"jklik\",\"iuwjo\",\"pykmo\",\"qdxio\",\"bpvmw\",\"puzrg\",\"khdcv\",\"dgsvn\",\"bebqp\",\"swore\",\"bjwts\",\"gaxry\",\"mfein\",\"qjzzg\",\"jwelp\",\"sdkaa\",\"aucfo\",\"xgqqm\",\"khdcv\",\"hmcir\",\"graiu\",\"unbxj\",\"pykmo\",\"lrrzx\",\"rjriw\",\"jipgp\",\"wqraj\",\"ktxlh\",\"oixnf\"],\n",
       "'g':[\"b\",\"b\",\"b\",\"b\",\"b\",\"b\",\"b\",\"b\",\"b\",\"b\",\"b\",\"b\",\"b\",\"b\",\"b\",\"b\",\"b\",\"b\",\"b\",\"b\",\"b\",\"b\",\"b\",\"b\",\"b\",\"b\",\"b\",\"b\",\"b\",\"b\",\"b\",\"b\",\"b\",\"b\",\"b\",\"b\",\"b\",\"b\",\"b\",\"b\",\"b\",\"b\",\"b\",\"b\",\"b\",\"b\",\"b\",\"b\",\"b\",\"b\",\"c\",\"c\",\"c\",\"c\",\"c\",\"c\",\"c\",\"c\",\"c\",\"c\",\"c\",\"c\",\"c\",\"c\",\"c\",\"c\",\"c\",\"c\",\"c\",\"c\",\"c\",\"c\",\"c\",\"c\",\"c\",\"a\",\"a\",\"a\",\"a\",\"a\",\"a\",\"a\",\"a\",\"a\",\"a\",\"a\",\"a\",\"a\",\"a\",\"a\",\"a\",\"a\",\"a\",\"a\",\"a\",\"a\",\"a\"]\n",
       "}\n",
       "}],\n",
       "'computation_messages':[\"sampling_pick(n=50) was applied to [bar/count stat] layer\"]\n",
       "};\n",
       "                    var plotContainer = document.getElementById(\"plot_output_SUI7ui\");\n",
       "                    window.letsPlotCall(function() {{\n",
       "                        DatalorePlot.buildPlotFromProcessedSpecs(plotSpec, -1, -1, plotContainer);\n",
       "                    }});\n",
       "                })();    \n",
       "            </script>\n",
       "        "
      ],
      "text/plain": [
       "<lets_plot.plot.core.PlotSpec at 0x1221d8b50>"
      ]
     },
     "execution_count": 12,
     "metadata": {},
     "output_type": "execute_result"
    }
   ],
   "source": [
    "# 'pick' sampling handles groups on bar chart correctly.\n",
    "p + geom_bar(aes(fill='g'))"
   ]
  }
 ],
 "metadata": {
  "kernelspec": {
   "display_name": "Python 3",
   "language": "python",
   "name": "python3"
  },
  "language_info": {
   "codemirror_mode": {
    "name": "ipython",
    "version": 3
   },
   "file_extension": ".py",
   "mimetype": "text/x-python",
   "name": "python",
   "nbconvert_exporter": "python",
   "pygments_lexer": "ipython3",
   "version": "3.7.5"
  }
 },
 "nbformat": 4,
 "nbformat_minor": 1
}
