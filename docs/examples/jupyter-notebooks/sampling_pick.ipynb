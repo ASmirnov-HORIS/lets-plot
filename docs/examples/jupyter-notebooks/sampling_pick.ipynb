{
 "cells": [
  {
   "cell_type": "markdown",
   "metadata": {},
   "source": [
    "<em><sub>This page is available as an executable or viewable <strong>Jupyter Notebook</strong>:</sub></em>\n",
    "<br/><br/>\n",
    "<a href=\"https://mybinder.org/v2/gh/JetBrains/lets-plot/v1.2.0demos1?filepath=docs%2Fexamples%2Fjupyter-notebooks%2Fsampling_pick.ipynb\"\n",
    "   target=\"_parent\"> \n",
    "   <img align=\"left\" \n",
    "        src=\"https://mybinder.org/badge_logo.svg\">\n",
    "</a>\n",
    "<a href=\"https://nbviewer.jupyter.org/github/JetBrains/lets-plot/blob/master/docs/examples/jupyter-notebooks/sampling_pick.ipynb\" \n",
    "   target=\"_parent\"> \n",
    "   <img align=\"right\" \n",
    "        src=\"https://raw.githubusercontent.com/jupyter/design/master/logos/Badges/nbviewer_badge.png\" \n",
    "        width=\"109\" height=\"20\">\n",
    "</a>\n",
    "<br/>\n",
    "<br/>\n",
    "\n",
    "\n",
    "## Pick Sampling"
   ]
  },
  {
   "cell_type": "code",
   "execution_count": 7,
   "metadata": {},
   "outputs": [
    {
     "data": {
      "text/html": [
       "\n",
       "            <div id=\"c8HmnC\"></div>\n",
       "            <script type=\"text/javascript\">\n",
       "                if(!window.letsPlotCallQueue) {\n",
       "                    window.letsPlotCallQueue = [];\n",
       "                }; \n",
       "                window.letsPlotCall = function(f) {\n",
       "                    window.letsPlotCallQueue.push(f);\n",
       "                };\n",
       "                (function() {\n",
       "                    var script = document.createElement(\"script\");\n",
       "                    script.type = \"text/javascript\";\n",
       "                    script.src = \"https://dl.bintray.com/jetbrains/lets-plot/lets-plot-1.2.0rc2.min.js\";\n",
       "                    script.onload = function() {\n",
       "                        window.letsPlotCall = function(f) {f();};\n",
       "                        window.letsPlotCallQueue.forEach(function(f) {f();});\n",
       "                        window.letsPlotCallQueue = [];\n",
       "                        \n",
       "            var div = document.createElement(\"div\");\n",
       "            div.style.color = 'darkblue';\n",
       "            div.textContent = 'Lets-Plot JS successfully loaded.';\n",
       "            document.getElementById(\"c8HmnC\").appendChild(div);\n",
       "        \n",
       "                    };\n",
       "                    script.onerror = function(event) {\n",
       "                        window.letsPlotCall = function(f) {};    // noop\n",
       "                        window.letsPlotCallQueue = [];\n",
       "                        var div = document.createElement(\"div\");\n",
       "                        div.style.color = 'darkred';\n",
       "                        div.textContent = 'Error loading Lets-Plot JS';\n",
       "                        document.getElementById(\"c8HmnC\").appendChild(div);\n",
       "                    };\n",
       "                    var e = document.getElementById(\"c8HmnC\");\n",
       "                    e.appendChild(script);\n",
       "                })()\n",
       "            </script>\n",
       "            "
      ]
     },
     "metadata": {},
     "output_type": "display_data"
    }
   ],
   "source": [
    "import numpy as np\n",
    "from lets_plot import *\n",
    "import random, string\n",
    "\n",
    "load_lets_plot_js()"
   ]
  },
  {
   "cell_type": "code",
   "execution_count": 8,
   "metadata": {},
   "outputs": [],
   "source": [
    "def gen_word(length):\n",
    "    letters = string.ascii_lowercase\n",
    "    return ''.join(random.choice(letters) for _ in range(length))\n",
    "\n",
    "def gen_word_set(n):\n",
    "    random.seed(1)\n",
    "    word_set = set()\n",
    "    while len(word_set) < n:\n",
    "        word_set.add(gen_word(5))\n",
    "    return word_set\n",
    "\n",
    "def data(n, word_set):\n",
    "    word_choice = list(word_set)\n",
    "    words=[]\n",
    "    groups = []\n",
    "    for _ in range(n):\n",
    "        words.append(np.random.choice(word_choice))\n",
    "        groups.append(np.random.choice(['a','b','c']))\n",
    "\n",
    "    return dict(word=words, g=groups)"
   ]
  },
  {
   "cell_type": "code",
   "execution_count": 9,
   "metadata": {},
   "outputs": [],
   "source": [
    "# Number of unique words exceeds threshold (50) of default 'pick' sampling on bar chart.\n",
    "N = 500\n",
    "word_set = gen_word_set(N)\n",
    "dat = data(1000, word_set)\n",
    "p = ggplot(dat, aes(x='word'))"
   ]
  },
  {
   "cell_type": "code",
   "execution_count": 10,
   "metadata": {},
   "outputs": [
    {
     "data": {
      "text/html": [
       "   <div id=\"GND49P\"></div>\n",
       "   <script type=\"text/javascript\">\n",
       "       (function() {\n",
       "           var plotSpec={\n",
       "'data':{\n",
       "},\n",
       "'mapping':{\n",
       "'x':\"word\"\n",
       "},\n",
       "'kind':\"plot\",\n",
       "'scales':[],\n",
       "'layers':[{\n",
       "'geom':\"bar\",\n",
       "'sampling':\"none\",\n",
       "'data':{\n",
       "'..count..':[2.0,2.0,3.0,3.0,4.0,4.0,6.0,4.0,2.0,4.0,3.0,1.0,2.0,4.0,2.0,2.0,4.0,4.0,2.0,2.0,5.0,3.0,4.0,2.0,2.0,3.0,6.0,4.0,6.0,5.0,4.0,4.0,4.0,4.0,1.0,4.0,4.0,3.0,2.0,4.0,3.0,3.0,3.0,2.0,2.0,3.0,2.0,4.0,2.0,1.0,3.0,2.0,1.0,3.0,3.0,4.0,3.0,3.0,2.0,1.0,2.0,3.0,2.0,4.0,3.0,2.0,3.0,3.0,5.0,5.0,2.0,4.0,1.0,4.0,3.0,3.0,4.0,1.0,2.0,3.0,1.0,2.0,2.0,3.0,5.0,1.0,3.0,3.0,3.0,7.0,2.0,3.0,3.0,1.0,1.0,3.0,1.0,2.0,2.0,2.0,1.0,4.0,4.0,1.0,5.0,2.0,5.0,2.0,5.0,4.0,3.0,4.0,2.0,3.0,2.0,4.0,4.0,2.0,1.0,1.0,2.0,4.0,2.0,1.0,3.0,3.0,6.0,2.0,2.0,3.0,4.0,3.0,4.0,1.0,6.0,2.0,6.0,3.0,1.0,4.0,1.0,3.0,3.0,3.0,3.0,3.0,2.0,7.0,2.0,2.0,3.0,3.0,2.0,7.0,4.0,4.0,2.0,1.0,2.0,1.0,3.0,3.0,2.0,2.0,3.0,1.0,2.0,1.0,3.0,4.0,1.0,3.0,6.0,6.0,2.0,3.0,3.0,3.0,2.0,2.0,3.0,1.0,2.0,4.0,3.0,5.0,4.0,2.0,1.0,2.0,2.0,2.0,2.0,3.0,1.0,2.0,5.0,4.0,1.0,2.0,2.0,1.0,3.0,4.0,2.0,2.0,4.0,2.0,5.0,2.0,2.0,1.0,2.0,2.0,1.0,2.0,3.0,1.0,1.0,4.0,1.0,2.0,3.0,4.0,1.0,3.0,2.0,2.0,2.0,3.0,4.0,2.0,2.0,4.0,3.0,2.0,2.0,2.0,2.0,3.0,1.0,1.0,3.0,3.0,2.0,2.0,1.0,2.0,2.0,1.0,1.0,1.0,2.0,2.0,4.0,3.0,2.0,3.0,4.0,1.0,4.0,1.0,1.0,3.0,2.0,4.0,1.0,5.0,4.0,3.0,1.0,2.0,1.0,3.0,2.0,2.0,3.0,1.0,3.0,1.0,1.0,1.0,4.0,2.0,3.0,3.0,2.0,3.0,2.0,2.0,4.0,4.0,2.0,1.0,4.0,2.0,1.0,1.0,3.0,2.0,2.0,1.0,1.0,3.0,3.0,3.0,2.0,3.0,1.0,1.0,3.0,2.0,2.0,1.0,2.0,3.0,2.0,1.0,1.0,3.0,1.0,1.0,2.0,1.0,1.0,3.0,1.0,1.0,1.0,2.0,2.0,2.0,4.0,1.0,2.0,1.0,2.0,1.0,3.0,2.0,2.0,1.0,1.0,2.0,1.0,1.0,1.0,1.0,2.0,2.0,1.0,1.0,1.0,1.0,1.0,1.0,1.0,2.0,1.0,1.0,2.0,2.0,3.0,1.0,2.0,1.0,3.0,1.0,1.0,1.0,2.0,1.0,1.0,1.0,1.0,1.0,1.0,4.0,1.0,1.0,2.0,1.0,1.0,2.0,2.0,1.0,1.0,2.0,2.0,1.0,2.0,2.0,1.0,1.0,2.0,1.0,1.0,2.0,2.0,3.0,1.0,1.0,1.0,1.0,1.0,1.0,1.0,2.0,1.0,1.0,1.0,1.0,1.0,1.0,1.0,1.0,2.0,1.0,1.0,1.0,1.0,1.0,1.0,1.0,1.0,1.0,1.0,1.0],\n",
       "'word':[\"lnlar\",\"inxrj\",\"sjoje\",\"eszyc\",\"firba\",\"fiqfv\",\"jeeqd\",\"amkfi\",\"zgidi\",\"egbjc\",\"hlcic\",\"pumzg\",\"cmzee\",\"wfdhm\",\"kvidt\",\"yocus\",\"hdwgw\",\"ktmja\",\"uupky\",\"scilj\",\"zkcjb\",\"hdses\",\"pdvef\",\"uqnfg\",\"dgicu\",\"ekjdw\",\"pgmxr\",\"ybtnn\",\"jeoip\",\"uihgd\",\"qzass\",\"xmmnv\",\"rvnvx\",\"wqxto\",\"cxcau\",\"hbszs\",\"agqos\",\"uhbcy\",\"gysmv\",\"lwibr\",\"sifyx\",\"zadsx\",\"sesee\",\"xqici\",\"xwgfj\",\"rgqnp\",\"neafi\",\"qmadk\",\"yivoz\",\"hqiiw\",\"eqyrg\",\"kzets\",\"ufrsf\",\"xkyru\",\"ijvvz\",\"frgjg\",\"spdeu\",\"ziymr\",\"znrfw\",\"jsztc\",\"pazun\",\"lqavm\",\"uovux\",\"ktppk\",\"oqrxs\",\"sgpdv\",\"pdumm\",\"lxuwh\",\"rsmgo\",\"uxjdx\",\"ezvba\",\"khiqb\",\"mwmzg\",\"eeihg\",\"niqjx\",\"pzzwb\",\"uojyd\",\"ziudi\",\"rwyvx\",\"jklik\",\"zfrlp\",\"niipw\",\"deewi\",\"zwnvr\",\"xlcur\",\"uzwqo\",\"qbmgl\",\"oixnf\",\"zhnfv\",\"kadow\",\"uyvxg\",\"qulfq\",\"tlyoi\",\"mnvfl\",\"evsbl\",\"dnush\",\"juanx\",\"mzxqz\",\"pxhuu\",\"amioi\",\"zztsd\",\"nbpls\",\"ydkbn\",\"zgvuc\",\"nmtob\",\"fhhjo\",\"ihmxr\",\"hpomy\",\"afklg\",\"ahame\",\"nxvsb\",\"pykmo\",\"yfiua\",\"yzkcq\",\"rnrgw\",\"lvrpy\",\"oxplp\",\"ppedq\",\"zifyc\",\"xawdz\",\"bsmie\",\"ybwkn\",\"hvatm\",\"ymvqz\",\"wjrlf\",\"nsiea\",\"rbuls\",\"tpdem\",\"tqzss\",\"bwswv\",\"iiuuh\",\"eiiil\",\"zsnfd\",\"kxwqn\",\"flntw\",\"pilei\",\"idpyo\",\"lnmjv\",\"hmznm\",\"cpucr\",\"rxbqc\",\"couja\",\"qhyop\",\"dpamn\",\"turch\",\"yvacc\",\"ajyzl\",\"lvsyy\",\"dyfqm\",\"srdoi\",\"hyaaj\",\"xbnog\",\"qhayg\",\"xfglm\",\"otazh\",\"cdtqs\",\"zuxet\",\"mcsrh\",\"zgufq\",\"otvqg\",\"rtztk\",\"ygvbp\",\"hquam\",\"afqwf\",\"wkppd\",\"fsosx\",\"zurkn\",\"whitw\",\"kkqzm\",\"zekng\",\"mljyk\",\"jipgp\",\"estev\",\"rqhni\",\"qkdnl\",\"phwnk\",\"kzxvs\",\"graiu\",\"dkkly\",\"qkdlz\",\"cejrx\",\"tphno\",\"dzbgh\",\"ueuym\",\"ardjq\",\"ubmcr\",\"sizhw\",\"wpesr\",\"zapkm\",\"iroro\",\"rqntu\",\"txxxq\",\"tqebk\",\"ndygs\",\"rictz\",\"erxby\",\"iaomz\",\"chhaz\",\"twgfq\",\"vdqfr\",\"uaapb\",\"wikps\",\"ruqbl\",\"spqms\",\"rwmar\",\"sabwl\",\"bsfvd\",\"drlfd\",\"facnt\",\"grnwh\",\"rjriw\",\"ktzvr\",\"cwqvl\",\"ldkbe\",\"mkmcc\",\"ajmkn\",\"nrudf\",\"czsrt\",\"lszjn\",\"hyoja\",\"pkdgu\",\"wpvli\",\"hidzt\",\"qewsi\",\"gotqn\",\"nbloa\",\"cjjxf\",\"yruoq\",\"nwink\",\"brbqe\",\"ftyfx\",\"leszj\",\"sjhkd\",\"oipol\",\"terwk\",\"tfejp\",\"spiee\",\"ejgvx\",\"cwfin\",\"dgcba\",\"bgnbb\",\"mkqnl\",\"xgwqw\",\"tvnil\",\"pemwd\",\"hycqf\",\"mkpdf\",\"vhiyc\",\"xxqqa\",\"pzitk\",\"zzlux\",\"jwelp\",\"raoyb\",\"dseqq\",\"mjqpa\",\"dbsqa\",\"aucfo\",\"iimsm\",\"myods\",\"gnira\",\"mdvoj\",\"lrrzx\",\"bjwts\",\"ivdmr\",\"bkfkz\",\"mcmzq\",\"oqrxb\",\"xdnmz\",\"oljym\",\"amndz\",\"bufvv\",\"xlivu\",\"ixtxy\",\"dzbja\",\"rndvj\",\"rnvcw\",\"wgcuc\",\"ktodi\",\"clcvo\",\"gztyr\",\"wcmuw\",\"rrchm\",\"qilkk\",\"dayxv\",\"xuecq\",\"vlrgz\",\"ulmjo\",\"kzksc\",\"sxwxc\",\"cifde\",\"vszkv\",\"gjwwu\",\"esesd\",\"escbj\",\"voznr\",\"ftchp\",\"qvsat\",\"khdcv\",\"gmufm\",\"csevg\",\"hsgqs\",\"hmrmf\",\"vffye\",\"msaqg\",\"naslp\",\"omdte\",\"mlxfh\",\"itjgq\",\"nomrd\",\"hmcir\",\"wzjhg\",\"igcux\",\"qdxsn\",\"mbxik\",\"squcc\",\"giykt\",\"ozwhu\",\"feyew\",\"rtxui\",\"fzeud\",\"afqkq\",\"ofvhf\",\"riltx\",\"rbove\",\"rjcqj\",\"fjuxw\",\"gnrut\",\"nrfbw\",\"jovee\",\"qdekx\",\"vrtxa\",\"wwxot\",\"fljcf\",\"lpbrp\",\"vvwco\",\"sdkaa\",\"yzgjj\",\"ypgwp\",\"misoa\",\"egehx\",\"kvhzv\",\"bsqcs\",\"mqlgh\",\"mywoa\",\"bvcca\",\"djhty\",\"rgijs\",\"rbsgs\",\"gsxyz\",\"ceffr\",\"etioq\",\"hcurw\",\"xeizm\",\"iuwjo\",\"sxklz\",\"lpxap\",\"tqdfh\",\"ukhmj\",\"wqraj\",\"fkoet\",\"hneei\",\"xgqqm\",\"cxhiv\",\"dvkia\",\"qtjeg\",\"nhzbq\",\"fgkzs\",\"vjcdh\",\"nhqrg\",\"mqpcm\",\"rtszt\",\"yueza\",\"hhkpv\",\"jxtko\",\"okqzr\",\"ltphk\",\"fkvhc\",\"divif\",\"txqps\",\"pzykl\",\"tvacn\",\"uwxzh\",\"iriqi\",\"ytali\",\"kitlb\",\"qvgjj\",\"cgapu\",\"anjsx\",\"igfje\",\"ktxlh\",\"xceyt\",\"wcyuh\",\"sjgmf\",\"kbaaz\",\"yrrff\",\"tyyaw\",\"knyhz\",\"vjnka\",\"xmcsz\",\"kdtsz\",\"ofywt\",\"qvnrh\",\"dupbq\",\"unbxj\",\"biydn\",\"jfezm\",\"dpybu\",\"mfein\",\"rhcxb\",\"vqpmd\",\"whzth\",\"tkrqf\",\"ylriz\",\"brtqe\",\"yvnmi\",\"xqgtn\",\"rcrkk\",\"knxfr\",\"sedfy\",\"pgdnt\",\"lbudx\",\"rrhmq\",\"aauth\",\"foqbi\",\"qjzzg\",\"swore\",\"bxfow\",\"lediy\"]\n",
       "}\n",
       "}]\n",
       "};\n",
       "           var plotContainer = document.getElementById(\"GND49P\");\n",
       "           window.letsPlotCall(function() {{\n",
       "               LetsPlot.buildPlotFromProcessedSpecs(plotSpec, -1, -1, plotContainer);\n",
       "           }});\n",
       "       })();    \n",
       "   </script>"
      ],
      "text/plain": [
       "<lets_plot.plot.core.PlotSpec at 0x113503b10>"
      ]
     },
     "execution_count": 10,
     "metadata": {},
     "output_type": "execute_result"
    }
   ],
   "source": [
    "# Disable sampling to see raw plot\n",
    "p + geom_bar(sampling='none')"
   ]
  },
  {
   "cell_type": "code",
   "execution_count": 11,
   "metadata": {},
   "outputs": [
    {
     "data": {
      "text/html": [
       "   <div id=\"yS9GDl\"></div>\n",
       "   <script type=\"text/javascript\">\n",
       "       (function() {\n",
       "           var plotSpec={\n",
       "'data':{\n",
       "},\n",
       "'mapping':{\n",
       "'x':\"word\"\n",
       "},\n",
       "'kind':\"plot\",\n",
       "'scales':[],\n",
       "'layers':[{\n",
       "'geom':\"bar\",\n",
       "'data':{\n",
       "'..count..':[2.0,2.0,3.0,3.0,4.0,4.0,6.0,4.0,2.0,4.0,3.0,1.0,2.0,4.0,2.0,2.0,4.0,4.0,2.0,2.0,5.0,3.0,4.0,2.0,2.0,3.0,6.0,4.0,6.0,5.0,4.0,4.0,4.0,4.0,1.0,4.0,4.0,3.0,2.0,4.0,3.0,3.0,3.0,2.0,2.0,3.0,2.0,4.0,2.0,1.0],\n",
       "'word':[\"lnlar\",\"inxrj\",\"sjoje\",\"eszyc\",\"firba\",\"fiqfv\",\"jeeqd\",\"amkfi\",\"zgidi\",\"egbjc\",\"hlcic\",\"pumzg\",\"cmzee\",\"wfdhm\",\"kvidt\",\"yocus\",\"hdwgw\",\"ktmja\",\"uupky\",\"scilj\",\"zkcjb\",\"hdses\",\"pdvef\",\"uqnfg\",\"dgicu\",\"ekjdw\",\"pgmxr\",\"ybtnn\",\"jeoip\",\"uihgd\",\"qzass\",\"xmmnv\",\"rvnvx\",\"wqxto\",\"cxcau\",\"hbszs\",\"agqos\",\"uhbcy\",\"gysmv\",\"lwibr\",\"sifyx\",\"zadsx\",\"sesee\",\"xqici\",\"xwgfj\",\"rgqnp\",\"neafi\",\"qmadk\",\"yivoz\",\"hqiiw\"]\n",
       "}\n",
       "}],\n",
       "'computation_messages':[\"sampling_pick(n=50) was applied to [bar/count stat] layer\"]\n",
       "};\n",
       "           var plotContainer = document.getElementById(\"yS9GDl\");\n",
       "           window.letsPlotCall(function() {{\n",
       "               LetsPlot.buildPlotFromProcessedSpecs(plotSpec, -1, -1, plotContainer);\n",
       "           }});\n",
       "       })();    \n",
       "   </script>"
      ],
      "text/plain": [
       "<lets_plot.plot.core.PlotSpec at 0x1135120d0>"
      ]
     },
     "execution_count": 11,
     "metadata": {},
     "output_type": "execute_result"
    }
   ],
   "source": [
    "# Draw plot with default sampling enabled\n",
    "p + geom_bar()"
   ]
  },
  {
   "cell_type": "code",
   "execution_count": 12,
   "metadata": {},
   "outputs": [
    {
     "data": {
      "text/html": [
       "   <div id=\"9H0Yfz\"></div>\n",
       "   <script type=\"text/javascript\">\n",
       "       (function() {\n",
       "           var plotSpec={\n",
       "'data':{\n",
       "},\n",
       "'mapping':{\n",
       "'x':\"word\"\n",
       "},\n",
       "'kind':\"plot\",\n",
       "'scales':[],\n",
       "'layers':[{\n",
       "'geom':\"bar\",\n",
       "'mapping':{\n",
       "'fill':\"g\"\n",
       "},\n",
       "'data':{\n",
       "'..count..':[2.0,1.0,1.0,1.0,1.0,1.0,2.0,1.0,1.0,5.0,2.0,3.0,1.0,3.0,1.0,2.0,2.0,1.0,1.0,1.0,1.0,2.0,2.0,1.0,3.0,1.0,2.0,3.0,2.0,4.0,1.0,1.0,5.0,1.0,1.0,1.0,2.0,2.0,1.0,1.0,3.0,1.0,2.0,1.0,2.0,1.0,2.0,3.0,1.0,1.0,2.0,1.0,2.0,1.0,1.0,3.0,1.0,2.0,2.0,1.0,1.0,1.0,1.0,1.0,3.0,1.0,1.0,1.0,1.0,1.0,1.0,1.0,2.0,2.0,1.0,1.0,1.0,1.0,2.0,1.0,1.0,2.0,1.0,1.0,2.0,1.0,2.0,2.0,1.0,1.0,2.0,2.0,3.0,1.0,1.0,1.0,1.0,1.0,1.0,1.0,1.0,1.0,1.0,1.0,1.0],\n",
       "'word':[\"lnlar\",\"firba\",\"pumzg\",\"yocus\",\"uupky\",\"scilj\",\"hdses\",\"pdvef\",\"uqnfg\",\"pgmxr\",\"ybtnn\",\"rvnvx\",\"wqxto\",\"jeeqd\",\"hbszs\",\"agqos\",\"lwibr\",\"xqici\",\"yivoz\",\"hqiiw\",\"eqyrg\",\"xkyru\",\"ijvvz\",\"frgjg\",\"ziymr\",\"uovux\",\"pdumm\",\"rsmgo\",\"egbjc\",\"uojyd\",\"niipw\",\"oixnf\",\"kadow\",\"uyvxg\",\"tlyoi\",\"ktppk\",\"ahame\",\"pykmo\",\"lvrpy\",\"nxvsb\",\"oxplp\",\"zifyc\",\"hvatm\",\"wjrlf\",\"nsiea\",\"rbuls\",\"tpdem\",\"zsnfd\",\"kxwqn\",\"pilei\",\"jeeqd\",\"egbjc\",\"lwibr\",\"rvnvx\",\"pdvef\",\"hbszs\",\"eqyrg\",\"ktppk\",\"frgjg\",\"agqos\",\"hdses\",\"zsnfd\",\"pykmo\",\"pdumm\",\"rbuls\",\"oxplp\",\"wqxto\",\"wjrlf\",\"xkyru\",\"rsmgo\",\"uqnfg\",\"xqici\",\"kadow\",\"lvrpy\",\"nxvsb\",\"uyvxg\",\"uupky\",\"uovux\",\"pdvef\",\"ktppk\",\"nxvsb\",\"ahame\",\"frgjg\",\"wjrlf\",\"oixnf\",\"lvrpy\",\"ybtnn\",\"wqxto\",\"rsmgo\",\"nsiea\",\"tlyoi\",\"rbuls\",\"firba\",\"yocus\",\"egbjc\",\"scilj\",\"agqos\",\"niipw\",\"pilei\",\"jeeqd\",\"ijvvz\",\"eqyrg\",\"yivoz\",\"pykmo\",\"pgmxr\"],\n",
       "'g':[\"c\",\"c\",\"c\",\"c\",\"c\",\"c\",\"c\",\"c\",\"c\",\"c\",\"c\",\"c\",\"c\",\"c\",\"c\",\"c\",\"c\",\"c\",\"c\",\"c\",\"c\",\"c\",\"c\",\"c\",\"c\",\"c\",\"c\",\"c\",\"c\",\"c\",\"c\",\"c\",\"c\",\"c\",\"c\",\"c\",\"c\",\"c\",\"c\",\"c\",\"c\",\"c\",\"c\",\"c\",\"c\",\"c\",\"c\",\"c\",\"c\",\"c\",\"a\",\"a\",\"a\",\"a\",\"a\",\"a\",\"a\",\"a\",\"a\",\"a\",\"a\",\"a\",\"a\",\"a\",\"a\",\"a\",\"a\",\"a\",\"a\",\"a\",\"a\",\"a\",\"a\",\"a\",\"a\",\"a\",\"a\",\"a\",\"b\",\"b\",\"b\",\"b\",\"b\",\"b\",\"b\",\"b\",\"b\",\"b\",\"b\",\"b\",\"b\",\"b\",\"b\",\"b\",\"b\",\"b\",\"b\",\"b\",\"b\",\"b\",\"b\",\"b\",\"b\",\"b\",\"b\"]\n",
       "}\n",
       "}],\n",
       "'computation_messages':[\"sampling_pick(n=50) was applied to [bar/count stat] layer\"]\n",
       "};\n",
       "           var plotContainer = document.getElementById(\"9H0Yfz\");\n",
       "           window.letsPlotCall(function() {{\n",
       "               LetsPlot.buildPlotFromProcessedSpecs(plotSpec, -1, -1, plotContainer);\n",
       "           }});\n",
       "       })();    \n",
       "   </script>"
      ],
      "text/plain": [
       "<lets_plot.plot.core.PlotSpec at 0x1135125d0>"
      ]
     },
     "execution_count": 12,
     "metadata": {},
     "output_type": "execute_result"
    }
   ],
   "source": [
    "# 'pick' sampling handles groups on bar chart correctly.\n",
    "p + geom_bar(aes(fill='g'))"
   ]
  }
 ],
 "metadata": {
  "kernelspec": {
   "display_name": "Python 3",
   "language": "python",
   "name": "python3"
  },
  "language_info": {
   "codemirror_mode": {
    "name": "ipython",
    "version": 3
   },
   "file_extension": ".py",
   "mimetype": "text/x-python",
   "name": "python",
   "nbconvert_exporter": "python",
   "pygments_lexer": "ipython3",
   "version": "3.7.6"
  },
  "pycharm": {
   "stem_cell": {
    "cell_type": "raw",
    "metadata": {
     "collapsed": false
    },
    "source": []
   }
  }
 },
 "nbformat": 4,
 "nbformat_minor": 1
}
