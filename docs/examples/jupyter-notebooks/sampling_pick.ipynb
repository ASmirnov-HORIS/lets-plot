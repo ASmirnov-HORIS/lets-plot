{
 "cells": [
  {
   "cell_type": "markdown",
   "metadata": {},
   "source": [
    "## Pick Sampling"
   ]
  },
  {
   "cell_type": "code",
   "execution_count": 1,
   "metadata": {},
   "outputs": [
    {
     "data": {
      "text/html": [
       "\n",
       "            <div id=\"hrftSz\"></div>\n",
       "            <script type=\"text/javascript\">\n",
       "                if(!window.letsPlotCallQueue) {\n",
       "                    window.letsPlotCallQueue = [];\n",
       "                }; \n",
       "                window.letsPlotCall = function(f) {\n",
       "                    window.letsPlotCallQueue.push(f);\n",
       "                };\n",
       "                (function() {\n",
       "                    var script = document.createElement(\"script\");\n",
       "                    script.type = \"text/javascript\";\n",
       "                    script.src = \"https://dl.bintray.com/jetbrains/lets-plot/lets-plot-1.0.0rc1.min.js\";\n",
       "                    script.onload = function() {\n",
       "                        window.letsPlotCall = function(f) {f();};\n",
       "                        window.letsPlotCallQueue.forEach(function(f) {f();});\n",
       "                        window.letsPlotCallQueue = [];\n",
       "                        \n",
       "            var div = document.createElement(\"div\");\n",
       "            div.style.color = 'darkblue';\n",
       "            div.textContent = 'Lets-Plot JS successfully loaded.';\n",
       "            document.getElementById(\"hrftSz\").appendChild(div);\n",
       "        \n",
       "                    };\n",
       "                    script.onerror = function(event) {\n",
       "                        window.letsPlotCall = function(f) {};    // noop\n",
       "                        window.letsPlotCallQueue = [];\n",
       "                        var div = document.createElement(\"div\");\n",
       "                        div.style.color = 'darkred';\n",
       "                        div.textContent = 'Error loading Lets-Plot JS';\n",
       "                        document.getElementById(\"hrftSz\").appendChild(div);\n",
       "                    };\n",
       "                    var e = document.getElementById(\"hrftSz\");\n",
       "                    e.appendChild(script);\n",
       "                })()\n",
       "            </script>\n",
       "            "
      ]
     },
     "metadata": {},
     "output_type": "display_data"
    }
   ],
   "source": [
    "import numpy as np\n",
    "from lets_plot import *\n",
    "import random, string\n",
    "\n",
    "load_lets_plot_js()"
   ]
  },
  {
   "cell_type": "code",
   "execution_count": 2,
   "metadata": {},
   "outputs": [],
   "source": [
    "def gen_word(length):\n",
    "    letters = string.ascii_lowercase\n",
    "    return ''.join(random.choice(letters) for _ in range(length))\n",
    "\n",
    "def gen_word_set(n):\n",
    "    random.seed(1)\n",
    "    word_set = set()\n",
    "    while len(word_set) < n:\n",
    "        word_set.add(gen_word(5))\n",
    "    return word_set\n",
    "\n",
    "def data(n, word_set):\n",
    "    word_choice = list(word_set)\n",
    "    words=[]\n",
    "    groups = []\n",
    "    for _ in range(n):\n",
    "        words.append(np.random.choice(word_choice))\n",
    "        groups.append(np.random.choice(['a','b','c']))\n",
    "\n",
    "    return dict(word=words, g=groups)"
   ]
  },
  {
   "cell_type": "code",
   "execution_count": 3,
   "metadata": {},
   "outputs": [],
   "source": [
    "# Number of unique words exceeds threshold (50) of default 'pick' sampling on bar chart.\n",
    "N = 500\n",
    "word_set = gen_word_set(N)\n",
    "dat = data(1000, word_set)\n",
    "p = ggplot(dat, aes(x='word'))"
   ]
  },
  {
   "cell_type": "code",
   "execution_count": 4,
   "metadata": {},
   "outputs": [
    {
     "data": {
      "text/html": [
       "\n",
       "            <div id=\"plot_output_rJz1gL\"></div>\n",
       "            <script type=\"text/javascript\">\n",
       "                (function() {\n",
       "                    var plotSpec={\n",
       "'data':{\n",
       "},\n",
       "'mapping':{\n",
       "'x':\"word\"\n",
       "},\n",
       "'kind':\"plot\",\n",
       "'scales':[],\n",
       "'layers':[{\n",
       "'geom':\"bar\",\n",
       "'sampling':\"none\",\n",
       "'data':{\n",
       "'..count..':[2.0,2.0,3.0,4.0,2.0,4.0,2.0,2.0,3.0,5.0,4.0,6.0,3.0,1.0,4.0,4.0,5.0,3.0,2.0,3.0,2.0,3.0,2.0,6.0,1.0,2.0,4.0,4.0,2.0,5.0,2.0,4.0,2.0,7.0,4.0,2.0,3.0,3.0,4.0,3.0,3.0,3.0,3.0,3.0,3.0,2.0,5.0,2.0,2.0,5.0,2.0,3.0,6.0,3.0,5.0,2.0,3.0,2.0,3.0,2.0,4.0,3.0,1.0,3.0,3.0,1.0,1.0,4.0,3.0,2.0,4.0,3.0,2.0,3.0,2.0,5.0,4.0,2.0,4.0,2.0,4.0,3.0,2.0,4.0,1.0,3.0,4.0,3.0,2.0,4.0,2.0,4.0,4.0,3.0,2.0,2.0,4.0,4.0,1.0,4.0,2.0,3.0,2.0,1.0,2.0,3.0,6.0,3.0,2.0,3.0,3.0,2.0,1.0,2.0,5.0,2.0,4.0,5.0,4.0,1.0,1.0,3.0,2.0,3.0,2.0,3.0,2.0,4.0,5.0,5.0,2.0,1.0,2.0,3.0,4.0,3.0,2.0,1.0,2.0,3.0,1.0,2.0,4.0,4.0,3.0,4.0,5.0,6.0,3.0,2.0,1.0,4.0,1.0,6.0,5.0,5.0,3.0,3.0,2.0,3.0,2.0,1.0,4.0,4.0,3.0,1.0,3.0,4.0,1.0,3.0,3.0,5.0,3.0,4.0,2.0,4.0,2.0,2.0,1.0,2.0,3.0,2.0,3.0,2.0,3.0,2.0,3.0,2.0,4.0,2.0,3.0,4.0,4.0,3.0,5.0,2.0,1.0,2.0,2.0,2.0,2.0,2.0,1.0,2.0,1.0,3.0,2.0,1.0,3.0,3.0,3.0,3.0,3.0,2.0,1.0,2.0,2.0,2.0,1.0,3.0,6.0,3.0,3.0,4.0,1.0,1.0,3.0,5.0,2.0,2.0,2.0,3.0,1.0,1.0,1.0,3.0,2.0,1.0,2.0,2.0,1.0,1.0,2.0,2.0,2.0,2.0,3.0,3.0,2.0,5.0,2.0,2.0,3.0,3.0,1.0,2.0,3.0,2.0,3.0,2.0,3.0,1.0,2.0,3.0,3.0,1.0,2.0,3.0,1.0,3.0,3.0,2.0,4.0,1.0,1.0,1.0,1.0,2.0,2.0,1.0,2.0,1.0,2.0,1.0,1.0,1.0,1.0,2.0,2.0,2.0,1.0,1.0,3.0,4.0,2.0,1.0,3.0,2.0,2.0,2.0,1.0,2.0,2.0,1.0,2.0,3.0,3.0,1.0,3.0,2.0,2.0,2.0,3.0,2.0,2.0,1.0,3.0,3.0,1.0,3.0,1.0,2.0,1.0,1.0,1.0,1.0,1.0,1.0,2.0,1.0,4.0,1.0,2.0,1.0,2.0,1.0,1.0,2.0,1.0,3.0,1.0,2.0,1.0,2.0,1.0,1.0,1.0,1.0,1.0,2.0,3.0,1.0,1.0,1.0,3.0,2.0,1.0,3.0,1.0,1.0,3.0,2.0,3.0,2.0,3.0,3.0,1.0,2.0,1.0,2.0,4.0,1.0,1.0,1.0,2.0,1.0,2.0,1.0,1.0,2.0,1.0,2.0,1.0,2.0,2.0,2.0,1.0,1.0,1.0,2.0,2.0,1.0,1.0,1.0,1.0,1.0,1.0,2.0,1.0,1.0,1.0,1.0,1.0,1.0,1.0,1.0,1.0,1.0,2.0,1.0,1.0,1.0,1.0,3.0,1.0,1.0,2.0,1.0,1.0,1.0,1.0,1.0,1.0,1.0,1.0,1.0],\n",
       "'word':[\"drviw\",\"gmufm\",\"tkrqf\",\"ukitx\",\"dgicu\",\"hcurw\",\"ceffr\",\"erxby\",\"bqkqw\",\"lbudx\",\"egbjc\",\"qdxsn\",\"wikps\",\"xceyt\",\"xuecq\",\"raoyb\",\"zztsd\",\"lwibr\",\"zylnm\",\"ylriz\",\"lacem\",\"ruqbl\",\"gztyr\",\"rictz\",\"gnira\",\"pdumm\",\"mbxik\",\"vlrgz\",\"ymvqz\",\"tqzss\",\"cmzee\",\"xfglm\",\"biydn\",\"sizhw\",\"cwfin\",\"unbxj\",\"yfiua\",\"nbpls\",\"qilkk\",\"ihmxr\",\"dkkly\",\"frgjg\",\"wkppd\",\"bufvv\",\"ueuym\",\"ixpbx\",\"gnrut\",\"lpxap\",\"yajth\",\"qewsi\",\"sabwl\",\"whdhk\",\"aeivh\",\"ulmjo\",\"jqebo\",\"hsgqs\",\"zekng\",\"uzwqo\",\"vjnka\",\"bjwts\",\"dbsqa\",\"xxqqa\",\"zsnfd\",\"pkdgu\",\"cdtqs\",\"hidzt\",\"xmcsz\",\"esesd\",\"oxplp\",\"rrchm\",\"lnlar\",\"mkqnl\",\"zkcjb\",\"oqrxb\",\"nmtob\",\"phwnk\",\"mfein\",\"vvwco\",\"tfejp\",\"evsbl\",\"ufrsf\",\"dayxv\",\"ejgvx\",\"misoa\",\"serom\",\"gjwwu\",\"xawdz\",\"ahame\",\"igcux\",\"eiiil\",\"qoser\",\"ixtxy\",\"tphno\",\"dpamn\",\"knyhz\",\"firba\",\"spiee\",\"bwswv\",\"mnvfl\",\"lqavm\",\"sxwxc\",\"utara\",\"yvacc\",\"inxrj\",\"nrudf\",\"wdsap\",\"vgnxa\",\"imcvs\",\"otazh\",\"grnwh\",\"uyvxg\",\"ivdmr\",\"ziudi\",\"chhaz\",\"vffye\",\"zgidi\",\"amioi\",\"juanx\",\"afqkq\",\"wjrlf\",\"kbaaz\",\"jovee\",\"uovux\",\"uxjdx\",\"dzbja\",\"lnmjv\",\"brgrn\",\"mkpdf\",\"scilj\",\"djhty\",\"mlxfh\",\"nhzbq\",\"rndvj\",\"kdtsz\",\"knxfr\",\"hycqf\",\"estev\",\"graiu\",\"oayyi\",\"deewi\",\"hqiiw\",\"ccxdj\",\"cjjxf\",\"agqos\",\"bbzta\",\"lvsyy\",\"feyew\",\"nrfbw\",\"mcmzq\",\"flntw\",\"rbuls\",\"hyaaj\",\"qjzzg\",\"iriqi\",\"okqzr\",\"pykmo\",\"vqpmd\",\"dvkia\",\"xlcur\",\"bvcca\",\"spqms\",\"qbmgl\",\"mdvoj\",\"lszjn\",\"hmrmf\",\"kzksc\",\"kzets\",\"sjgmf\",\"rhlhv\",\"hlcic\",\"bebqp\",\"tpdem\",\"hneei\",\"eszyc\",\"xmmnv\",\"ftqgq\",\"jxtko\",\"rnvcw\",\"ijvvz\",\"czsrt\",\"lxuwh\",\"kitlb\",\"zgufq\",\"sifyx\",\"cwqvl\",\"uihgd\",\"ezvba\",\"couja\",\"ydkbn\",\"lzxba\",\"fljcf\",\"whzth\",\"jfezm\",\"nxtbz\",\"vszkv\",\"srdoi\",\"fkoet\",\"oipol\",\"oljym\",\"afqwf\",\"gaxry\",\"mqlgh\",\"ktzvr\",\"hvatm\",\"pemwd\",\"yzkcq\",\"gzblo\",\"jipgp\",\"dpybu\",\"yruoq\",\"iuwjo\",\"wwazb\",\"tvacn\",\"nomrd\",\"bkfkz\",\"egehx\",\"hdses\",\"itjgq\",\"ofywt\",\"cejrx\",\"hhkpv\",\"uojyd\",\"rtszt\",\"rwmar\",\"ndygs\",\"wqxto\",\"xwgfj\",\"pgdnt\",\"voznr\",\"rxbqc\",\"smuff\",\"ofvhf\",\"hmznm\",\"gsxyz\",\"hpomy\",\"mqpcm\",\"twgfq\",\"hquam\",\"iiuuh\",\"wqraj\",\"niipw\",\"facnt\",\"ekjdw\",\"kvidt\",\"qzass\",\"srjqn\",\"sujmi\",\"ftyfx\",\"cxhiv\",\"xwjwf\",\"neafi\",\"nrmjh\",\"eeihg\",\"amkfi\",\"rnrgw\",\"mcsrh\",\"dgcba\",\"auram\",\"ktppk\",\"qmadk\",\"qhyop\",\"rtztk\",\"wzjhg\",\"otvqg\",\"lpbrp\",\"tcxlk\",\"mkmcc\",\"rsmgo\",\"dnush\",\"czrzi\",\"rqhni\",\"divif\",\"rcrkk\",\"ajyzl\",\"cpucr\",\"uaapb\",\"wpvli\",\"nbloa\",\"giykt\",\"rqntu\",\"bsfvd\",\"spdeu\",\"sjhkd\",\"zdvjd\",\"pxcin\",\"nsiea\",\"ujreb\",\"naslp\",\"yvnmi\",\"fjuxw\",\"foqbi\",\"gysmv\",\"mjqpa\",\"xqgtn\",\"mzxqz\",\"hmcir\",\"sxklz\",\"xlivu\",\"ftchp\",\"xqici\",\"khiqb\",\"qhayg\",\"fzeud\",\"terwk\",\"xeizm\",\"anjsx\",\"ubmcr\",\"iaomz\",\"pgmxr\",\"cifde\",\"exivg\",\"ghkic\",\"dzbgh\",\"wcyuh\",\"pzitk\",\"zadsx\",\"iimsm\",\"bpvmw\",\"lrrzx\",\"amndz\",\"bgnbb\",\"sdkaa\",\"vhiyc\",\"leszj\",\"rgqnp\",\"idpyo\",\"fiqfv\",\"zfrlp\",\"nxvsb\",\"qkdnl\",\"ktodi\",\"ckbob\",\"drlfd\",\"rtxui\",\"escbj\",\"oqrxs\",\"zytkp\",\"uemxr\",\"vdqfr\",\"zwnvr\",\"dupbq\",\"ziymr\",\"pzzwb\",\"tvnil\",\"dwgmv\",\"kxwqn\",\"uqnfg\",\"etioq\",\"gwoaj\",\"yzgjj\",\"rhcxb\",\"ajmkn\",\"jsztc\",\"qtjeg\",\"tyyaw\",\"jklik\",\"squcc\",\"qulfq\",\"jwelp\",\"zzlux\",\"brbqe\",\"cxcau\",\"kadow\",\"pumzg\",\"iroro\",\"qvnrh\",\"hbszs\",\"rwyvx\",\"tbbzk\",\"qvlyq\",\"ppedq\",\"uwxzh\",\"tqebk\",\"wpesr\",\"sedfy\",\"zurkn\",\"snmkt\",\"oljrm\",\"puzrg\",\"fsosx\",\"khdcv\",\"cgapu\",\"ytali\",\"xgwqw\",\"ltphk\",\"kkqzm\",\"rjcqj\",\"brtqe\",\"ukhmj\",\"oixzh\",\"qdekx\",\"dseqq\",\"ucqpq\",\"csevg\",\"qkdlz\",\"yocus\",\"rvnvx\",\"qvsat\",\"yueza\",\"ulmqf\",\"gotqn\",\"vjcdh\",\"pzykl\",\"rjriw\",\"zhnfv\",\"ktxlh\",\"arjvy\",\"wcmuw\",\"ybwkn\",\"jeoip\",\"dyfqm\",\"omdte\",\"mljyk\",\"turch\",\"txxxq\",\"txqps\",\"prthi\",\"mwmzg\",\"kzxvs\",\"doayn\",\"afklg\",\"ldkbe\",\"znrfw\",\"rbove\",\"pilei\",\"eqyrg\"]\n",
       "}\n",
       "}]\n",
       "};\n",
       "                    var plotContainer = document.getElementById(\"plot_output_rJz1gL\");\n",
       "                    window.letsPlotCall(function() {{\n",
       "                        LetsPlot.buildPlotFromProcessedSpecs(plotSpec, -1, -1, plotContainer);\n",
       "                    }});\n",
       "                })();    \n",
       "            </script>\n",
       "        "
      ],
      "text/plain": [
       "<lets_plot.plot.core.PlotSpec at 0x121c35e90>"
      ]
     },
     "execution_count": 4,
     "metadata": {},
     "output_type": "execute_result"
    }
   ],
   "source": [
    "# Disable sampling to see raw plot\n",
    "p + geom_bar(sampling='none')"
   ]
  },
  {
   "cell_type": "code",
   "execution_count": 5,
   "metadata": {},
   "outputs": [
    {
     "data": {
      "text/html": [
       "\n",
       "            <div id=\"plot_output_ovlRNt\"></div>\n",
       "            <script type=\"text/javascript\">\n",
       "                (function() {\n",
       "                    var plotSpec={\n",
       "'data':{\n",
       "},\n",
       "'mapping':{\n",
       "'x':\"word\"\n",
       "},\n",
       "'kind':\"plot\",\n",
       "'scales':[],\n",
       "'layers':[{\n",
       "'geom':\"bar\",\n",
       "'data':{\n",
       "'..count..':[2.0,2.0,3.0,4.0,2.0,4.0,2.0,2.0,3.0,5.0,4.0,6.0,3.0,1.0,4.0,4.0,5.0,3.0,2.0,3.0,2.0,3.0,2.0,6.0,1.0,2.0,4.0,4.0,2.0,5.0,2.0,4.0,2.0,7.0,4.0,2.0,3.0,3.0,4.0,3.0,3.0,3.0,3.0,3.0,3.0,2.0,5.0,2.0,2.0,5.0],\n",
       "'word':[\"drviw\",\"gmufm\",\"tkrqf\",\"ukitx\",\"dgicu\",\"hcurw\",\"ceffr\",\"erxby\",\"bqkqw\",\"lbudx\",\"egbjc\",\"qdxsn\",\"wikps\",\"xceyt\",\"xuecq\",\"raoyb\",\"zztsd\",\"lwibr\",\"zylnm\",\"ylriz\",\"lacem\",\"ruqbl\",\"gztyr\",\"rictz\",\"gnira\",\"pdumm\",\"mbxik\",\"vlrgz\",\"ymvqz\",\"tqzss\",\"cmzee\",\"xfglm\",\"biydn\",\"sizhw\",\"cwfin\",\"unbxj\",\"yfiua\",\"nbpls\",\"qilkk\",\"ihmxr\",\"dkkly\",\"frgjg\",\"wkppd\",\"bufvv\",\"ueuym\",\"ixpbx\",\"gnrut\",\"lpxap\",\"yajth\",\"qewsi\"]\n",
       "}\n",
       "}],\n",
       "'computation_messages':[\"sampling_pick(n=50) was applied to [bar/count stat] layer\"]\n",
       "};\n",
       "                    var plotContainer = document.getElementById(\"plot_output_ovlRNt\");\n",
       "                    window.letsPlotCall(function() {{\n",
       "                        LetsPlot.buildPlotFromProcessedSpecs(plotSpec, -1, -1, plotContainer);\n",
       "                    }});\n",
       "                })();    \n",
       "            </script>\n",
       "        "
      ],
      "text/plain": [
       "<lets_plot.plot.core.PlotSpec at 0x121c5ef10>"
      ]
     },
     "execution_count": 5,
     "metadata": {},
     "output_type": "execute_result"
    }
   ],
   "source": [
    "# Draw plot with default sampling enabled\n",
    "p + geom_bar()"
   ]
  },
  {
   "cell_type": "code",
   "execution_count": 6,
   "metadata": {},
   "outputs": [
    {
     "data": {
      "text/html": [
       "\n",
       "            <div id=\"plot_output_g2OD2m\"></div>\n",
       "            <script type=\"text/javascript\">\n",
       "                (function() {\n",
       "                    var plotSpec={\n",
       "'data':{\n",
       "},\n",
       "'mapping':{\n",
       "'x':\"word\"\n",
       "},\n",
       "'kind':\"plot\",\n",
       "'scales':[],\n",
       "'layers':[{\n",
       "'geom':\"bar\",\n",
       "'mapping':{\n",
       "'fill':\"g\"\n",
       "},\n",
       "'data':{\n",
       "'..count..':[2.0,1.0,1.0,2.0,2.0,1.0,1.0,2.0,2.0,1.0,2.0,1.0,2.0,2.0,2.0,2.0,1.0,2.0,2.0,1.0,1.0,2.0,1.0,1.0,3.0,2.0,2.0,1.0,1.0,1.0,2.0,1.0,1.0,3.0,1.0,1.0,1.0,2.0,2.0,1.0,2.0,3.0,3.0,2.0,2.0,4.0,2.0,2.0,1.0,2.0,1.0,2.0,3.0,2.0,3.0,1.0,1.0,2.0,1.0,1.0,2.0,1.0,1.0,2.0,1.0,1.0,2.0,1.0,1.0,1.0,1.0,1.0,1.0,1.0,1.0,1.0,1.0,2.0,1.0,2.0,1.0,3.0,1.0,1.0,3.0,1.0,1.0,1.0,2.0,1.0,1.0,2.0,2.0,1.0,1.0,1.0,1.0,1.0,1.0,2.0,1.0,1.0,1.0,1.0,1.0,1.0,1.0],\n",
       "'word':[\"drviw\",\"dgicu\",\"hcurw\",\"erxby\",\"lbudx\",\"qdxsn\",\"zylnm\",\"ylriz\",\"lacem\",\"pdumm\",\"mbxik\",\"ymvqz\",\"xfglm\",\"sizhw\",\"yfiua\",\"nbpls\",\"raoyb\",\"qilkk\",\"ihmxr\",\"dkkly\",\"wkppd\",\"ueuym\",\"gnrut\",\"yajth\",\"tqzss\",\"ulmjo\",\"qewsi\",\"zekng\",\"vjnka\",\"bjwts\",\"xxqqa\",\"pkdgu\",\"jqebo\",\"oxplp\",\"rrchm\",\"zkcjb\",\"mfein\",\"vvwco\",\"evsbl\",\"ixpbx\",\"gjwwu\",\"xawdz\",\"ahame\",\"qoser\",\"ixtxy\",\"spiee\",\"bwswv\",\"ukitx\",\"sxwxc\",\"utara\",\"ixpbx\",\"raoyb\",\"jqebo\",\"lbudx\",\"qdxsn\",\"bwswv\",\"ixtxy\",\"mfein\",\"qilkk\",\"yajth\",\"gnrut\",\"rrchm\",\"dkkly\",\"sizhw\",\"gjwwu\",\"zekng\",\"hcurw\",\"ymvqz\",\"pkdgu\",\"pdumm\",\"ueuym\",\"utara\",\"xfglm\",\"yfiua\",\"xxqqa\",\"dgicu\",\"vjnka\",\"ukitx\",\"raoyb\",\"tqzss\",\"ihmxr\",\"qewsi\",\"ixtxy\",\"sxwxc\",\"sizhw\",\"pkdgu\",\"dkkly\",\"jqebo\",\"mbxik\",\"xfglm\",\"ylriz\",\"wkppd\",\"qdxsn\",\"vjnka\",\"qilkk\",\"xawdz\",\"zylnm\",\"ulmjo\",\"bwswv\",\"gnrut\",\"mfein\",\"bjwts\",\"lbudx\",\"nbpls\",\"zekng\",\"zkcjb\",\"hcurw\"],\n",
       "'g':[\"a\",\"a\",\"a\",\"a\",\"a\",\"a\",\"a\",\"a\",\"a\",\"a\",\"a\",\"a\",\"a\",\"a\",\"a\",\"a\",\"a\",\"a\",\"a\",\"a\",\"a\",\"a\",\"a\",\"a\",\"a\",\"a\",\"a\",\"a\",\"a\",\"a\",\"a\",\"a\",\"a\",\"a\",\"a\",\"a\",\"a\",\"a\",\"a\",\"a\",\"a\",\"a\",\"a\",\"a\",\"a\",\"a\",\"a\",\"a\",\"a\",\"a\",\"c\",\"c\",\"c\",\"c\",\"c\",\"c\",\"c\",\"c\",\"c\",\"c\",\"c\",\"c\",\"c\",\"c\",\"c\",\"c\",\"c\",\"c\",\"c\",\"c\",\"c\",\"c\",\"c\",\"c\",\"c\",\"c\",\"c\",\"b\",\"b\",\"b\",\"b\",\"b\",\"b\",\"b\",\"b\",\"b\",\"b\",\"b\",\"b\",\"b\",\"b\",\"b\",\"b\",\"b\",\"b\",\"b\",\"b\",\"b\",\"b\",\"b\",\"b\",\"b\",\"b\",\"b\",\"b\",\"b\",\"b\"]\n",
       "}\n",
       "}],\n",
       "'computation_messages':[\"sampling_pick(n=50) was applied to [bar/count stat] layer\"]\n",
       "};\n",
       "                    var plotContainer = document.getElementById(\"plot_output_g2OD2m\");\n",
       "                    window.letsPlotCall(function() {{\n",
       "                        LetsPlot.buildPlotFromProcessedSpecs(plotSpec, -1, -1, plotContainer);\n",
       "                    }});\n",
       "                })();    \n",
       "            </script>\n",
       "        "
      ],
      "text/plain": [
       "<lets_plot.plot.core.PlotSpec at 0x121c35d50>"
      ]
     },
     "execution_count": 6,
     "metadata": {},
     "output_type": "execute_result"
    }
   ],
   "source": [
    "# 'pick' sampling handles groups on bar chart correctly.\n",
    "p + geom_bar(aes(fill='g'))"
   ]
  }
 ],
 "metadata": {
  "kernelspec": {
   "display_name": "Python 3",
   "language": "python",
   "name": "python3"
  },
  "language_info": {
   "codemirror_mode": {
    "name": "ipython",
    "version": 3
   },
   "file_extension": ".py",
   "mimetype": "text/x-python",
   "name": "python",
   "nbconvert_exporter": "python",
   "pygments_lexer": "ipython3",
   "version": "3.7.5"
  }
 },
 "nbformat": 4,
 "nbformat_minor": 1
}
