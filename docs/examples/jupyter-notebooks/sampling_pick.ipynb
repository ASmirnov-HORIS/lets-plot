{
 "cells": [
  {
   "cell_type": "markdown",
   "metadata": {},
   "source": [
    "## Pick Sampling"
   ]
  },
  {
   "cell_type": "code",
   "execution_count": 1,
   "metadata": {},
   "outputs": [],
   "source": [
    "import numpy as np\n",
    "from datalore_plot import *\n",
    "import random, string"
   ]
  },
  {
   "cell_type": "code",
   "execution_count": 2,
   "metadata": {},
   "outputs": [],
   "source": [
    "def gen_word(length):\n",
    "    letters = string.ascii_lowercase\n",
    "    return ''.join(random.choice(letters) for _ in range(length))\n",
    "\n",
    "def gen_word_set(n):\n",
    "    random.seed(1)\n",
    "    word_set = set()\n",
    "    while len(word_set) < n:\n",
    "        word_set.add(gen_word(5))\n",
    "    return word_set\n",
    "\n",
    "def data(n, word_set):\n",
    "    word_choice = list(word_set)\n",
    "    words=[]\n",
    "    groups = []\n",
    "    for _ in range(n):\n",
    "        words.append(np.random.choice(word_choice))\n",
    "        groups.append(np.random.choice(['a','b','c']))\n",
    "\n",
    "    return dict(word=words, g=groups)"
   ]
  },
  {
   "cell_type": "code",
   "execution_count": 3,
   "metadata": {},
   "outputs": [],
   "source": [
    "# Number of unique words exceeds threshold (50) of default 'pick' sampling on bar chart.\n",
    "N = 500\n",
    "word_set = gen_word_set(N)\n",
    "dat = data(1000, word_set)\n",
    "p = ggplot(dat, aes(x='word'))"
   ]
  },
  {
   "cell_type": "code",
   "execution_count": 4,
   "metadata": {},
   "outputs": [
    {
     "data": {
      "text/html": [
       "                <script type=\"text/javascript\" src=\"http://dl.bintray.com/jetbrains/datalore-plot/datalore-plot-0.0.1rc2.min.js\"/>\n",
       "            "
      ]
     },
     "metadata": {},
     "output_type": "display_data"
    },
    {
     "data": {
      "text/html": [
       "\n",
       "            <div id=\"plot_output_frLbuh\"></div>\n",
       "            <script type=\"text/javascript\">\n",
       "                var plotSpec={\n",
       "'data':{\n",
       "},\n",
       "'mapping':{\n",
       "'x':\"word\"\n",
       "},\n",
       "'kind':\"plot\",\n",
       "'scales':[],\n",
       "'layers':[{\n",
       "'geom':\"bar\",\n",
       "'sampling':\"none\",\n",
       "'data':{\n",
       "'..count..':[2.0,2.0,1.0,2.0,2.0,3.0,2.0,4.0,4.0,1.0,3.0,2.0,2.0,4.0,4.0,4.0,2.0,3.0,4.0,2.0,4.0,5.0,2.0,2.0,3.0,3.0,2.0,3.0,4.0,1.0,6.0,3.0,1.0,4.0,1.0,3.0,1.0,5.0,4.0,4.0,3.0,2.0,3.0,2.0,4.0,3.0,1.0,2.0,2.0,2.0,2.0,2.0,2.0,4.0,4.0,3.0,4.0,1.0,1.0,3.0,2.0,2.0,2.0,3.0,4.0,2.0,3.0,3.0,1.0,3.0,6.0,2.0,1.0,2.0,1.0,2.0,2.0,1.0,2.0,4.0,4.0,1.0,1.0,3.0,5.0,2.0,3.0,1.0,2.0,2.0,2.0,3.0,5.0,7.0,2.0,3.0,9.0,3.0,3.0,4.0,3.0,1.0,4.0,1.0,3.0,3.0,3.0,2.0,5.0,4.0,1.0,2.0,3.0,2.0,2.0,4.0,2.0,3.0,4.0,3.0,1.0,3.0,2.0,2.0,4.0,3.0,2.0,2.0,4.0,5.0,2.0,3.0,1.0,2.0,2.0,2.0,2.0,4.0,1.0,2.0,2.0,3.0,2.0,4.0,1.0,3.0,5.0,1.0,2.0,3.0,1.0,2.0,3.0,1.0,2.0,2.0,4.0,1.0,2.0,3.0,2.0,2.0,3.0,3.0,1.0,3.0,6.0,3.0,3.0,2.0,4.0,3.0,3.0,1.0,4.0,3.0,4.0,4.0,3.0,1.0,2.0,4.0,3.0,1.0,4.0,1.0,3.0,1.0,2.0,3.0,3.0,4.0,2.0,2.0,5.0,2.0,3.0,1.0,2.0,3.0,4.0,5.0,2.0,2.0,5.0,2.0,1.0,3.0,2.0,3.0,3.0,1.0,2.0,1.0,1.0,3.0,4.0,2.0,4.0,4.0,1.0,4.0,3.0,3.0,3.0,1.0,3.0,2.0,2.0,4.0,2.0,2.0,2.0,3.0,2.0,1.0,3.0,2.0,1.0,2.0,3.0,4.0,4.0,1.0,3.0,1.0,3.0,2.0,2.0,1.0,3.0,1.0,3.0,3.0,1.0,4.0,2.0,3.0,2.0,3.0,1.0,2.0,3.0,1.0,4.0,2.0,5.0,1.0,1.0,4.0,1.0,1.0,2.0,4.0,2.0,1.0,1.0,5.0,4.0,3.0,1.0,1.0,1.0,2.0,4.0,2.0,5.0,2.0,3.0,1.0,4.0,2.0,3.0,2.0,2.0,2.0,2.0,2.0,2.0,2.0,2.0,3.0,1.0,2.0,2.0,3.0,2.0,3.0,2.0,2.0,2.0,1.0,3.0,3.0,2.0,3.0,2.0,1.0,2.0,1.0,1.0,4.0,1.0,2.0,1.0,1.0,2.0,4.0,2.0,1.0,1.0,1.0,2.0,3.0,1.0,1.0,2.0,2.0,2.0,2.0,1.0,1.0,2.0,2.0,2.0,1.0,1.0,1.0,1.0,4.0,2.0,1.0,2.0,3.0,1.0,2.0,2.0,3.0,3.0,1.0,1.0,3.0,1.0,4.0,1.0,1.0,1.0,2.0,1.0,1.0,1.0,1.0,1.0,3.0,2.0,1.0,2.0,1.0,2.0,1.0,2.0,2.0,1.0,1.0,2.0,1.0,2.0,1.0,2.0,2.0,2.0,2.0,1.0,3.0,1.0,1.0,1.0,1.0,1.0,2.0,1.0,1.0,1.0,1.0,1.0,1.0,2.0,1.0,1.0,1.0,1.0,2.0,1.0,1.0,1.0,1.0,2.0,1.0,1.0,1.0,1.0,1.0,1.0,1.0,1.0,1.0,1.0,1.0,1.0,2.0,1.0,1.0,1.0,2.0,1.0,2.0,1.0,1.0,1.0],\n",
       "'word':[\"xgwqw\",\"gnrut\",\"brtqe\",\"whitw\",\"rtxui\",\"divif\",\"sujmi\",\"ylriz\",\"uemxr\",\"nhqrg\",\"wjrlf\",\"tfejp\",\"uzwqo\",\"bxfow\",\"bufvv\",\"nwink\",\"bsfvd\",\"rnvcw\",\"imcvs\",\"jwelp\",\"etioq\",\"hmrmf\",\"ivdmr\",\"mkpdf\",\"xmmnv\",\"rqhni\",\"uovux\",\"frgjg\",\"lrrzx\",\"lwibr\",\"bsmie\",\"foqbi\",\"exivg\",\"prthi\",\"ardjq\",\"gsxyz\",\"txxxq\",\"hdses\",\"lediy\",\"mwncc\",\"msaqg\",\"rvnvx\",\"phwnk\",\"rsmgo\",\"egehx\",\"ukhmj\",\"kbaaz\",\"zkcjb\",\"khdcv\",\"zekng\",\"kvidt\",\"fkoet\",\"qdxsn\",\"iiuuh\",\"otazh\",\"qmadk\",\"firba\",\"ixpbx\",\"aeivh\",\"ujreb\",\"ygvbp\",\"puzrg\",\"swore\",\"scilj\",\"dpamn\",\"oayyi\",\"sesee\",\"ozwhu\",\"wpvli\",\"uaapb\",\"qdxio\",\"ihmxr\",\"sdkaa\",\"anjsx\",\"ziymr\",\"pemwd\",\"ypgwp\",\"yzgjj\",\"cjjxf\",\"cejrx\",\"gmufm\",\"ajyzl\",\"serom\",\"twgfq\",\"adiep\",\"vffye\",\"biydn\",\"hidzt\",\"sifyx\",\"zdvjd\",\"igfje\",\"mkqnl\",\"pgdnt\",\"knyhz\",\"pxcin\",\"zylnm\",\"csevg\",\"evsbl\",\"xceyt\",\"mzxqz\",\"wwazb\",\"rtztk\",\"zapkm\",\"wqraj\",\"fzeud\",\"rhlhv\",\"ulmqf\",\"xwjwf\",\"yruoq\",\"kdtsz\",\"tqzss\",\"pdumm\",\"qewsi\",\"qkdlz\",\"qvnrh\",\"sxklz\",\"bwswv\",\"dgsvn\",\"raoyb\",\"riltx\",\"ekjdw\",\"giykt\",\"juanx\",\"pdvef\",\"jfezm\",\"wqxto\",\"oixnf\",\"xqici\",\"qoser\",\"mdvoj\",\"qtjeg\",\"ahame\",\"hlcic\",\"amioi\",\"zhnfv\",\"oipol\",\"gotqn\",\"qkdnl\",\"qhayg\",\"ejgvx\",\"tbbzk\",\"jxtko\",\"oxplp\",\"afqwf\",\"ckbob\",\"iuwjo\",\"afklg\",\"iimsm\",\"agqos\",\"whzth\",\"cmzee\",\"rndvj\",\"ktppk\",\"gysmv\",\"ytali\",\"pxhuu\",\"gjwwu\",\"ofvhf\",\"mgjzd\",\"lpbrp\",\"mfein\",\"bvcca\",\"rjriw\",\"hmcir\",\"grnwh\",\"oljym\",\"rbove\",\"bbzta\",\"xdnmz\",\"couja\",\"ixtxy\",\"ldkbe\",\"bsqcs\",\"cwqvl\",\"vhiyc\",\"qjzzg\",\"mljyk\",\"oqrxb\",\"drviw\",\"nmtob\",\"srjqn\",\"wfdhm\",\"niipw\",\"facnt\",\"ueuym\",\"pumzg\",\"hvatm\",\"itjgq\",\"dzbja\",\"wpesr\",\"pzitk\",\"fiqfv\",\"rjcqj\",\"ulmjo\",\"xfglm\",\"wikps\",\"yzkcq\",\"ukitx\",\"iaomz\",\"ubmcr\",\"bpvmw\",\"dayxv\",\"gnira\",\"yivoz\",\"hyoja\",\"pazun\",\"escbj\",\"rtszt\",\"qvlyq\",\"dzbgh\",\"hquam\",\"pkdgu\",\"qhyop\",\"omdte\",\"kitlb\",\"dbsqa\",\"zadsx\",\"rqntu\",\"vqpmd\",\"yfiua\",\"dupbq\",\"nsiea\",\"uwxzh\",\"fljcf\",\"wcyuh\",\"jeeqd\",\"sjoje\",\"tpdem\",\"rnrgw\",\"wdsap\",\"xwgfj\",\"ceffr\",\"ofywt\",\"esesd\",\"arjvy\",\"kkqzm\",\"xkyru\",\"hbszs\",\"qdekx\",\"kvhzv\",\"yocus\",\"myods\",\"ydmux\",\"naslp\",\"mcsrh\",\"igcux\",\"nxvsb\",\"vomku\",\"pykmo\",\"ymvqz\",\"neafi\",\"kzets\",\"bebqp\",\"brbqe\",\"leszj\",\"amndz\",\"kzxvs\",\"yvacc\",\"dyfqm\",\"vvwco\",\"hpomy\",\"fgkzs\",\"ufrsf\",\"eqyrg\",\"sizhw\",\"oljrm\",\"nbloa\",\"rbsgs\",\"lsloi\",\"ybwkn\",\"vjcdh\",\"ydkbn\",\"gzblo\",\"hcurw\",\"fjuxw\",\"lacem\",\"znrfw\",\"ccxdj\",\"rictz\",\"mjqpa\",\"xlcur\",\"qvgjj\",\"hyaaj\",\"yrrff\",\"xawdz\",\"cxhiv\",\"euyzg\",\"tlyoi\",\"uihgd\",\"mywoa\",\"hdwgw\",\"zdple\",\"ijvvz\",\"qzass\",\"qvsat\",\"wkppd\",\"mcmzq\",\"nrfbw\",\"pilei\",\"okqzr\",\"eeihg\",\"czrzi\",\"ktxlh\",\"rwmar\",\"nxtbz\",\"tvacn\",\"idpyo\",\"rbuls\",\"nrudf\",\"tyyaw\",\"zwnvr\",\"cifde\",\"sjhkd\",\"inxrj\",\"yueza\",\"mkmcc\",\"gwoaj\",\"iroro\",\"rgijs\",\"zztsd\",\"vjnka\",\"kzksc\",\"cgapu\",\"lxuwh\",\"hycqf\",\"rgqnp\",\"estev\",\"yvnmi\",\"whdhk\",\"rcrkk\",\"tcxlk\",\"clcvo\",\"afqkq\",\"yajth\",\"utara\",\"zifyc\",\"xlivu\",\"zsnfd\",\"jqebo\",\"wgcuc\",\"zzlux\",\"lcovq\",\"czsrt\",\"sgpdv\",\"vrtxa\",\"sulzp\",\"aauth\",\"fsosx\",\"brgrn\",\"rwyvx\",\"dwgmv\",\"zuxet\",\"xbnog\",\"snmkt\",\"lszjn\",\"xqgtn\",\"xxqqa\",\"eszyc\",\"cpucr\",\"tkrqf\",\"uqnfg\",\"bjwts\",\"ltphk\",\"lnlar\",\"ajmkn\",\"bphxz\",\"terwk\",\"lpxap\",\"djhty\",\"uhbcy\",\"zurkn\",\"gztyr\",\"iriqi\",\"wcmuw\",\"voznr\",\"amevr\",\"smuff\",\"niqjx\",\"erxby\",\"spqms\",\"ghkic\",\"tvnil\",\"hhkpv\",\"hsgqs\",\"zytkp\",\"drlfd\",\"tqdfh\",\"uyvxg\",\"zgvuc\",\"cwfin\",\"mqpcm\",\"dseqq\",\"hneei\",\"ziudi\",\"ppedq\",\"ucqpq\",\"misoa\",\"mbxik\",\"ezvba\",\"nbpls\",\"tphno\",\"lqavm\",\"rrchm\",\"eiiil\",\"srdoi\",\"pzykl\",\"graiu\",\"feyew\",\"spiee\",\"jklik\",\"vgnxa\",\"spdeu\",\"oqrxs\",\"gaxry\",\"ndygs\",\"qilkk\",\"bgnbb\",\"fhhjo\",\"jipgp\",\"unbxj\",\"jsztc\",\"hqiiw\",\"nhzbq\",\"deewi\",\"dgicu\",\"kxwqn\",\"flntw\",\"ruqbl\",\"rrhmq\",\"khiqb\",\"mwmzg\",\"ktzvr\",\"ktodi\",\"uxjdx\",\"sabwl\",\"cdtqs\",\"chhaz\",\"zfrlp\",\"amkfi\"]\n",
       "}\n",
       "}]\n",
       "};\n",
       "\n",
       "                var plotContainer = document.getElementById(\"plot_output_frLbuh\");\n",
       "                DatalorePlot.buildPlotFromProcessedSpecs(plotSpec, -1, -1, plotContainer);\n",
       "            </script>\n",
       "        "
      ],
      "text/plain": [
       "<datalore_plot.plot.core.PlotSpec at 0x119c44410>"
      ]
     },
     "execution_count": 4,
     "metadata": {},
     "output_type": "execute_result"
    }
   ],
   "source": [
    "# Disable sampling to see raw plot\n",
    "p + geom_bar(sampling='none')"
   ]
  },
  {
   "cell_type": "code",
   "execution_count": 5,
   "metadata": {},
   "outputs": [
    {
     "data": {
      "text/html": [
       "\n",
       "            <div id=\"plot_output_KGo3Ji\"></div>\n",
       "            <script type=\"text/javascript\">\n",
       "                var plotSpec={\n",
       "'data':{\n",
       "},\n",
       "'mapping':{\n",
       "'x':\"word\"\n",
       "},\n",
       "'kind':\"plot\",\n",
       "'scales':[],\n",
       "'layers':[{\n",
       "'geom':\"bar\",\n",
       "'data':{\n",
       "'..count..':[2.0,2.0,1.0,2.0,2.0,3.0,2.0,4.0,4.0,1.0,3.0,2.0,2.0,4.0,4.0,4.0,2.0,3.0,4.0,2.0,4.0,5.0,2.0,2.0,3.0,3.0,2.0,3.0,4.0,1.0,6.0,3.0,1.0,4.0,1.0,3.0,1.0,5.0,4.0,4.0,3.0,2.0,3.0,2.0,4.0,3.0,1.0,2.0,2.0,2.0],\n",
       "'word':[\"xgwqw\",\"gnrut\",\"brtqe\",\"whitw\",\"rtxui\",\"divif\",\"sujmi\",\"ylriz\",\"uemxr\",\"nhqrg\",\"wjrlf\",\"tfejp\",\"uzwqo\",\"bxfow\",\"bufvv\",\"nwink\",\"bsfvd\",\"rnvcw\",\"imcvs\",\"jwelp\",\"etioq\",\"hmrmf\",\"ivdmr\",\"mkpdf\",\"xmmnv\",\"rqhni\",\"uovux\",\"frgjg\",\"lrrzx\",\"lwibr\",\"bsmie\",\"foqbi\",\"exivg\",\"prthi\",\"ardjq\",\"gsxyz\",\"txxxq\",\"hdses\",\"lediy\",\"mwncc\",\"msaqg\",\"rvnvx\",\"phwnk\",\"rsmgo\",\"egehx\",\"ukhmj\",\"kbaaz\",\"zkcjb\",\"khdcv\",\"zekng\"]\n",
       "}\n",
       "}],\n",
       "'computation_messages':[\"sampling_pick(n=50) was applied to [bar/count stat] layer\"]\n",
       "};\n",
       "\n",
       "                var plotContainer = document.getElementById(\"plot_output_KGo3Ji\");\n",
       "                DatalorePlot.buildPlotFromProcessedSpecs(plotSpec, -1, -1, plotContainer);\n",
       "            </script>\n",
       "        "
      ],
      "text/plain": [
       "<datalore_plot.plot.core.PlotSpec at 0x11f3da950>"
      ]
     },
     "execution_count": 5,
     "metadata": {},
     "output_type": "execute_result"
    }
   ],
   "source": [
    "# Draw plot with default sampling enabled\n",
    "p + geom_bar()"
   ]
  },
  {
   "cell_type": "code",
   "execution_count": 6,
   "metadata": {},
   "outputs": [
    {
     "data": {
      "text/html": [
       "\n",
       "            <div id=\"plot_output_cj1Usd\"></div>\n",
       "            <script type=\"text/javascript\">\n",
       "                var plotSpec={\n",
       "'data':{\n",
       "},\n",
       "'mapping':{\n",
       "'x':\"word\"\n",
       "},\n",
       "'kind':\"plot\",\n",
       "'scales':[],\n",
       "'layers':[{\n",
       "'geom':\"bar\",\n",
       "'mapping':{\n",
       "'fill':\"g\"\n",
       "},\n",
       "'data':{\n",
       "'..count..':[2.0,2.0,1.0,2.0,1.0,1.0,2.0,2.0,2.0,1.0,1.0,2.0,3.0,2.0,1.0,1.0,1.0,1.0,3.0,2.0,2.0,2.0,2.0,2.0,1.0,1.0,1.0,1.0,1.0,2.0,1.0,1.0,2.0,2.0,2.0,1.0,2.0,1.0,3.0,1.0,2.0,2.0,2.0,1.0,2.0,1.0,1.0,2.0,1.0,1.0,1.0,2.0,1.0,2.0,1.0,1.0,1.0,1.0,1.0,1.0,1.0,1.0,2.0,3.0,1.0,2.0,2.0,1.0,2.0,3.0,1.0,1.0,1.0,1.0,1.0,1.0,1.0,1.0,2.0,2.0,2.0,3.0,1.0,1.0,1.0,1.0,1.0,1.0,1.0,1.0,1.0,1.0,1.0,1.0,1.0,1.0],\n",
       "'word':[\"xgwqw\",\"gnrut\",\"brtqe\",\"divif\",\"sujmi\",\"ylriz\",\"uemxr\",\"bxfow\",\"nwink\",\"bsfvd\",\"whitw\",\"etioq\",\"hmrmf\",\"ivdmr\",\"mkpdf\",\"uovux\",\"ardjq\",\"msaqg\",\"phwnk\",\"egehx\",\"ukhmj\",\"khdcv\",\"kvidt\",\"otazh\",\"oayyi\",\"frgjg\",\"sdkaa\",\"anjsx\",\"pemwd\",\"cjjxf\",\"gmufm\",\"ajyzl\",\"vffye\",\"pgdnt\",\"knyhz\",\"evsbl\",\"mzxqz\",\"wwazb\",\"zapkm\",\"xwjwf\",\"qkdlz\",\"dgsvn\",\"riltx\",\"juanx\",\"wqxto\",\"qoser\",\"ahame\",\"amioi\",\"oipol\",\"tbbzk\",\"whitw\",\"frgjg\",\"otazh\",\"etioq\",\"msaqg\",\"bsfvd\",\"hmrmf\",\"divif\",\"oayyi\",\"wqxto\",\"evsbl\",\"mkpdf\",\"wwazb\",\"qoser\",\"anjsx\",\"nwink\",\"egehx\",\"ahame\",\"ylriz\",\"knyhz\",\"sujmi\",\"uovux\",\"uemxr\",\"xwjwf\",\"dgsvn\",\"riltx\",\"pemwd\",\"mzxqz\",\"gmufm\",\"bxfow\",\"knyhz\",\"pgdnt\",\"ukhmj\",\"evsbl\",\"mzxqz\",\"hmrmf\",\"juanx\",\"oipol\",\"tbbzk\",\"uemxr\",\"msaqg\",\"otazh\",\"gmufm\",\"zapkm\",\"ylriz\",\"ahame\"],\n",
       "'g':[\"c\",\"c\",\"c\",\"c\",\"c\",\"c\",\"c\",\"c\",\"c\",\"c\",\"c\",\"c\",\"c\",\"c\",\"c\",\"c\",\"c\",\"c\",\"c\",\"c\",\"c\",\"c\",\"c\",\"c\",\"c\",\"c\",\"c\",\"c\",\"c\",\"c\",\"c\",\"c\",\"c\",\"c\",\"c\",\"c\",\"c\",\"c\",\"c\",\"c\",\"c\",\"c\",\"c\",\"c\",\"c\",\"c\",\"c\",\"c\",\"c\",\"c\",\"a\",\"a\",\"a\",\"a\",\"a\",\"a\",\"a\",\"a\",\"a\",\"a\",\"a\",\"a\",\"a\",\"a\",\"a\",\"a\",\"a\",\"a\",\"a\",\"a\",\"a\",\"a\",\"a\",\"a\",\"a\",\"a\",\"a\",\"a\",\"a\",\"b\",\"b\",\"b\",\"b\",\"b\",\"b\",\"b\",\"b\",\"b\",\"b\",\"b\",\"b\",\"b\",\"b\",\"b\",\"b\",\"b\"]\n",
       "}\n",
       "}],\n",
       "'computation_messages':[\"sampling_pick(n=50) was applied to [bar/count stat] layer\"]\n",
       "};\n",
       "\n",
       "                var plotContainer = document.getElementById(\"plot_output_cj1Usd\");\n",
       "                DatalorePlot.buildPlotFromProcessedSpecs(plotSpec, -1, -1, plotContainer);\n",
       "            </script>\n",
       "        "
      ],
      "text/plain": [
       "<datalore_plot.plot.core.PlotSpec at 0x11fac5a10>"
      ]
     },
     "execution_count": 6,
     "metadata": {},
     "output_type": "execute_result"
    }
   ],
   "source": [
    "# 'pick' sampling handles groups on bar chart correctly.\n",
    "p + geom_bar(aes(fill='g'))"
   ]
  }
 ],
 "metadata": {
  "kernelspec": {
   "display_name": "Python 3",
   "language": "python",
   "name": "python3"
  },
  "language_info": {
   "codemirror_mode": {
    "name": "ipython",
    "version": 3
   },
   "file_extension": ".py",
   "mimetype": "text/x-python",
   "name": "python",
   "nbconvert_exporter": "python",
   "pygments_lexer": "ipython3",
   "version": "3.7.5"
  }
 },
 "nbformat": 4,
 "nbformat_minor": 1
}
