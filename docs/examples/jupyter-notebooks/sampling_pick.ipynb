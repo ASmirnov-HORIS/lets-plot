{
 "cells": [
  {
   "cell_type": "markdown",
   "metadata": {},
   "source": [
    "<em><sub>This page is available as an executable or viewable <strong>Jupyter Notebook</strong>:</sub></em>\n",
    "<br/><br/>\n",
    "<a href=\"https://mybinder.org/v2/gh/JetBrains/lets-plot/v2.0.2demos1?filepath=docs%2Fexamples%2Fjupyter-notebooks%2Fsampling_pick.ipynb\"\n",
    "   target=\"_parent\"> \n",
    "   <img align=\"left\" \n",
    "        src=\"https://mybinder.org/badge_logo.svg\">\n",
    "</a>\n",
    "<a href=\"https://nbviewer.jupyter.org/github/JetBrains/lets-plot/blob/master/docs/examples/jupyter-notebooks/sampling_pick.ipynb\" \n",
    "   target=\"_parent\"> \n",
    "   <img align=\"right\" \n",
    "        src=\"https://raw.githubusercontent.com/jupyter/design/master/logos/Badges/nbviewer_badge.png\" \n",
    "        width=\"109\" height=\"20\">\n",
    "</a>\n",
    "<br/>\n",
    "<br/>\n",
    "\n",
    "\n",
    "## Pick Sampling"
   ]
  },
  {
   "cell_type": "code",
   "execution_count": 1,
   "metadata": {},
   "outputs": [
    {
     "data": {
      "text/html": [
       "\n",
       "            <div id=\"cdpqaC\"></div>\n",
       "            <script type=\"text/javascript\" data-lets-plot-script=\"library\">\n",
       "                if(!window.letsPlotCallQueue) {\n",
       "                    window.letsPlotCallQueue = [];\n",
       "                }; \n",
       "                window.letsPlotCall = function(f) {\n",
       "                    window.letsPlotCallQueue.push(f);\n",
       "                };\n",
       "                (function() {\n",
       "                    var script = document.createElement(\"script\");\n",
       "                    script.type = \"text/javascript\";\n",
       "                    script.src = \"https://cdnjs.cloudflare.com/ajax/libs/lets-plot/2.0.2rc1/lets-plot.min.js\";\n",
       "                    script.onload = function() {\n",
       "                        window.letsPlotCall = function(f) {f();};\n",
       "                        window.letsPlotCallQueue.forEach(function(f) {f();});\n",
       "                        window.letsPlotCallQueue = [];\n",
       "                        \n",
       "                    };\n",
       "                    script.onerror = function(event) {\n",
       "                        window.letsPlotCall = function(f) {};    // noop\n",
       "                        window.letsPlotCallQueue = [];\n",
       "                        var div = document.createElement(\"div\");\n",
       "                        div.style.color = 'darkred';\n",
       "                        div.textContent = 'Error loading Lets-Plot JS';\n",
       "                        document.getElementById(\"cdpqaC\").appendChild(div);\n",
       "                    };\n",
       "                    var e = document.getElementById(\"cdpqaC\");\n",
       "                    e.appendChild(script);\n",
       "                })()\n",
       "            </script>\n",
       "            "
      ]
     },
     "metadata": {},
     "output_type": "display_data"
    }
   ],
   "source": [
    "import numpy as np\n",
    "from lets_plot import *\n",
    "import random, string\n",
    "\n",
    "LetsPlot.setup_html()"
   ]
  },
  {
   "cell_type": "code",
   "execution_count": 2,
   "metadata": {},
   "outputs": [],
   "source": [
    "def gen_word(length):\n",
    "    letters = string.ascii_lowercase\n",
    "    return ''.join(random.choice(letters) for _ in range(length))\n",
    "\n",
    "def gen_word_set(n):\n",
    "    random.seed(1)\n",
    "    word_set = set()\n",
    "    while len(word_set) < n:\n",
    "        word_set.add(gen_word(5))\n",
    "    return word_set\n",
    "\n",
    "def data(n, word_set):\n",
    "    word_choice = list(word_set)\n",
    "    words=[]\n",
    "    groups = []\n",
    "    for _ in range(n):\n",
    "        words.append(np.random.choice(word_choice))\n",
    "        groups.append(np.random.choice(['a','b','c']))\n",
    "\n",
    "    return dict(word=words, g=groups)"
   ]
  },
  {
   "cell_type": "code",
   "execution_count": 3,
   "metadata": {},
   "outputs": [],
   "source": [
    "# Number of unique words exceeds threshold (50) of default 'pick' sampling on bar chart.\n",
    "N = 500\n",
    "word_set = gen_word_set(N)\n",
    "dat = data(1000, word_set)\n",
    "p = ggplot(dat, aes(x='word'))"
   ]
  },
  {
   "cell_type": "code",
   "execution_count": 4,
   "metadata": {},
   "outputs": [
    {
     "data": {
      "text/html": [
       "   <div id=\"Pta6wy\"></div>\n",
       "   <script type=\"text/javascript\" data-lets-plot-script=\"plot\">\n",
       "       (function() {\n",
       "           var plotSpec={\n",
       "'data':{\n",
       "},\n",
       "'mapping':{\n",
       "'x':\"word\"\n",
       "},\n",
       "'data_meta':{\n",
       "},\n",
       "'kind':\"plot\",\n",
       "'scales':[],\n",
       "'layers':[{\n",
       "'geom':\"bar\",\n",
       "'mapping':{\n",
       "},\n",
       "'sampling':\"none\",\n",
       "'data_meta':{\n",
       "},\n",
       "'data':{\n",
       "'..count..':[3.0,5.0,2.0,2.0,2.0,3.0,4.0,2.0,2.0,6.0,2.0,1.0,3.0,4.0,2.0,2.0,4.0,3.0,3.0,1.0,6.0,1.0,2.0,2.0,2.0,3.0,3.0,2.0,3.0,4.0,5.0,1.0,8.0,5.0,4.0,2.0,1.0,5.0,3.0,6.0,3.0,1.0,2.0,2.0,2.0,3.0,2.0,2.0,3.0,3.0,4.0,3.0,2.0,4.0,2.0,2.0,3.0,1.0,4.0,3.0,1.0,3.0,1.0,4.0,4.0,2.0,6.0,3.0,2.0,2.0,3.0,2.0,3.0,3.0,3.0,2.0,3.0,3.0,3.0,3.0,4.0,2.0,1.0,6.0,3.0,1.0,3.0,3.0,3.0,4.0,3.0,3.0,2.0,4.0,2.0,3.0,3.0,3.0,3.0,2.0,1.0,2.0,2.0,5.0,3.0,2.0,6.0,3.0,1.0,2.0,4.0,1.0,2.0,4.0,4.0,1.0,3.0,5.0,1.0,7.0,3.0,8.0,1.0,4.0,3.0,2.0,2.0,5.0,2.0,1.0,2.0,3.0,1.0,5.0,1.0,1.0,2.0,5.0,2.0,2.0,1.0,2.0,3.0,1.0,3.0,2.0,1.0,2.0,5.0,4.0,3.0,3.0,2.0,2.0,2.0,1.0,1.0,2.0,3.0,4.0,2.0,1.0,2.0,3.0,4.0,3.0,4.0,1.0,1.0,3.0,1.0,2.0,4.0,3.0,2.0,3.0,2.0,1.0,4.0,2.0,2.0,3.0,2.0,5.0,4.0,3.0,2.0,2.0,2.0,3.0,2.0,4.0,4.0,4.0,5.0,3.0,4.0,3.0,1.0,4.0,2.0,4.0,3.0,3.0,3.0,1.0,3.0,5.0,1.0,1.0,2.0,2.0,3.0,2.0,3.0,2.0,4.0,2.0,2.0,2.0,2.0,1.0,2.0,1.0,4.0,2.0,3.0,1.0,2.0,2.0,1.0,3.0,1.0,4.0,3.0,2.0,3.0,1.0,3.0,3.0,1.0,2.0,1.0,1.0,1.0,2.0,2.0,1.0,1.0,2.0,3.0,2.0,3.0,1.0,2.0,1.0,3.0,1.0,2.0,4.0,3.0,3.0,3.0,4.0,4.0,2.0,2.0,3.0,5.0,5.0,2.0,2.0,2.0,1.0,2.0,2.0,2.0,3.0,2.0,2.0,1.0,1.0,1.0,3.0,2.0,2.0,3.0,2.0,4.0,1.0,6.0,2.0,2.0,2.0,3.0,2.0,1.0,2.0,2.0,4.0,1.0,3.0,1.0,1.0,1.0,2.0,2.0,3.0,1.0,2.0,2.0,1.0,2.0,3.0,2.0,3.0,1.0,2.0,2.0,1.0,2.0,1.0,3.0,1.0,2.0,1.0,2.0,1.0,1.0,1.0,3.0,1.0,4.0,2.0,1.0,3.0,3.0,2.0,2.0,2.0,1.0,2.0,1.0,3.0,1.0,1.0,1.0,1.0,1.0,3.0,2.0,1.0,1.0,1.0,2.0,1.0,2.0,2.0,1.0,1.0,1.0,1.0,1.0,2.0,1.0,1.0,2.0,2.0,2.0,2.0,1.0,1.0,1.0,2.0,3.0,2.0,1.0,1.0,3.0,1.0,2.0,2.0,1.0,3.0,1.0,1.0,1.0,4.0,1.0,1.0,2.0,1.0,1.0,1.0,1.0,2.0,1.0,3.0,1.0,2.0,2.0,1.0,1.0,4.0,2.0,1.0,1.0,2.0,3.0,1.0,2.0,1.0,1.0,1.0,2.0,1.0,2.0,1.0,1.0,1.0,1.0,1.0,1.0,1.0,1.0,1.0,1.0,1.0,1.0,2.0,1.0,1.0],\n",
       "'word':[\"qvlyq\",\"auram\",\"squcc\",\"gzblo\",\"lqavm\",\"zhnfv\",\"hycqf\",\"riltx\",\"khdcv\",\"hvatm\",\"escbj\",\"ueuym\",\"ydmux\",\"hmcir\",\"vdqfr\",\"ekjdw\",\"bsfvd\",\"xceyt\",\"rvnvx\",\"sifyx\",\"wjrlf\",\"sedfy\",\"qkdnl\",\"lnmjv\",\"pazun\",\"zekng\",\"hbszs\",\"kzets\",\"oljym\",\"sxwxc\",\"pzykl\",\"jovee\",\"juanx\",\"fsosx\",\"mnvfl\",\"vomku\",\"sgpdv\",\"vffye\",\"nrudf\",\"qbmgl\",\"otazh\",\"afqkq\",\"ldkbe\",\"pkdgu\",\"mkmcc\",\"hquam\",\"bphxz\",\"yzgjj\",\"xlcur\",\"lediy\",\"ybwkn\",\"inxrj\",\"yajth\",\"jklik\",\"niipw\",\"gsxyz\",\"lbudx\",\"qhyop\",\"rtxui\",\"ufrsf\",\"ktzvr\",\"hpomy\",\"uxjdx\",\"mdvoj\",\"wcyuh\",\"wgcuc\",\"vszkv\",\"tyyaw\",\"drviw\",\"nsiea\",\"rbove\",\"turch\",\"cxcau\",\"rbuls\",\"nbpls\",\"wpesr\",\"rtztk\",\"dwgmv\",\"bsmie\",\"lpxap\",\"kxwqn\",\"pgmxr\",\"pdumm\",\"dkkly\",\"mjqpa\",\"qdxio\",\"euyzg\",\"kkqzm\",\"fkoet\",\"cejrx\",\"tkrqf\",\"nxtbz\",\"smuff\",\"oxplp\",\"zgufq\",\"kzksc\",\"flntw\",\"cmzee\",\"wcmuw\",\"wzjhg\",\"zurkn\",\"grnwh\",\"rgijs\",\"hsgqs\",\"yruoq\",\"ofywt\",\"oljrm\",\"zztsd\",\"bkfkz\",\"rictz\",\"xbnog\",\"gotqn\",\"afklg\",\"lwibr\",\"tpdem\",\"nwink\",\"ejgvx\",\"etioq\",\"ulmjo\",\"qulfq\",\"yfiua\",\"ygvbp\",\"itjgq\",\"tqebk\",\"ziymr\",\"tqdfh\",\"idpyo\",\"dupbq\",\"unbxj\",\"oixnf\",\"couja\",\"gmufm\",\"cjjxf\",\"ukitx\",\"ltphk\",\"rgqnp\",\"mqlgh\",\"wikps\",\"ubmcr\",\"wkppd\",\"xeizm\",\"utara\",\"wfdhm\",\"afqwf\",\"fhhjo\",\"qdekx\",\"gaxry\",\"amioi\",\"xdnmz\",\"ktodi\",\"vrtxa\",\"hyaaj\",\"knxfr\",\"yzkcq\",\"czrzi\",\"oqrxb\",\"uqnfg\",\"dbsqa\",\"tphno\",\"ybtnn\",\"uemxr\",\"xmcsz\",\"cwqvl\",\"lsloi\",\"nbloa\",\"brtqe\",\"puzrg\",\"dpybu\",\"eeihg\",\"tbbzk\",\"bbzta\",\"hlcic\",\"spdeu\",\"yivoz\",\"qmadk\",\"hdwgw\",\"ktppk\",\"rjriw\",\"bebqp\",\"yvnmi\",\"feyew\",\"pzitk\",\"anjsx\",\"pzzwb\",\"nrfbw\",\"qkdlz\",\"lacem\",\"graiu\",\"fgkzs\",\"nhzbq\",\"cxhiv\",\"mgjzd\",\"khiqb\",\"eiiil\",\"knyhz\",\"sujmi\",\"ozwhu\",\"lszjn\",\"jeeqd\",\"swore\",\"txxxq\",\"yvacc\",\"rnrgw\",\"dpamn\",\"prthi\",\"ytali\",\"vhiyc\",\"zkcjb\",\"zadsx\",\"lzxba\",\"ruqbl\",\"mqpcm\",\"xgqqm\",\"frgjg\",\"doayn\",\"mbxik\",\"terwk\",\"nmtob\",\"amndz\",\"mcsrh\",\"tvacn\",\"fljcf\",\"lnlar\",\"rwmar\",\"lcovq\",\"rbsgs\",\"hyoja\",\"vjcdh\",\"snmkt\",\"exivg\",\"zfrlp\",\"vgnxa\",\"qilkk\",\"pilei\",\"phwnk\",\"ihmxr\",\"drlfd\",\"srjqn\",\"mljyk\",\"zuxet\",\"rjcqj\",\"dayxv\",\"gjwwu\",\"kadow\",\"iiuuh\",\"hidzt\",\"xlivu\",\"xwjwf\",\"mlxfh\",\"rnvcw\",\"zsnfd\",\"sabwl\",\"cdtqs\",\"pxcin\",\"cwfin\",\"ajyzl\",\"ylriz\",\"dzbja\",\"sulzp\",\"bwswv\",\"jqebo\",\"esesd\",\"rsmgo\",\"scilj\",\"bgnbb\",\"fjuxw\",\"tfejp\",\"aeivh\",\"mwncc\",\"ijvvz\",\"uaapb\",\"ymvqz\",\"omdte\",\"whitw\",\"amevr\",\"uihgd\",\"msaqg\",\"pykmo\",\"ucqpq\",\"iriqi\",\"qvsat\",\"rtszt\",\"czsrt\",\"ftyfx\",\"ujreb\",\"ixtxy\",\"ukhmj\",\"sjoje\",\"sjhkd\",\"xxqqa\",\"aauth\",\"eszyc\",\"rcrkk\",\"ardjq\",\"spqms\",\"chhaz\",\"brbqe\",\"twgfq\",\"facnt\",\"bqkqw\",\"cpucr\",\"zapkm\",\"ccxdj\",\"vjnka\",\"zgidi\",\"vvwco\",\"kvidt\",\"oipol\",\"divif\",\"ghkic\",\"hmznm\",\"oayyi\",\"ndygs\",\"gysmv\",\"estev\",\"lpbrp\",\"uhbcy\",\"qdxsn\",\"tvnil\",\"wqraj\",\"uwxzh\",\"amkfi\",\"dseqq\",\"uovux\",\"uojyd\",\"hmrmf\",\"srdoi\",\"ckbob\",\"naslp\",\"sdkaa\",\"ktmja\",\"aucfo\",\"xwgfj\",\"zdvjd\",\"ceffr\",\"tcxlk\",\"dyfqm\",\"lxuwh\",\"giykt\",\"pemwd\",\"sesee\",\"raoyb\",\"zylnm\",\"oqrxs\",\"bjwts\",\"fzeud\",\"tlyoi\",\"bxfow\",\"firba\",\"mwmzg\",\"csevg\",\"yocus\",\"yueza\",\"lrrzx\",\"zytkp\",\"eqyrg\",\"hcurw\",\"qtjeg\",\"ajmkn\",\"deewi\",\"nhqrg\",\"rwyvx\",\"mkqnl\",\"dgicu\",\"xkyru\",\"jxtko\",\"foqbi\",\"zzlux\",\"mfein\",\"ppedq\",\"qjzzg\",\"kvhzv\",\"nrmjh\",\"rxbqc\",\"leszj\",\"arjvy\",\"sxklz\",\"vqpmd\",\"brgrn\",\"ofvhf\",\"lvrpy\",\"iimsm\",\"pumzg\",\"misoa\",\"uyvxg\",\"cgapu\",\"rqhni\",\"cifde\",\"ivdmr\",\"ziudi\",\"ftqgq\",\"rndvj\",\"lvsyy\",\"ulmqf\",\"qvnrh\",\"xqici\",\"fkvhc\",\"txqps\",\"agqos\",\"whzth\",\"mcmzq\",\"dzbgh\",\"wqxto\",\"dgsvn\",\"vlrgz\",\"gwoaj\",\"hneei\",\"otvqg\",\"uupky\",\"mzxqz\",\"zgvuc\",\"kbaaz\",\"jsztc\",\"voznr\",\"gztyr\",\"igfje\",\"pgdnt\",\"zwnvr\",\"djhty\",\"jwelp\",\"fiqfv\",\"kzxvs\",\"xgwqw\",\"egehx\",\"jipgp\",\"qvgjj\",\"kitlb\",\"zifyc\",\"ydkbn\",\"xuecq\",\"qoser\",\"mkpdf\"]\n",
       "}\n",
       "}]\n",
       "};\n",
       "           var plotContainer = document.getElementById(\"Pta6wy\");\n",
       "           window.letsPlotCall(function() {{\n",
       "               LetsPlot.buildPlotFromProcessedSpecs(plotSpec, -1, -1, plotContainer);\n",
       "           }});\n",
       "       })();    \n",
       "   </script>"
      ],
      "text/plain": [
       "<lets_plot.plot.core.PlotSpec at 0x7ff6a04e7050>"
      ]
     },
     "execution_count": 4,
     "metadata": {},
     "output_type": "execute_result"
    }
   ],
   "source": [
    "# Disable sampling to see the overplotting.\n",
    "p + geom_bar(sampling='none')"
   ]
  },
  {
   "cell_type": "code",
   "execution_count": 5,
   "metadata": {},
   "outputs": [
    {
     "data": {
      "text/html": [
       "   <div id=\"LasjfA\"></div>\n",
       "   <script type=\"text/javascript\" data-lets-plot-script=\"plot\">\n",
       "       (function() {\n",
       "           var plotSpec={\n",
       "'data':{\n",
       "},\n",
       "'mapping':{\n",
       "'x':\"word\"\n",
       "},\n",
       "'data_meta':{\n",
       "},\n",
       "'kind':\"plot\",\n",
       "'scales':[],\n",
       "'layers':[{\n",
       "'geom':\"bar\",\n",
       "'mapping':{\n",
       "},\n",
       "'data_meta':{\n",
       "},\n",
       "'data':{\n",
       "'..count..':[3.0,5.0,2.0,2.0,2.0,3.0,4.0,2.0,2.0,6.0,2.0,1.0,3.0,4.0,2.0,2.0,4.0,3.0,3.0,1.0,6.0,1.0,2.0,2.0,2.0,3.0,3.0,2.0,3.0,4.0,5.0,1.0,8.0,5.0,4.0,2.0,1.0,5.0,3.0,6.0,3.0,1.0,2.0,2.0,2.0,3.0,2.0,2.0,3.0,3.0],\n",
       "'word':[\"qvlyq\",\"auram\",\"squcc\",\"gzblo\",\"lqavm\",\"zhnfv\",\"hycqf\",\"riltx\",\"khdcv\",\"hvatm\",\"escbj\",\"ueuym\",\"ydmux\",\"hmcir\",\"vdqfr\",\"ekjdw\",\"bsfvd\",\"xceyt\",\"rvnvx\",\"sifyx\",\"wjrlf\",\"sedfy\",\"qkdnl\",\"lnmjv\",\"pazun\",\"zekng\",\"hbszs\",\"kzets\",\"oljym\",\"sxwxc\",\"pzykl\",\"jovee\",\"juanx\",\"fsosx\",\"mnvfl\",\"vomku\",\"sgpdv\",\"vffye\",\"nrudf\",\"qbmgl\",\"otazh\",\"afqkq\",\"ldkbe\",\"pkdgu\",\"mkmcc\",\"hquam\",\"bphxz\",\"yzgjj\",\"xlcur\",\"lediy\"]\n",
       "}\n",
       "}],\n",
       "'computation_messages':[\"sampling_pick(n=50) was applied to [bar/count stat] layer\"]\n",
       "};\n",
       "           var plotContainer = document.getElementById(\"LasjfA\");\n",
       "           window.letsPlotCall(function() {{\n",
       "               LetsPlot.buildPlotFromProcessedSpecs(plotSpec, -1, -1, plotContainer);\n",
       "           }});\n",
       "       })();    \n",
       "   </script>"
      ],
      "text/plain": [
       "<lets_plot.plot.core.PlotSpec at 0x7ff6606dd050>"
      ]
     },
     "execution_count": 5,
     "metadata": {},
     "output_type": "execute_result"
    }
   ],
   "source": [
    "# Draw plot with default sampling.\n",
    "p + geom_bar()"
   ]
  },
  {
   "cell_type": "code",
   "execution_count": 6,
   "metadata": {},
   "outputs": [
    {
     "data": {
      "text/html": [
       "   <div id=\"xCRJdb\"></div>\n",
       "   <script type=\"text/javascript\" data-lets-plot-script=\"plot\">\n",
       "       (function() {\n",
       "           var plotSpec={\n",
       "'data':{\n",
       "},\n",
       "'mapping':{\n",
       "'x':\"word\"\n",
       "},\n",
       "'data_meta':{\n",
       "},\n",
       "'kind':\"plot\",\n",
       "'scales':[],\n",
       "'layers':[{\n",
       "'geom':\"bar\",\n",
       "'mapping':{\n",
       "'fill':\"g\"\n",
       "},\n",
       "'data_meta':{\n",
       "},\n",
       "'data':{\n",
       "'..count..':[1.0,3.0,1.0,3.0,2.0,2.0,1.0,1.0,1.0,1.0,1.0,2.0,1.0,1.0,1.0,1.0,2.0,2.0,3.0,1.0,1.0,3.0,1.0,1.0,2.0,1.0,1.0,2.0,2.0,1.0,2.0,1.0,1.0,1.0,3.0,2.0,1.0,1.0,2.0,1.0,1.0,2.0,1.0,3.0,3.0,1.0,1.0,1.0,1.0,3.0,3.0,1.0,1.0,1.0,3.0,3.0,1.0,1.0,1.0,2.0,1.0,1.0,1.0,1.0,2.0,1.0,3.0,1.0,1.0,1.0,1.0,1.0,1.0,2.0,1.0,1.0,1.0,1.0,1.0,1.0,4.0,2.0,1.0,1.0,3.0,1.0,1.0,1.0,1.0,1.0,1.0,3.0,2.0,2.0,2.0,2.0,1.0,1.0,2.0,1.0,1.0,2.0,1.0,1.0,1.0,1.0,1.0,2.0,1.0],\n",
       "'word':[\"qvlyq\",\"auram\",\"lqavm\",\"zhnfv\",\"ydmux\",\"vdqfr\",\"ekjdw\",\"bsfvd\",\"sifyx\",\"sedfy\",\"sxwxc\",\"pzykl\",\"fsosx\",\"vomku\",\"sgpdv\",\"vffye\",\"qbmgl\",\"hmcir\",\"lediy\",\"yajth\",\"rtxui\",\"ufrsf\",\"hpomy\",\"wjrlf\",\"mdvoj\",\"rtztk\",\"qdxio\",\"vszkv\",\"cejrx\",\"smuff\",\"zgufq\",\"wcmuw\",\"rgijs\",\"yruoq\",\"oljrm\",\"zztsd\",\"bkfkz\",\"rictz\",\"xbnog\",\"tpdem\",\"nwink\",\"ejgvx\",\"ulmjo\",\"hsgqs\",\"ziymr\",\"idpyo\",\"cmzee\",\"dupbq\",\"gmufm\",\"ygvbp\",\"fsosx\",\"vszkv\",\"sxwxc\",\"hsgqs\",\"ygvbp\",\"dupbq\",\"rictz\",\"rtztk\",\"cejrx\",\"yruoq\",\"qbmgl\",\"oljrm\",\"cmzee\",\"hpomy\",\"tpdem\",\"xbnog\",\"vffye\",\"pzykl\",\"yajth\",\"ekjdw\",\"auram\",\"vomku\",\"idpyo\",\"bsfvd\",\"hmcir\",\"smuff\",\"wcmuw\",\"wjrlf\",\"rtxui\",\"hmcir\",\"wjrlf\",\"rtxui\",\"cmzee\",\"auram\",\"qbmgl\",\"vffye\",\"ydmux\",\"hsgqs\",\"rtztk\",\"cejrx\",\"hpomy\",\"vszkv\",\"ygvbp\",\"sxwxc\",\"mdvoj\",\"qvlyq\",\"wcmuw\",\"zztsd\",\"pzykl\",\"bsfvd\",\"fsosx\",\"oljrm\",\"dupbq\",\"ejgvx\",\"xbnog\",\"rgijs\",\"lqavm\",\"gmufm\",\"tpdem\"],\n",
       "'g':[\"a\",\"a\",\"a\",\"a\",\"a\",\"a\",\"a\",\"a\",\"a\",\"a\",\"a\",\"a\",\"a\",\"a\",\"a\",\"a\",\"a\",\"a\",\"a\",\"a\",\"a\",\"a\",\"a\",\"a\",\"a\",\"a\",\"a\",\"a\",\"a\",\"a\",\"a\",\"a\",\"a\",\"a\",\"a\",\"a\",\"a\",\"a\",\"a\",\"a\",\"a\",\"a\",\"a\",\"a\",\"a\",\"a\",\"a\",\"a\",\"a\",\"a\",\"c\",\"c\",\"c\",\"c\",\"c\",\"c\",\"c\",\"c\",\"c\",\"c\",\"c\",\"c\",\"c\",\"c\",\"c\",\"c\",\"c\",\"c\",\"c\",\"c\",\"c\",\"c\",\"c\",\"c\",\"c\",\"c\",\"c\",\"c\",\"c\",\"b\",\"b\",\"b\",\"b\",\"b\",\"b\",\"b\",\"b\",\"b\",\"b\",\"b\",\"b\",\"b\",\"b\",\"b\",\"b\",\"b\",\"b\",\"b\",\"b\",\"b\",\"b\",\"b\",\"b\",\"b\",\"b\",\"b\",\"b\",\"b\",\"b\"]\n",
       "}\n",
       "}],\n",
       "'computation_messages':[\"sampling_pick(n=50) was applied to [bar/count stat] layer\"]\n",
       "};\n",
       "           var plotContainer = document.getElementById(\"xCRJdb\");\n",
       "           window.letsPlotCall(function() {{\n",
       "               LetsPlot.buildPlotFromProcessedSpecs(plotSpec, -1, -1, plotContainer);\n",
       "           }});\n",
       "       })();    \n",
       "   </script>"
      ],
      "text/plain": [
       "<lets_plot.plot.core.PlotSpec at 0x7ff6606dd910>"
      ]
     },
     "execution_count": 6,
     "metadata": {},
     "output_type": "execute_result"
    }
   ],
   "source": [
    "# 'pick' sampling preserves groups on bar chart.\n",
    "p + geom_bar(aes(fill='g'))"
   ]
  }
 ],
 "metadata": {
  "kernelspec": {
   "display_name": "Python 3",
   "language": "python",
   "name": "python3"
  },
  "language_info": {
   "codemirror_mode": {
    "name": "ipython",
    "version": 3
   },
   "file_extension": ".py",
   "mimetype": "text/x-python",
   "name": "python",
   "nbconvert_exporter": "python",
   "pygments_lexer": "ipython3",
   "version": "3.7.9"
  },
  "pycharm": {
   "stem_cell": {
    "cell_type": "raw",
    "metadata": {
     "collapsed": false
    },
    "source": []
   }
  }
 },
 "nbformat": 4,
 "nbformat_minor": 1
}
