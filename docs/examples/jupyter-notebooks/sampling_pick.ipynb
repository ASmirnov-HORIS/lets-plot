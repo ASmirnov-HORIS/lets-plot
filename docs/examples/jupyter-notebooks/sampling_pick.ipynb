{
 "cells": [
  {
   "cell_type": "markdown",
   "metadata": {},
   "source": [
    "## Pick Sampling"
   ]
  },
  {
   "cell_type": "code",
   "execution_count": 1,
   "metadata": {},
   "outputs": [
    {
     "data": {
      "text/html": [
       "\n",
       "            <div id=\"ZU00e0\"></div>\n",
       "            <script type=\"text/javascript\">\n",
       "                if(!window.datalorePlotCallQueue) {\n",
       "                    window.datalorePlotCallQueue = [];\n",
       "                }; \n",
       "                window.datalorePlotCall = function(f) {\n",
       "                    window.datalorePlotCallQueue.push(f);\n",
       "                };\n",
       "                (function() {\n",
       "                    var script = document.createElement(\"script\");\n",
       "                    script.type = \"text/javascript\";\n",
       "                    script.src = \"http://dl.bintray.com/jetbrains/datalore-plot/datalore-plot-0.0.1rc3.min.js\";\n",
       "                    script.onload = function() {\n",
       "                        window.datalorePlotCall = function(f) {f();};\n",
       "                        window.datalorePlotCallQueue.forEach(function(f) {f();});\n",
       "                        window.datalorePlotCallQueue = [];\n",
       "                        \n",
       "            var div = document.createElement(\"div\");\n",
       "            div.style.color = 'darkblue';\n",
       "            div.textContent = 'Datalore Plot JS successfully loaded.';\n",
       "            document.getElementById(\"ZU00e0\").appendChild(div);\n",
       "        \n",
       "                    };\n",
       "                    script.onerror = function(event) {\n",
       "                        window.datalorePlotCall = function(f) {};    // noop\n",
       "                        window.datalorePlotCallQueue = [];\n",
       "                        var div = document.createElement(\"div\");\n",
       "                        div.style.color = 'darkred';\n",
       "                        div.textContent = 'Error loading Datalore Plot JS';\n",
       "                        document.getElementById(\"ZU00e0\").appendChild(div);\n",
       "                    };\n",
       "                    var e = document.getElementById(\"ZU00e0\");\n",
       "                    e.appendChild(script);\n",
       "                })()\n",
       "            </script>\n",
       "            "
      ]
     },
     "metadata": {},
     "output_type": "display_data"
    }
   ],
   "source": [
    "import numpy as np\n",
    "from datalore_plot import *\n",
    "import random, string\n",
    "\n",
    "load_datalore_plot_js()"
   ]
  },
  {
   "cell_type": "code",
   "execution_count": 2,
   "metadata": {},
   "outputs": [],
   "source": [
    "def gen_word(length):\n",
    "    letters = string.ascii_lowercase\n",
    "    return ''.join(random.choice(letters) for _ in range(length))\n",
    "\n",
    "def gen_word_set(n):\n",
    "    random.seed(1)\n",
    "    word_set = set()\n",
    "    while len(word_set) < n:\n",
    "        word_set.add(gen_word(5))\n",
    "    return word_set\n",
    "\n",
    "def data(n, word_set):\n",
    "    word_choice = list(word_set)\n",
    "    words=[]\n",
    "    groups = []\n",
    "    for _ in range(n):\n",
    "        words.append(np.random.choice(word_choice))\n",
    "        groups.append(np.random.choice(['a','b','c']))\n",
    "\n",
    "    return dict(word=words, g=groups)"
   ]
  },
  {
   "cell_type": "code",
   "execution_count": 3,
   "metadata": {},
   "outputs": [],
   "source": [
    "# Number of unique words exceeds threshold (50) of default 'pick' sampling on bar chart.\n",
    "N = 500\n",
    "word_set = gen_word_set(N)\n",
    "dat = data(1000, word_set)\n",
    "p = ggplot(dat, aes(x='word'))"
   ]
  },
  {
   "cell_type": "code",
   "execution_count": 4,
   "metadata": {},
   "outputs": [
    {
     "data": {
      "text/html": [
       "\n",
       "            <div id=\"plot_output_YjiXC9\"></div>\n",
       "            <script type=\"text/javascript\">\n",
       "                (function() {\n",
       "                    var plotSpec={\n",
       "'data':{\n",
       "},\n",
       "'mapping':{\n",
       "'x':\"word\"\n",
       "},\n",
       "'kind':\"plot\",\n",
       "'scales':[],\n",
       "'layers':[{\n",
       "'geom':\"bar\",\n",
       "'sampling':\"none\",\n",
       "'data':{\n",
       "'..count..':[4.0,1.0,4.0,2.0,4.0,4.0,3.0,1.0,4.0,2.0,3.0,2.0,3.0,1.0,2.0,4.0,5.0,2.0,4.0,3.0,2.0,3.0,3.0,4.0,2.0,2.0,4.0,3.0,1.0,3.0,5.0,1.0,3.0,1.0,2.0,4.0,4.0,2.0,4.0,3.0,3.0,1.0,3.0,2.0,4.0,6.0,1.0,5.0,2.0,4.0,3.0,4.0,2.0,3.0,2.0,4.0,1.0,2.0,3.0,2.0,5.0,4.0,2.0,2.0,4.0,3.0,1.0,2.0,5.0,2.0,2.0,4.0,2.0,2.0,2.0,6.0,1.0,5.0,1.0,6.0,3.0,2.0,2.0,5.0,2.0,2.0,4.0,2.0,1.0,3.0,2.0,2.0,1.0,1.0,3.0,6.0,3.0,1.0,6.0,4.0,5.0,2.0,2.0,1.0,3.0,4.0,6.0,4.0,3.0,2.0,3.0,2.0,5.0,3.0,2.0,3.0,3.0,1.0,3.0,2.0,4.0,3.0,2.0,2.0,2.0,1.0,1.0,2.0,5.0,3.0,4.0,3.0,2.0,2.0,3.0,4.0,2.0,1.0,1.0,3.0,2.0,3.0,3.0,2.0,2.0,1.0,1.0,2.0,5.0,1.0,1.0,2.0,2.0,2.0,4.0,5.0,2.0,2.0,2.0,4.0,1.0,1.0,1.0,4.0,2.0,3.0,2.0,6.0,3.0,3.0,1.0,1.0,3.0,1.0,3.0,1.0,2.0,2.0,1.0,1.0,3.0,4.0,4.0,2.0,3.0,1.0,4.0,2.0,2.0,1.0,3.0,2.0,2.0,3.0,2.0,1.0,2.0,1.0,6.0,3.0,1.0,2.0,3.0,2.0,2.0,3.0,3.0,2.0,3.0,2.0,2.0,1.0,3.0,2.0,3.0,2.0,3.0,4.0,3.0,5.0,9.0,4.0,3.0,1.0,3.0,4.0,4.0,2.0,2.0,2.0,5.0,3.0,2.0,2.0,4.0,3.0,3.0,3.0,2.0,1.0,2.0,1.0,1.0,4.0,3.0,3.0,3.0,4.0,4.0,1.0,1.0,1.0,1.0,1.0,2.0,3.0,2.0,6.0,1.0,1.0,2.0,4.0,1.0,6.0,1.0,1.0,2.0,4.0,2.0,2.0,6.0,5.0,2.0,1.0,1.0,2.0,3.0,2.0,1.0,2.0,4.0,3.0,1.0,1.0,3.0,3.0,2.0,1.0,2.0,1.0,1.0,1.0,5.0,1.0,2.0,3.0,1.0,5.0,2.0,1.0,1.0,1.0,2.0,2.0,1.0,2.0,1.0,2.0,2.0,1.0,2.0,3.0,2.0,2.0,2.0,2.0,2.0,3.0,1.0,1.0,2.0,3.0,2.0,3.0,2.0,4.0,3.0,2.0,5.0,3.0,1.0,1.0,2.0,2.0,1.0,1.0,2.0,2.0,2.0,3.0,2.0,2.0,1.0,1.0,1.0,1.0,1.0,2.0,2.0,1.0,1.0,1.0,2.0,1.0,1.0,2.0,1.0,2.0,2.0,2.0,2.0,1.0,3.0,2.0,3.0,2.0,3.0,1.0,1.0,1.0,2.0,1.0,1.0,2.0,1.0,1.0,2.0,1.0,2.0,1.0,1.0,1.0,1.0,1.0,1.0,1.0,1.0,1.0,1.0,1.0,2.0,1.0,2.0,2.0,1.0,1.0,2.0,1.0,2.0,2.0,1.0,1.0,1.0,1.0,3.0,1.0,1.0,1.0,1.0,1.0,2.0,1.0,1.0,2.0,1.0,1.0,1.0,1.0,1.0,1.0,1.0,1.0,1.0,1.0,1.0,1.0,1.0,1.0,1.0,1.0,1.0,1.0,1.0,1.0,1.0,1.0,1.0,1.0,1.0],\n",
       "'word':[\"xgwqw\",\"fkvhc\",\"qoser\",\"sulzp\",\"zurkn\",\"misoa\",\"cpucr\",\"pazun\",\"dpybu\",\"ghkic\",\"sifyx\",\"qkdlz\",\"mljyk\",\"jxtko\",\"nhzbq\",\"wgcuc\",\"rbuls\",\"csevg\",\"ukitx\",\"wzjhg\",\"bwswv\",\"qzass\",\"ekjdw\",\"uaapb\",\"fsosx\",\"knyhz\",\"czrzi\",\"ybwkn\",\"uojyd\",\"ldkbe\",\"anjsx\",\"pxhuu\",\"nmtob\",\"sjhkd\",\"yajth\",\"ftqgq\",\"hyoja\",\"dbsqa\",\"evsbl\",\"mwncc\",\"mjqpa\",\"hmznm\",\"xmmnv\",\"tyyaw\",\"zgvuc\",\"zifyc\",\"ziudi\",\"qdxio\",\"okqzr\",\"mqpcm\",\"gotqn\",\"wcyuh\",\"rwmar\",\"spqms\",\"graiu\",\"xqici\",\"xawdz\",\"facnt\",\"gzblo\",\"sjgmf\",\"qmadk\",\"yfiua\",\"pgdnt\",\"ofywt\",\"nomrd\",\"bbzta\",\"ulmjo\",\"ijvvz\",\"ktxlh\",\"chhaz\",\"amioi\",\"lvrpy\",\"eszyc\",\"erxby\",\"nxtbz\",\"sgpdv\",\"unbxj\",\"yzgjj\",\"xdnmz\",\"tqzss\",\"mlxfh\",\"gztyr\",\"zdple\",\"tvacn\",\"cjjxf\",\"rcrkk\",\"jwelp\",\"vgnxa\",\"gysmv\",\"mcmzq\",\"vlrgz\",\"qtjeg\",\"jipgp\",\"ftyfx\",\"ktppk\",\"ujreb\",\"cmzee\",\"uovux\",\"xgqqm\",\"aucfo\",\"mgjzd\",\"zapkm\",\"pilei\",\"ixtxy\",\"xbnog\",\"lrrzx\",\"zzlux\",\"ozwhu\",\"turch\",\"naslp\",\"uxjdx\",\"itjgq\",\"pumzg\",\"xwjwf\",\"amndz\",\"qewsi\",\"nrmjh\",\"gwoaj\",\"otazh\",\"yvnmi\",\"bsqcs\",\"pzitk\",\"zgidi\",\"oayyi\",\"eeihg\",\"lwibr\",\"qbmgl\",\"tqebk\",\"mzxqz\",\"agqos\",\"lcovq\",\"uihgd\",\"uzwqo\",\"qvgjj\",\"iuwjo\",\"cifde\",\"pkdgu\",\"rtszt\",\"vvwco\",\"dzbja\",\"sjoje\",\"zdvjd\",\"igcux\",\"ardjq\",\"xfglm\",\"lzxba\",\"kbaaz\",\"ktzvr\",\"lvsyy\",\"qkdnl\",\"rgijs\",\"aauth\",\"spiee\",\"hcurw\",\"rsmgo\",\"serom\",\"wikps\",\"hdses\",\"bgnbb\",\"riltx\",\"xeizm\",\"vdqfr\",\"tcxlk\",\"fzeud\",\"fljcf\",\"rvnvx\",\"hycqf\",\"iroro\",\"clcvo\",\"qhayg\",\"sdkaa\",\"brgrn\",\"mywoa\",\"xlcur\",\"deewi\",\"otvqg\",\"bebqp\",\"niipw\",\"rictz\",\"swore\",\"brtqe\",\"pgmxr\",\"drviw\",\"doayn\",\"hmcir\",\"jqebo\",\"srjqn\",\"lxuwh\",\"lnmjv\",\"wdsap\",\"znrfw\",\"ccxdj\",\"bsfvd\",\"xwgfj\",\"auram\",\"arjvy\",\"oxplp\",\"dnush\",\"rndvj\",\"brbqe\",\"zylnm\",\"srdoi\",\"vqpmd\",\"nbpls\",\"hquam\",\"iiuuh\",\"uyvxg\",\"igfje\",\"xkyru\",\"nbloa\",\"mkpdf\",\"afqkq\",\"spdeu\",\"sesee\",\"kzxvs\",\"bqkqw\",\"tbbzk\",\"etioq\",\"ydkbn\",\"hneei\",\"rrchm\",\"zztsd\",\"rxbqc\",\"kitlb\",\"rqntu\",\"sujmi\",\"escbj\",\"tlyoi\",\"iaomz\",\"yzkcq\",\"ucqpq\",\"nrfbw\",\"fjuxw\",\"niqjx\",\"jsztc\",\"ufrsf\",\"sedfy\",\"egehx\",\"uhbcy\",\"prthi\",\"rtztk\",\"vffye\",\"ruqbl\",\"txqps\",\"kzksc\",\"twgfq\",\"lsloi\",\"sizhw\",\"ymvqz\",\"ziymr\",\"phwnk\",\"amkfi\",\"fhhjo\",\"ypgwp\",\"sxwxc\",\"hpomy\",\"qilkk\",\"bsmie\",\"bjwts\",\"aeivh\",\"whdhk\",\"hidzt\",\"fiqfv\",\"feyew\",\"flntw\",\"qdekx\",\"hsgqs\",\"dyfqm\",\"ivdmr\",\"wqxto\",\"nwink\",\"rnrgw\",\"ylriz\",\"mnvfl\",\"cejrx\",\"mdvoj\",\"tpdem\",\"ejgvx\",\"yvacc\",\"hbszs\",\"rnvcw\",\"grnwh\",\"yueza\",\"wfdhm\",\"dgcba\",\"idpyo\",\"ktodi\",\"zadsx\",\"ytali\",\"hlcic\",\"gjwwu\",\"squcc\",\"pdumm\",\"ydmux\",\"rtxui\",\"drlfd\",\"wjrlf\",\"xxqqa\",\"lpxap\",\"yruoq\",\"dkkly\",\"iriqi\",\"egbjc\",\"eqyrg\",\"ulmqf\",\"oixzh\",\"foqbi\",\"vszkv\",\"hdwgw\",\"terwk\",\"couja\",\"lbudx\",\"hhkpv\",\"lqavm\",\"divif\",\"bphxz\",\"bxfow\",\"afqwf\",\"dwgmv\",\"juanx\",\"neafi\",\"ezvba\",\"hmrmf\",\"imcvs\",\"yivoz\",\"amevr\",\"lnlar\",\"gsxyz\",\"ndygs\",\"firba\",\"uqnfg\",\"mfein\",\"lacem\",\"dseqq\",\"afklg\",\"cdtqs\",\"kzets\",\"rqhni\",\"zkcjb\",\"bkfkz\",\"ahame\",\"cwfin\",\"hqiiw\",\"ueuym\",\"myods\",\"gnira\",\"kkqzm\",\"lediy\",\"euyzg\",\"mkmcc\",\"iimsm\",\"eiiil\",\"pxcin\",\"zgufq\",\"frgjg\",\"estev\",\"yocus\",\"vjnka\",\"dgsvn\",\"oqrxs\",\"voznr\",\"ofvhf\",\"tvnil\",\"vrtxa\",\"hyaaj\",\"vjcdh\",\"mwmzg\",\"puzrg\",\"dayxv\",\"lszjn\",\"msaqg\",\"ygvbp\",\"xlivu\",\"sabwl\",\"ixpbx\",\"cxcau\",\"xceyt\",\"qvsat\",\"fkoet\",\"oljrm\",\"ybtnn\",\"wpesr\",\"mqlgh\",\"uemxr\",\"djhty\",\"lpbrp\",\"tfejp\",\"rhcxb\",\"fgkzs\",\"pzykl\",\"bpvmw\",\"rwyvx\",\"ktmja\",\"bvcca\",\"ltphk\",\"gmufm\",\"jeeqd\",\"cgapu\",\"oixnf\",\"sxklz\",\"vomku\",\"qulfq\",\"rbsgs\",\"ppedq\",\"dvkia\",\"smuff\",\"qvlyq\",\"kxwqn\",\"mbxik\",\"wkppd\",\"gaxry\",\"wqraj\",\"adiep\",\"dupbq\",\"nhqrg\",\"nxvsb\",\"exivg\",\"zuxet\",\"ajyzl\",\"dgicu\",\"kadow\",\"kvidt\",\"rhlhv\",\"zekng\",\"oipol\",\"zwnvr\",\"ihmxr\",\"yrrff\",\"qjzzg\",\"whitw\",\"cxhiv\",\"raoyb\",\"utara\",\"hvatm\",\"pdvef\",\"zytkp\",\"omdte\",\"oljym\",\"oqrxb\"]\n",
       "}\n",
       "}]\n",
       "};\n",
       "                    var plotContainer = document.getElementById(\"plot_output_YjiXC9\");\n",
       "                    window.datalorePlotCall(function() {{\n",
       "                        DatalorePlot.buildPlotFromProcessedSpecs(plotSpec, -1, -1, plotContainer);\n",
       "                    }});\n",
       "                })();    \n",
       "            </script>\n",
       "        "
      ],
      "text/plain": [
       "<datalore_plot.plot.core.PlotSpec at 0x115766350>"
      ]
     },
     "execution_count": 4,
     "metadata": {},
     "output_type": "execute_result"
    }
   ],
   "source": [
    "# Disable sampling to see raw plot\n",
    "p + geom_bar(sampling='none')"
   ]
  },
  {
   "cell_type": "code",
   "execution_count": 5,
   "metadata": {},
   "outputs": [
    {
     "data": {
      "text/html": [
       "\n",
       "            <div id=\"plot_output_JoZsSa\"></div>\n",
       "            <script type=\"text/javascript\">\n",
       "                (function() {\n",
       "                    var plotSpec={\n",
       "'data':{\n",
       "},\n",
       "'mapping':{\n",
       "'x':\"word\"\n",
       "},\n",
       "'kind':\"plot\",\n",
       "'scales':[],\n",
       "'layers':[{\n",
       "'geom':\"bar\",\n",
       "'data':{\n",
       "'..count..':[4.0,1.0,4.0,2.0,4.0,4.0,3.0,1.0,4.0,2.0,3.0,2.0,3.0,1.0,2.0,4.0,5.0,2.0,4.0,3.0,2.0,3.0,3.0,4.0,2.0,2.0,4.0,3.0,1.0,3.0,5.0,1.0,3.0,1.0,2.0,4.0,4.0,2.0,4.0,3.0,3.0,1.0,3.0,2.0,4.0,6.0,1.0,5.0,2.0,4.0],\n",
       "'word':[\"xgwqw\",\"fkvhc\",\"qoser\",\"sulzp\",\"zurkn\",\"misoa\",\"cpucr\",\"pazun\",\"dpybu\",\"ghkic\",\"sifyx\",\"qkdlz\",\"mljyk\",\"jxtko\",\"nhzbq\",\"wgcuc\",\"rbuls\",\"csevg\",\"ukitx\",\"wzjhg\",\"bwswv\",\"qzass\",\"ekjdw\",\"uaapb\",\"fsosx\",\"knyhz\",\"czrzi\",\"ybwkn\",\"uojyd\",\"ldkbe\",\"anjsx\",\"pxhuu\",\"nmtob\",\"sjhkd\",\"yajth\",\"ftqgq\",\"hyoja\",\"dbsqa\",\"evsbl\",\"mwncc\",\"mjqpa\",\"hmznm\",\"xmmnv\",\"tyyaw\",\"zgvuc\",\"zifyc\",\"ziudi\",\"qdxio\",\"okqzr\",\"mqpcm\"]\n",
       "}\n",
       "}],\n",
       "'computation_messages':[\"sampling_pick(n=50) was applied to [bar/count stat] layer\"]\n",
       "};\n",
       "                    var plotContainer = document.getElementById(\"plot_output_JoZsSa\");\n",
       "                    window.datalorePlotCall(function() {{\n",
       "                        DatalorePlot.buildPlotFromProcessedSpecs(plotSpec, -1, -1, plotContainer);\n",
       "                    }});\n",
       "                })();    \n",
       "            </script>\n",
       "        "
      ],
      "text/plain": [
       "<datalore_plot.plot.core.PlotSpec at 0x115798ad0>"
      ]
     },
     "execution_count": 5,
     "metadata": {},
     "output_type": "execute_result"
    }
   ],
   "source": [
    "# Draw plot with default sampling enabled\n",
    "p + geom_bar()"
   ]
  },
  {
   "cell_type": "code",
   "execution_count": 6,
   "metadata": {},
   "outputs": [
    {
     "data": {
      "text/html": [
       "\n",
       "            <div id=\"plot_output_Pxf1No\"></div>\n",
       "            <script type=\"text/javascript\">\n",
       "                (function() {\n",
       "                    var plotSpec={\n",
       "'data':{\n",
       "},\n",
       "'mapping':{\n",
       "'x':\"word\"\n",
       "},\n",
       "'kind':\"plot\",\n",
       "'scales':[],\n",
       "'layers':[{\n",
       "'geom':\"bar\",\n",
       "'mapping':{\n",
       "'fill':\"g\"\n",
       "},\n",
       "'data':{\n",
       "'..count..':[1.0,1.0,1.0,1.0,3.0,2.0,2.0,2.0,2.0,1.0,1.0,1.0,2.0,2.0,2.0,1.0,3.0,1.0,1.0,2.0,1.0,2.0,4.0,2.0,1.0,1.0,1.0,2.0,2.0,3.0,2.0,2.0,2.0,1.0,1.0,2.0,2.0,2.0,1.0,1.0,1.0,1.0,2.0,2.0,1.0,1.0,1.0,1.0,1.0,1.0,2.0,1.0,1.0,2.0,1.0,2.0,1.0,2.0,2.0,1.0,1.0,1.0,1.0,1.0,1.0,3.0,1.0,1.0,1.0,1.0,1.0,1.0,1.0,1.0,1.0,2.0,2.0,3.0,2.0,1.0,2.0,1.0,1.0,2.0,1.0,1.0,1.0,1.0,1.0,1.0,1.0,1.0,1.0,1.0,2.0,1.0,1.0],\n",
       "'word':[\"xgwqw\",\"fkvhc\",\"qoser\",\"cpucr\",\"dpybu\",\"mljyk\",\"csevg\",\"ekjdw\",\"uaapb\",\"yajth\",\"hyoja\",\"dbsqa\",\"mwncc\",\"mjqpa\",\"xmmnv\",\"ziudi\",\"qdxio\",\"okqzr\",\"graiu\",\"qzass\",\"xawdz\",\"sjgmf\",\"qmadk\",\"gzblo\",\"ukitx\",\"amioi\",\"unbxj\",\"mlxfh\",\"zdple\",\"tvacn\",\"cjjxf\",\"vgnxa\",\"vlrgz\",\"qtjeg\",\"jipgp\",\"xgqqm\",\"misoa\",\"ozwhu\",\"pumzg\",\"amndz\",\"nrmjh\",\"gwoaj\",\"pzitk\",\"zgidi\",\"cmzee\",\"uzwqo\",\"qvgjj\",\"cifde\",\"zdvjd\",\"xfglm\",\"qoser\",\"qzass\",\"gzblo\",\"hyoja\",\"ukitx\",\"tvacn\",\"cifde\",\"xgqqm\",\"cpucr\",\"mjqpa\",\"mlxfh\",\"zdvjd\",\"amndz\",\"okqzr\",\"nrmjh\",\"pumzg\",\"amioi\",\"mljyk\",\"dpybu\",\"qvgjj\",\"yajth\",\"cmzee\",\"qdxio\",\"pzitk\",\"graiu\",\"misoa\",\"ukitx\",\"xgwqw\",\"uaapb\",\"cmzee\",\"xgqqm\",\"hyoja\",\"nrmjh\",\"ozwhu\",\"zdvjd\",\"mwncc\",\"ekjdw\",\"pumzg\",\"uzwqo\",\"qoser\",\"xfglm\",\"qmadk\",\"qtjeg\",\"xmmnv\",\"cifde\",\"qdxio\",\"dbsqa\"],\n",
       "'g':[\"a\",\"a\",\"a\",\"a\",\"a\",\"a\",\"a\",\"a\",\"a\",\"a\",\"a\",\"a\",\"a\",\"a\",\"a\",\"a\",\"a\",\"a\",\"a\",\"a\",\"a\",\"a\",\"a\",\"a\",\"a\",\"a\",\"a\",\"a\",\"a\",\"a\",\"a\",\"a\",\"a\",\"a\",\"a\",\"a\",\"a\",\"a\",\"a\",\"a\",\"a\",\"a\",\"a\",\"a\",\"a\",\"a\",\"a\",\"a\",\"a\",\"a\",\"b\",\"b\",\"b\",\"b\",\"b\",\"b\",\"b\",\"b\",\"b\",\"b\",\"b\",\"b\",\"b\",\"b\",\"b\",\"b\",\"b\",\"b\",\"b\",\"b\",\"b\",\"b\",\"b\",\"b\",\"b\",\"c\",\"c\",\"c\",\"c\",\"c\",\"c\",\"c\",\"c\",\"c\",\"c\",\"c\",\"c\",\"c\",\"c\",\"c\",\"c\",\"c\",\"c\",\"c\",\"c\",\"c\",\"c\"]\n",
       "}\n",
       "}],\n",
       "'computation_messages':[\"sampling_pick(n=50) was applied to [bar/count stat] layer\"]\n",
       "};\n",
       "                    var plotContainer = document.getElementById(\"plot_output_Pxf1No\");\n",
       "                    window.datalorePlotCall(function() {{\n",
       "                        DatalorePlot.buildPlotFromProcessedSpecs(plotSpec, -1, -1, plotContainer);\n",
       "                    }});\n",
       "                })();    \n",
       "            </script>\n",
       "        "
      ],
      "text/plain": [
       "<datalore_plot.plot.core.PlotSpec at 0x1157f2b90>"
      ]
     },
     "execution_count": 6,
     "metadata": {},
     "output_type": "execute_result"
    }
   ],
   "source": [
    "# 'pick' sampling handles groups on bar chart correctly.\n",
    "p + geom_bar(aes(fill='g'))"
   ]
  }
 ],
 "metadata": {
  "kernelspec": {
   "display_name": "Python 3",
   "language": "python",
   "name": "python3"
  },
  "language_info": {
   "codemirror_mode": {
    "name": "ipython",
    "version": 3
   },
   "file_extension": ".py",
   "mimetype": "text/x-python",
   "name": "python",
   "nbconvert_exporter": "python",
   "pygments_lexer": "ipython3",
   "version": "3.7.5"
  }
 },
 "nbformat": 4,
 "nbformat_minor": 1
}
