{
 "cells": [
  {
   "cell_type": "markdown",
   "metadata": {},
   "source": [
    "<em><sub>This page is available as an executable or viewable <strong>Jupyter Notebook</strong>:</sub></em>\n",
    "<br/><br/>\n",
    "<a href=\"https://mybinder.org/v2/gh/JetBrains/lets-plot/v1.5.0demos1?filepath=docs%2Fexamples%2Fjupyter-notebooks%2Fsampling_pick.ipynb\"\n",
    "   target=\"_parent\"> \n",
    "   <img align=\"left\" \n",
    "        src=\"https://mybinder.org/badge_logo.svg\">\n",
    "</a>\n",
    "<a href=\"https://nbviewer.jupyter.org/github/JetBrains/lets-plot/blob/master/docs/examples/jupyter-notebooks/sampling_pick.ipynb\" \n",
    "   target=\"_parent\"> \n",
    "   <img align=\"right\" \n",
    "        src=\"https://raw.githubusercontent.com/jupyter/design/master/logos/Badges/nbviewer_badge.png\" \n",
    "        width=\"109\" height=\"20\">\n",
    "</a>\n",
    "<br/>\n",
    "<br/>\n",
    "\n",
    "\n",
    "## Pick Sampling"
   ]
  },
  {
   "cell_type": "code",
   "execution_count": 1,
   "metadata": {},
   "outputs": [
    {
     "data": {
      "text/html": [
       "\n",
       "            <div id=\"Hq86Pl\"></div>\n",
       "            <script type=\"text/javascript\" data-lets-plot-script=\"library\">\n",
       "                if(!window.letsPlotCallQueue) {\n",
       "                    window.letsPlotCallQueue = [];\n",
       "                }; \n",
       "                window.letsPlotCall = function(f) {\n",
       "                    window.letsPlotCallQueue.push(f);\n",
       "                };\n",
       "                (function() {\n",
       "                    var script = document.createElement(\"script\");\n",
       "                    script.type = \"text/javascript\";\n",
       "                    script.src = \"https://dl.bintray.com/jetbrains/lets-plot/lets-plot-1.5.0.min.js\";\n",
       "                    script.onload = function() {\n",
       "                        window.letsPlotCall = function(f) {f();};\n",
       "                        window.letsPlotCallQueue.forEach(function(f) {f();});\n",
       "                        window.letsPlotCallQueue = [];\n",
       "                        \n",
       "                    };\n",
       "                    script.onerror = function(event) {\n",
       "                        window.letsPlotCall = function(f) {};    // noop\n",
       "                        window.letsPlotCallQueue = [];\n",
       "                        var div = document.createElement(\"div\");\n",
       "                        div.style.color = 'darkred';\n",
       "                        div.textContent = 'Error loading Lets-Plot JS';\n",
       "                        document.getElementById(\"Hq86Pl\").appendChild(div);\n",
       "                    };\n",
       "                    var e = document.getElementById(\"Hq86Pl\");\n",
       "                    e.appendChild(script);\n",
       "                })()\n",
       "            </script>\n",
       "            "
      ]
     },
     "metadata": {},
     "output_type": "display_data"
    }
   ],
   "source": [
    "import numpy as np\n",
    "from lets_plot import *\n",
    "import random, string\n",
    "\n",
    "LetsPlot.setup_html()"
   ]
  },
  {
   "cell_type": "code",
   "execution_count": 2,
   "metadata": {},
   "outputs": [],
   "source": [
    "def gen_word(length):\n",
    "    letters = string.ascii_lowercase\n",
    "    return ''.join(random.choice(letters) for _ in range(length))\n",
    "\n",
    "def gen_word_set(n):\n",
    "    random.seed(1)\n",
    "    word_set = set()\n",
    "    while len(word_set) < n:\n",
    "        word_set.add(gen_word(5))\n",
    "    return word_set\n",
    "\n",
    "def data(n, word_set):\n",
    "    word_choice = list(word_set)\n",
    "    words=[]\n",
    "    groups = []\n",
    "    for _ in range(n):\n",
    "        words.append(np.random.choice(word_choice))\n",
    "        groups.append(np.random.choice(['a','b','c']))\n",
    "\n",
    "    return dict(word=words, g=groups)"
   ]
  },
  {
   "cell_type": "code",
   "execution_count": 3,
   "metadata": {},
   "outputs": [],
   "source": [
    "# Number of unique words exceeds threshold (50) of default 'pick' sampling on bar chart.\n",
    "N = 500\n",
    "word_set = gen_word_set(N)\n",
    "dat = data(1000, word_set)\n",
    "p = ggplot(dat, aes(x='word'))"
   ]
  },
  {
   "cell_type": "code",
   "execution_count": 4,
   "metadata": {},
   "outputs": [
    {
     "data": {
      "text/html": [
       "   <div id=\"ojqVuS\"></div>\n",
       "   <script type=\"text/javascript\" data-lets-plot-script=\"plot\">\n",
       "       (function() {\n",
       "           var plotSpec={\n",
       "'data':{\n",
       "},\n",
       "'mapping':{\n",
       "'x':\"word\"\n",
       "},\n",
       "'data_meta':{\n",
       "},\n",
       "'kind':\"plot\",\n",
       "'scales':[],\n",
       "'layers':[{\n",
       "'geom':\"bar\",\n",
       "'mapping':{\n",
       "},\n",
       "'data_meta':{\n",
       "},\n",
       "'sampling':\"none\",\n",
       "'data':{\n",
       "'..count..':[2.0,4.0,2.0,2.0,2.0,1.0,5.0,3.0,4.0,6.0,2.0,4.0,3.0,5.0,3.0,2.0,4.0,3.0,3.0,2.0,3.0,5.0,2.0,3.0,4.0,2.0,3.0,2.0,1.0,2.0,3.0,2.0,7.0,2.0,3.0,2.0,3.0,3.0,4.0,5.0,2.0,5.0,1.0,3.0,5.0,8.0,2.0,4.0,2.0,3.0,1.0,3.0,4.0,2.0,1.0,3.0,4.0,4.0,3.0,3.0,4.0,2.0,2.0,4.0,3.0,2.0,3.0,3.0,2.0,2.0,1.0,3.0,2.0,3.0,4.0,5.0,3.0,4.0,7.0,4.0,2.0,2.0,1.0,3.0,2.0,3.0,3.0,1.0,4.0,4.0,4.0,1.0,3.0,1.0,1.0,4.0,6.0,2.0,2.0,2.0,2.0,2.0,3.0,4.0,2.0,3.0,4.0,2.0,3.0,2.0,4.0,1.0,2.0,6.0,3.0,2.0,3.0,5.0,4.0,5.0,7.0,2.0,2.0,4.0,3.0,3.0,1.0,2.0,3.0,5.0,4.0,2.0,1.0,2.0,3.0,3.0,1.0,4.0,2.0,1.0,3.0,1.0,2.0,3.0,1.0,3.0,1.0,1.0,3.0,1.0,4.0,1.0,5.0,2.0,7.0,4.0,1.0,1.0,2.0,4.0,3.0,2.0,2.0,2.0,2.0,2.0,2.0,3.0,2.0,4.0,1.0,2.0,2.0,1.0,1.0,2.0,5.0,3.0,2.0,1.0,2.0,2.0,3.0,3.0,1.0,3.0,1.0,1.0,4.0,3.0,2.0,1.0,1.0,1.0,1.0,1.0,2.0,3.0,3.0,3.0,2.0,2.0,4.0,2.0,3.0,4.0,3.0,2.0,3.0,2.0,2.0,4.0,4.0,4.0,2.0,2.0,1.0,4.0,1.0,2.0,1.0,2.0,1.0,2.0,2.0,2.0,2.0,1.0,4.0,1.0,3.0,2.0,1.0,1.0,2.0,1.0,3.0,2.0,3.0,1.0,4.0,2.0,4.0,3.0,5.0,2.0,4.0,2.0,2.0,2.0,4.0,1.0,2.0,1.0,2.0,3.0,2.0,1.0,2.0,3.0,3.0,2.0,1.0,3.0,1.0,2.0,4.0,2.0,2.0,1.0,2.0,2.0,1.0,1.0,1.0,3.0,1.0,2.0,2.0,4.0,2.0,5.0,3.0,2.0,3.0,2.0,2.0,2.0,1.0,1.0,4.0,2.0,5.0,1.0,2.0,1.0,1.0,2.0,2.0,4.0,1.0,1.0,2.0,1.0,2.0,3.0,1.0,2.0,4.0,2.0,3.0,3.0,3.0,1.0,2.0,2.0,2.0,5.0,1.0,4.0,2.0,1.0,2.0,2.0,1.0,1.0,2.0,3.0,2.0,1.0,2.0,2.0,2.0,1.0,2.0,2.0,1.0,1.0,2.0,1.0,5.0,2.0,1.0,4.0,2.0,2.0,2.0,1.0,2.0,1.0,2.0,1.0,2.0,2.0,1.0,3.0,2.0,2.0,2.0,2.0,2.0,2.0,1.0,2.0,2.0,1.0,1.0,1.0,1.0,1.0,2.0,2.0,3.0,1.0,1.0,1.0,2.0,1.0,1.0,1.0,1.0,2.0,2.0,1.0,1.0,1.0,1.0,1.0,2.0,1.0,1.0,1.0,1.0,2.0,2.0,1.0,1.0,3.0,3.0,2.0,1.0,1.0,3.0,1.0,2.0,1.0,1.0,1.0,2.0,1.0,2.0,1.0,1.0,1.0,1.0,1.0,1.0,1.0,1.0,1.0,1.0,2.0,3.0,1.0,2.0,1.0,1.0,1.0,1.0,1.0,1.0,1.0,1.0],\n",
       "'word':[\"iiuuh\",\"ldkbe\",\"esesd\",\"wwazb\",\"hmznm\",\"rxbqc\",\"gjwwu\",\"sifyx\",\"mqpcm\",\"khiqb\",\"niipw\",\"ofvhf\",\"sxwxc\",\"hycqf\",\"zdvjd\",\"rnvcw\",\"rndvj\",\"dayxv\",\"kitlb\",\"jeeqd\",\"mbxik\",\"otvqg\",\"foqbi\",\"nomrd\",\"firba\",\"ftyfx\",\"xdnmz\",\"dbsqa\",\"amioi\",\"wpvli\",\"smuff\",\"afklg\",\"fjuxw\",\"ekjdw\",\"jipgp\",\"kvidt\",\"ukitx\",\"rjcqj\",\"adiep\",\"mzxqz\",\"vffye\",\"nrfbw\",\"txxxq\",\"niqjx\",\"cxhiv\",\"vvwco\",\"uaapb\",\"bsmie\",\"dwgmv\",\"ylriz\",\"fiqfv\",\"mqlgh\",\"ziudi\",\"estev\",\"lcovq\",\"wkppd\",\"mkqnl\",\"ckbob\",\"lsloi\",\"sujmi\",\"kzxvs\",\"exivg\",\"couja\",\"rgijs\",\"flntw\",\"uhbcy\",\"igcux\",\"wqraj\",\"cgapu\",\"drlfd\",\"qvnrh\",\"xawdz\",\"jfezm\",\"oixnf\",\"utara\",\"omdte\",\"uihgd\",\"ruqbl\",\"tqdfh\",\"hvatm\",\"sabwl\",\"yrrff\",\"yfiua\",\"tvnil\",\"jovee\",\"vgnxa\",\"fzeud\",\"zsnfd\",\"pdvef\",\"mgjzd\",\"biydn\",\"lvsyy\",\"ybwkn\",\"nxvsb\",\"ltphk\",\"pgdnt\",\"ezvba\",\"kxwqn\",\"hquam\",\"sjoje\",\"oqrxb\",\"afqkq\",\"nhqrg\",\"pdumm\",\"vomku\",\"qdxio\",\"ktzvr\",\"ygvbp\",\"ufrsf\",\"dnush\",\"neafi\",\"bpvmw\",\"srjqn\",\"hqiiw\",\"hsgqs\",\"hyoja\",\"mljyk\",\"ktxlh\",\"dkkly\",\"auram\",\"qvsat\",\"dpybu\",\"yivoz\",\"fsosx\",\"giykt\",\"facnt\",\"mcmzq\",\"rbsgs\",\"cdtqs\",\"nrudf\",\"mjqpa\",\"wcmuw\",\"bsqcs\",\"xmmnv\",\"gysmv\",\"hdses\",\"srdoi\",\"ajyzl\",\"prthi\",\"zztsd\",\"ijvvz\",\"nmtob\",\"bwswv\",\"msaqg\",\"dzbja\",\"hhkpv\",\"eiiil\",\"pumzg\",\"aauth\",\"oqrxs\",\"ulmqf\",\"ixpbx\",\"zylnm\",\"ceffr\",\"zurkn\",\"vrtxa\",\"tbbzk\",\"cpucr\",\"leszj\",\"qtjeg\",\"puzrg\",\"wzjhg\",\"dzbgh\",\"cmzee\",\"amevr\",\"csevg\",\"sulzp\",\"afqwf\",\"zfrlp\",\"mcsrh\",\"dgicu\",\"xqici\",\"voznr\",\"aeivh\",\"fkoet\",\"yzkcq\",\"lpbrp\",\"euyzg\",\"tcxlk\",\"raoyb\",\"riltx\",\"lbudx\",\"oljrm\",\"jklik\",\"qhayg\",\"yocus\",\"wpesr\",\"xqgtn\",\"uyvxg\",\"hdwgw\",\"eeihg\",\"kvhzv\",\"spiee\",\"ucqpq\",\"snmkt\",\"lvrpy\",\"wwxot\",\"sgpdv\",\"erxby\",\"xwjwf\",\"xceyt\",\"ejgvx\",\"rtztk\",\"xuecq\",\"kadow\",\"spqms\",\"lzxba\",\"qkdnl\",\"gmufm\",\"qmadk\",\"pykmo\",\"myods\",\"bebqp\",\"tvacn\",\"rnrgw\",\"qewsi\",\"rjriw\",\"divif\",\"fljcf\",\"ukhmj\",\"zekng\",\"bjwts\",\"terwk\",\"ktodi\",\"mfein\",\"sedfy\",\"lwibr\",\"uxjdx\",\"chhaz\",\"ftqgq\",\"dpamn\",\"lpxap\",\"ydmux\",\"uqnfg\",\"zuxet\",\"sizhw\",\"bufvv\",\"pilei\",\"lqavm\",\"bphxz\",\"agqos\",\"ahame\",\"mywoa\",\"uwxzh\",\"frgjg\",\"zgidi\",\"ivdmr\",\"rtxui\",\"xlivu\",\"rqhni\",\"qhyop\",\"cxcau\",\"iaomz\",\"pxhuu\",\"rrchm\",\"znrfw\",\"uzwqo\",\"eszyc\",\"egbjc\",\"dseqq\",\"qkdlz\",\"pzykl\",\"etioq\",\"tyyaw\",\"dupbq\",\"arjvy\",\"mlxfh\",\"iimsm\",\"cejrx\",\"bgnbb\",\"juanx\",\"cwqvl\",\"hneei\",\"xfglm\",\"hpomy\",\"ktppk\",\"inxrj\",\"ccxdj\",\"qoser\",\"rcrkk\",\"igfje\",\"fkvhc\",\"ydkbn\",\"ihmxr\",\"vjnka\",\"ybtnn\",\"nwink\",\"anjsx\",\"ozwhu\",\"rhlhv\",\"iuwjo\",\"ujreb\",\"rvnvx\",\"jqebo\",\"djhty\",\"zgvuc\",\"yajth\",\"mdvoj\",\"eqyrg\",\"sxklz\",\"tfejp\",\"sesee\",\"mwmzg\",\"ndygs\",\"ulmjo\",\"hidzt\",\"uemxr\",\"yvnmi\",\"sjgmf\",\"iriqi\",\"dgcba\",\"kzets\",\"mwncc\",\"feyew\",\"gwoaj\",\"clcvo\",\"deewi\",\"zdple\",\"swore\",\"lnmjv\",\"bvcca\",\"wcyuh\",\"phwnk\",\"vhiyc\",\"oixzh\",\"gaxry\",\"ftchp\",\"jwelp\",\"jxtko\",\"otazh\",\"gnrut\",\"ardjq\",\"lnlar\",\"qdxsn\",\"nbloa\",\"graiu\",\"gnira\",\"rwmar\",\"dgsvn\",\"zwnvr\",\"ixtxy\",\"fhhjo\",\"czsrt\",\"lxuwh\",\"rbove\",\"oipol\",\"txqps\",\"wdsap\",\"ghkic\",\"amndz\",\"qvgjj\",\"tlyoi\",\"rbuls\",\"xeizm\",\"scilj\",\"fgkzs\",\"hmcir\",\"yruoq\",\"hyaaj\",\"ktmja\",\"tqebk\",\"khdcv\",\"ppedq\",\"bsfvd\",\"vszkv\",\"lrrzx\",\"bxfow\",\"cjjxf\",\"mkmcc\",\"hbszs\",\"cwfin\",\"rgqnp\",\"zifyc\",\"hmrmf\",\"cifde\",\"rhcxb\",\"itjgq\",\"rsmgo\",\"bkfkz\",\"kzksc\",\"escbj\",\"uovux\",\"sjhkd\",\"dyfqm\",\"hlcic\",\"brtqe\",\"xbnog\",\"qzass\",\"vqpmd\",\"zapkm\",\"knyhz\",\"idpyo\",\"vjcdh\",\"naslp\",\"tphno\",\"rwyvx\",\"yzgjj\",\"qjzzg\",\"xmcsz\",\"misoa\",\"qbmgl\",\"mnvfl\",\"brbqe\",\"ubmcr\",\"pemwd\",\"spdeu\",\"bqkqw\",\"evsbl\",\"zkcjb\",\"ziymr\",\"squcc\",\"yvacc\",\"lediy\",\"knxfr\",\"imcvs\",\"oxplp\",\"xxqqa\",\"rrhmq\",\"gotqn\",\"uojyd\",\"pgmxr\",\"ofywt\",\"wqxto\",\"xgqqm\",\"brgrn\",\"kdtsz\",\"xkyru\",\"xgwqw\",\"qvlyq\",\"gsxyz\",\"kbaaz\",\"gztyr\",\"ueuym\"]\n",
       "}\n",
       "}]\n",
       "};\n",
       "           var plotContainer = document.getElementById(\"ojqVuS\");\n",
       "           window.letsPlotCall(function() {{\n",
       "               LetsPlot.buildPlotFromProcessedSpecs(plotSpec, -1, -1, plotContainer);\n",
       "           }});\n",
       "       })();    \n",
       "   </script>"
      ],
      "text/plain": [
       "<lets_plot.plot.core.PlotSpec at 0x1161eedd0>"
      ]
     },
     "execution_count": 4,
     "metadata": {},
     "output_type": "execute_result"
    }
   ],
   "source": [
    "# Disable sampling to see raw plot\n",
    "p + geom_bar(sampling='none')"
   ]
  },
  {
   "cell_type": "code",
   "execution_count": 5,
   "metadata": {},
   "outputs": [
    {
     "data": {
      "text/html": [
       "   <div id=\"GuPYcf\"></div>\n",
       "   <script type=\"text/javascript\" data-lets-plot-script=\"plot\">\n",
       "       (function() {\n",
       "           var plotSpec={\n",
       "'data':{\n",
       "},\n",
       "'mapping':{\n",
       "'x':\"word\"\n",
       "},\n",
       "'data_meta':{\n",
       "},\n",
       "'kind':\"plot\",\n",
       "'scales':[],\n",
       "'layers':[{\n",
       "'geom':\"bar\",\n",
       "'mapping':{\n",
       "},\n",
       "'data_meta':{\n",
       "},\n",
       "'data':{\n",
       "'..count..':[2.0,4.0,2.0,2.0,2.0,1.0,5.0,3.0,4.0,6.0,2.0,4.0,3.0,5.0,3.0,2.0,4.0,3.0,3.0,2.0,3.0,5.0,2.0,3.0,4.0,2.0,3.0,2.0,1.0,2.0,3.0,2.0,7.0,2.0,3.0,2.0,3.0,3.0,4.0,5.0,2.0,5.0,1.0,3.0,5.0,8.0,2.0,4.0,2.0,3.0],\n",
       "'word':[\"iiuuh\",\"ldkbe\",\"esesd\",\"wwazb\",\"hmznm\",\"rxbqc\",\"gjwwu\",\"sifyx\",\"mqpcm\",\"khiqb\",\"niipw\",\"ofvhf\",\"sxwxc\",\"hycqf\",\"zdvjd\",\"rnvcw\",\"rndvj\",\"dayxv\",\"kitlb\",\"jeeqd\",\"mbxik\",\"otvqg\",\"foqbi\",\"nomrd\",\"firba\",\"ftyfx\",\"xdnmz\",\"dbsqa\",\"amioi\",\"wpvli\",\"smuff\",\"afklg\",\"fjuxw\",\"ekjdw\",\"jipgp\",\"kvidt\",\"ukitx\",\"rjcqj\",\"adiep\",\"mzxqz\",\"vffye\",\"nrfbw\",\"txxxq\",\"niqjx\",\"cxhiv\",\"vvwco\",\"uaapb\",\"bsmie\",\"dwgmv\",\"ylriz\"]\n",
       "}\n",
       "}],\n",
       "'computation_messages':[\"sampling_pick(n=50) was applied to [bar/count stat] layer\"]\n",
       "};\n",
       "           var plotContainer = document.getElementById(\"GuPYcf\");\n",
       "           window.letsPlotCall(function() {{\n",
       "               LetsPlot.buildPlotFromProcessedSpecs(plotSpec, -1, -1, plotContainer);\n",
       "           }});\n",
       "       })();    \n",
       "   </script>"
      ],
      "text/plain": [
       "<lets_plot.plot.core.PlotSpec at 0x117c97d50>"
      ]
     },
     "execution_count": 5,
     "metadata": {},
     "output_type": "execute_result"
    }
   ],
   "source": [
    "# Draw plot with default sampling enabled\n",
    "p + geom_bar()"
   ]
  },
  {
   "cell_type": "code",
   "execution_count": 6,
   "metadata": {},
   "outputs": [
    {
     "data": {
      "text/html": [
       "   <div id=\"9xWLW9\"></div>\n",
       "   <script type=\"text/javascript\" data-lets-plot-script=\"plot\">\n",
       "       (function() {\n",
       "           var plotSpec={\n",
       "'data':{\n",
       "},\n",
       "'mapping':{\n",
       "'x':\"word\"\n",
       "},\n",
       "'data_meta':{\n",
       "},\n",
       "'kind':\"plot\",\n",
       "'scales':[],\n",
       "'layers':[{\n",
       "'geom':\"bar\",\n",
       "'mapping':{\n",
       "'fill':\"g\"\n",
       "},\n",
       "'data_meta':{\n",
       "},\n",
       "'data':{\n",
       "'..count..':[2.0,2.0,1.0,3.0,1.0,1.0,2.0,1.0,2.0,1.0,3.0,1.0,2.0,1.0,2.0,1.0,2.0,3.0,1.0,1.0,2.0,2.0,1.0,2.0,2.0,1.0,1.0,2.0,1.0,3.0,1.0,2.0,1.0,2.0,1.0,1.0,2.0,2.0,2.0,2.0,1.0,1.0,3.0,1.0,1.0,1.0,3.0,2.0,1.0,1.0,2.0,1.0,2.0,3.0,1.0,2.0,1.0,1.0,4.0,2.0,2.0,1.0,1.0,1.0,1.0,2.0,1.0,1.0,1.0,2.0,1.0,1.0,1.0,1.0,1.0,1.0,1.0,2.0,1.0,1.0,2.0,1.0,1.0,2.0,1.0,2.0,1.0,1.0,1.0,3.0,1.0,2.0,1.0,1.0,1.0,1.0,1.0,1.0,1.0,2.0,1.0,1.0,1.0,1.0,1.0,1.0],\n",
       "'word':[\"iiuuh\",\"esesd\",\"wwazb\",\"gjwwu\",\"sifyx\",\"niipw\",\"ofvhf\",\"sxwxc\",\"dayxv\",\"kitlb\",\"otvqg\",\"nomrd\",\"firba\",\"ftyfx\",\"fjuxw\",\"ekjdw\",\"smuff\",\"vvwco\",\"uaapb\",\"mqlgh\",\"ziudi\",\"wkppd\",\"lsloi\",\"sujmi\",\"rgijs\",\"igcux\",\"qvnrh\",\"xawdz\",\"oixnf\",\"omdte\",\"zsnfd\",\"pdvef\",\"sabwl\",\"mgjzd\",\"tvnil\",\"ltphk\",\"kxwqn\",\"afqkq\",\"nhqrg\",\"qdxio\",\"ufrsf\",\"dnush\",\"ktzvr\",\"srjqn\",\"vgnxa\",\"mljyk\",\"dkkly\",\"qvsat\",\"ygvbp\",\"yivoz\",\"otvqg\",\"smuff\",\"kitlb\",\"fjuxw\",\"vgnxa\",\"ofvhf\",\"pdvef\",\"uaapb\",\"qvsat\",\"vvwco\",\"lsloi\",\"igcux\",\"qdxio\",\"mljyk\",\"nomrd\",\"mgjzd\",\"mqlgh\",\"dnush\",\"gjwwu\",\"rgijs\",\"yivoz\",\"ufrsf\",\"tvnil\",\"dayxv\",\"firba\",\"niipw\",\"sabwl\",\"fjuxw\",\"tvnil\",\"mqlgh\",\"omdte\",\"ktzvr\",\"ygvbp\",\"oixnf\",\"ftyfx\",\"sifyx\",\"xawdz\",\"igcux\",\"gjwwu\",\"vvwco\",\"nomrd\",\"ziudi\",\"qvsat\",\"srjqn\",\"wwazb\",\"firba\",\"pdvef\",\"nhqrg\",\"ekjdw\",\"sxwxc\",\"vgnxa\",\"sujmi\",\"ufrsf\",\"wkppd\",\"mljyk\",\"dkkly\"],\n",
       "'g':[\"a\",\"a\",\"a\",\"a\",\"a\",\"a\",\"a\",\"a\",\"a\",\"a\",\"a\",\"a\",\"a\",\"a\",\"a\",\"a\",\"a\",\"a\",\"a\",\"a\",\"a\",\"a\",\"a\",\"a\",\"a\",\"a\",\"a\",\"a\",\"a\",\"a\",\"a\",\"a\",\"a\",\"a\",\"a\",\"a\",\"a\",\"a\",\"a\",\"a\",\"a\",\"a\",\"a\",\"a\",\"a\",\"a\",\"a\",\"a\",\"a\",\"a\",\"c\",\"c\",\"c\",\"c\",\"c\",\"c\",\"c\",\"c\",\"c\",\"c\",\"c\",\"c\",\"c\",\"c\",\"c\",\"c\",\"c\",\"c\",\"c\",\"c\",\"c\",\"c\",\"c\",\"c\",\"c\",\"c\",\"b\",\"b\",\"b\",\"b\",\"b\",\"b\",\"b\",\"b\",\"b\",\"b\",\"b\",\"b\",\"b\",\"b\",\"b\",\"b\",\"b\",\"b\",\"b\",\"b\",\"b\",\"b\",\"b\",\"b\",\"b\",\"b\",\"b\",\"b\",\"b\",\"b\"]\n",
       "}\n",
       "}],\n",
       "'computation_messages':[\"sampling_pick(n=50) was applied to [bar/count stat] layer\"]\n",
       "};\n",
       "           var plotContainer = document.getElementById(\"9xWLW9\");\n",
       "           window.letsPlotCall(function() {{\n",
       "               LetsPlot.buildPlotFromProcessedSpecs(plotSpec, -1, -1, plotContainer);\n",
       "           }});\n",
       "       })();    \n",
       "   </script>"
      ],
      "text/plain": [
       "<lets_plot.plot.core.PlotSpec at 0x117cad510>"
      ]
     },
     "execution_count": 6,
     "metadata": {},
     "output_type": "execute_result"
    }
   ],
   "source": [
    "# 'pick' sampling handles groups on bar chart correctly.\n",
    "p + geom_bar(aes(fill='g'))"
   ]
  }
 ],
 "metadata": {
  "kernelspec": {
   "display_name": "Python 3",
   "language": "python",
   "name": "python3"
  },
  "language_info": {
   "codemirror_mode": {
    "name": "ipython",
    "version": 3
   },
   "file_extension": ".py",
   "mimetype": "text/x-python",
   "name": "python",
   "nbconvert_exporter": "python",
   "pygments_lexer": "ipython3",
   "version": "3.7.6"
  },
  "pycharm": {
   "stem_cell": {
    "cell_type": "raw",
    "metadata": {
     "collapsed": false
    },
    "source": []
   }
  }
 },
 "nbformat": 4,
 "nbformat_minor": 1
}
