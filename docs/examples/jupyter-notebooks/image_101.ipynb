{
 "cells": [
  {
   "cell_type": "markdown",
   "metadata": {},
   "source": [
    "<em><sub>This page is available as an executable or viewable <strong>Jupyter Notebook</strong>:</sub></em>\n",
    "<br/><br/>\n",
    "<a href=\"https://mybinder.org/v2/gh/JetBrains/lets-plot/v1.1.0?filepath=docs%2Fexamples%2Fjupyter-notebooks%2Fimage_101.ipynb\"\n",
    "   target=\"_parent\"> \n",
    "   <img align=\"left\" \n",
    "        src=\"https://mybinder.org/badge_logo.svg\">\n",
    "</a>\n",
    "<a href=\"https://nbviewer.jupyter.org/github/JetBrains/lets-plot/blob/master/docs/examples/jupyter-notebooks/image_101.ipynb\" \n",
    "   target=\"_parent\"> \n",
    "   <img align=\"right\" \n",
    "        src=\"https://raw.githubusercontent.com/jupyter/design/master/logos/Badges/nbviewer_badge.png\" \n",
    "        width=\"109\" height=\"20\">\n",
    "</a>\n",
    "<br/>\n",
    "<br/>\n",
    "\n",
    "# geom_image\n",
    "\n",
    "*geom\\_image* displays an image specified by a ndarray with shape (n,m) or (n,m,3) or (n,m,4).\n",
    "\n",
    "The `dtype` can be int, uint or float of any size. `int` values are considered pre-scaled and are expected to fit in [0-255] range. `float` values are expected to be in range [0-1].\n"
   ]
  },
  {
   "cell_type": "code",
   "execution_count": 1,
   "metadata": {},
   "outputs": [
    {
     "data": {
      "text/html": [
       "\n",
       "            <div id=\"gcxZ9E\"></div>\n",
       "            <script type=\"text/javascript\">\n",
       "                if(!window.letsPlotCallQueue) {\n",
       "                    window.letsPlotCallQueue = [];\n",
       "                }; \n",
       "                window.letsPlotCall = function(f) {\n",
       "                    window.letsPlotCallQueue.push(f);\n",
       "                };\n",
       "                (function() {\n",
       "                    var script = document.createElement(\"script\");\n",
       "                    script.type = \"text/javascript\";\n",
       "                    script.src = \"https://dl.bintray.com/jetbrains/lets-plot/lets-plot-1.1.0rc1.min.js\";\n",
       "                    script.onload = function() {\n",
       "                        window.letsPlotCall = function(f) {f();};\n",
       "                        window.letsPlotCallQueue.forEach(function(f) {f();});\n",
       "                        window.letsPlotCallQueue = [];\n",
       "                        \n",
       "            var div = document.createElement(\"div\");\n",
       "            div.style.color = 'darkblue';\n",
       "            div.textContent = 'Lets-Plot JS successfully loaded.';\n",
       "            document.getElementById(\"gcxZ9E\").appendChild(div);\n",
       "        \n",
       "                    };\n",
       "                    script.onerror = function(event) {\n",
       "                        window.letsPlotCall = function(f) {};    // noop\n",
       "                        window.letsPlotCallQueue = [];\n",
       "                        var div = document.createElement(\"div\");\n",
       "                        div.style.color = 'darkred';\n",
       "                        div.textContent = 'Error loading Lets-Plot JS';\n",
       "                        document.getElementById(\"gcxZ9E\").appendChild(div);\n",
       "                    };\n",
       "                    var e = document.getElementById(\"gcxZ9E\");\n",
       "                    e.appendChild(script);\n",
       "                })()\n",
       "            </script>\n",
       "            "
      ]
     },
     "metadata": {},
     "output_type": "display_data"
    }
   ],
   "source": [
    "import numpy as np\n",
    "from lets_plot import *\n",
    "load_lets_plot_js()"
   ]
  },
  {
   "cell_type": "markdown",
   "metadata": {},
   "source": [
    "### Gray-scale image\n",
    "\n",
    "N x M ndarray of `int` is displayed as a `gray-scale` image."
   ]
  },
  {
   "cell_type": "code",
   "execution_count": 2,
   "metadata": {},
   "outputs": [
    {
     "data": {
      "text/html": [
       "\n",
       "            <div id=\"plot_output_hW4oYC\"></div>\n",
       "            <script type=\"text/javascript\">\n",
       "                (function() {\n",
       "                    var plotSpec={\n",
       "'ggtitle':{\n",
       "'text':\"2 x 3 array\"\n",
       "},\n",
       "'kind':\"plot\",\n",
       "'scales':[],\n",
       "'layers':[{\n",
       "'geom':\"image\",\n",
       "'mapping':{\n",
       "'xmin':\"xmin\",\n",
       "'ymin':\"ymin\",\n",
       "'xmax':\"xmax\",\n",
       "'ymax':\"ymax\"\n",
       "},\n",
       "'href':\"data:image/png;base64,iVBORw0KGgoAAAANSUhEUgAAAAMAAAACCAAAAAC4HznGAAAAEElEQVR4nGMwmnaC4USKEQAMJALvf3ld2gAAAABJRU5ErkJggg==\",\n",
       "'data':{\n",
       "'xmin':[-0.5],\n",
       "'ymin':[-0.5],\n",
       "'xmax':[2.5],\n",
       "'ymax':[1.5]\n",
       "}\n",
       "}]\n",
       "};\n",
       "                    var plotContainer = document.getElementById(\"plot_output_hW4oYC\");\n",
       "                    window.letsPlotCall(function() {{\n",
       "                        LetsPlot.buildPlotFromProcessedSpecs(plotSpec, -1, -1, plotContainer);\n",
       "                    }});\n",
       "                })();    \n",
       "            </script>\n",
       "        "
      ],
      "text/plain": [
       "<lets_plot.plot.core.PlotSpec at 0x10d88da50>"
      ]
     },
     "execution_count": 2,
     "metadata": {},
     "output_type": "execute_result"
    }
   ],
   "source": [
    "A2x3 = np.array([\n",
    "    [50, 150 ,200],\n",
    "    [200,100,50]\n",
    "    ])\n",
    "ggplot() + geom_image(A2x3) + ggtitle('2 x 3 array')"
   ]
  },
  {
   "cell_type": "markdown",
   "metadata": {},
   "source": [
    "### RGB image\n",
    "\n",
    "N x M x 3 ndarray is displayed as RGB image."
   ]
  },
  {
   "cell_type": "code",
   "execution_count": 3,
   "metadata": {},
   "outputs": [
    {
     "data": {
      "text/html": [
       "\n",
       "            <div id=\"plot_output_LyEiTu\"></div>\n",
       "            <script type=\"text/javascript\">\n",
       "                (function() {\n",
       "                    var plotSpec={\n",
       "'ggtitle':{\n",
       "'text':\"2 x 3 x 3 array\"\n",
       "},\n",
       "'kind':\"plot\",\n",
       "'scales':[],\n",
       "'layers':[{\n",
       "'geom':\"image\",\n",
       "'mapping':{\n",
       "'xmin':\"xmin\",\n",
       "'ymin':\"ymin\",\n",
       "'xmax':\"xmax\",\n",
       "'ymax':\"ymax\"\n",
       "},\n",
       "'href':\"data:image/png;base64,iVBORw0KGgoAAAANSUhEUgAAAAMAAAACCAIAAAASFvFNAAAAEklEQVR4nGP4z8DAAMVgCkgAADvYBfuy6mB/AAAAAElFTkSuQmCC\",\n",
       "'data':{\n",
       "'xmin':[-0.5],\n",
       "'ymin':[-0.5],\n",
       "'xmax':[2.5],\n",
       "'ymax':[1.5]\n",
       "}\n",
       "}]\n",
       "};\n",
       "                    var plotContainer = document.getElementById(\"plot_output_LyEiTu\");\n",
       "                    window.letsPlotCall(function() {{\n",
       "                        LetsPlot.buildPlotFromProcessedSpecs(plotSpec, -1, -1, plotContainer);\n",
       "                    }});\n",
       "                })();    \n",
       "            </script>\n",
       "        "
      ],
      "text/plain": [
       "<lets_plot.plot.core.PlotSpec at 0x11d262c90>"
      ]
     },
     "execution_count": 3,
     "metadata": {},
     "output_type": "execute_result"
    }
   ],
   "source": [
    "A2x3x3 = np.array([\n",
    "    [[255, 0, 0], [0, 255, 0], [0, 0, 255]],\n",
    "    [[0, 255, 0], [0, 0, 255], [255, 0, 0]]\n",
    "    ])\n",
    "ggplot() + geom_image(A2x3x3) + ggtitle('2 x 3 x 3 array')"
   ]
  },
  {
   "cell_type": "markdown",
   "metadata": {},
   "source": [
    "### Alpha channel\n",
    "\n",
    "N x M x 4 array of `float` is displayed as RGB image with alpha channel."
   ]
  },
  {
   "cell_type": "code",
   "execution_count": 4,
   "metadata": {},
   "outputs": [
    {
     "data": {
      "text/html": [
       "\n",
       "            <div id=\"plot_output_R5UGbQ\"></div>\n",
       "            <script type=\"text/javascript\">\n",
       "                (function() {\n",
       "                    var plotSpec={\n",
       "'ggtitle':{\n",
       "'text':\"2 x 3 x 4 array\"\n",
       "},\n",
       "'kind':\"plot\",\n",
       "'scales':[],\n",
       "'layers':[{\n",
       "'geom':\"image\",\n",
       "'mapping':{\n",
       "'xmin':\"xmin\",\n",
       "'ymin':\"ymin\",\n",
       "'xmax':\"xmax\",\n",
       "'ymax':\"ymax\"\n",
       "},\n",
       "'href':\"data:image/png;base64,iVBORw0KGgoAAAANSUhEUgAAAAMAAAACCAYAAACddGYaAAAAGUlEQVR4nGP4z8DwHwwZ/oOZvkDCF8jyBQCLFgnfUCS+/AAAAABJRU5ErkJggg==\",\n",
       "'data':{\n",
       "'xmin':[-0.5],\n",
       "'ymin':[-0.5],\n",
       "'xmax':[2.5],\n",
       "'ymax':[1.5]\n",
       "}\n",
       "}]\n",
       "};\n",
       "                    var plotContainer = document.getElementById(\"plot_output_R5UGbQ\");\n",
       "                    window.letsPlotCall(function() {{\n",
       "                        LetsPlot.buildPlotFromProcessedSpecs(plotSpec, -1, -1, plotContainer);\n",
       "                    }});\n",
       "                })();    \n",
       "            </script>\n",
       "        "
      ],
      "text/plain": [
       "<lets_plot.plot.core.PlotSpec at 0x11d262690>"
      ]
     },
     "execution_count": 4,
     "metadata": {},
     "output_type": "execute_result"
    }
   ],
   "source": [
    "A2x3x4 = np.array([\n",
    "    [[1, 0, 0, 1], [0, 1, 0, 1], [0, 0, 1, 1]],\n",
    "    [[0, 1, 0, 0.3], [0, 0, 1, 0.3], [1, 0, 0, 0.3]]\n",
    "    ])\n",
    "\n",
    "ggplot() + geom_image(A2x3x4) + ggtitle('2 x 3 x 4 array')"
   ]
  },
  {
   "cell_type": "markdown",
   "metadata": {},
   "source": [
    "### Just a random image"
   ]
  },
  {
   "cell_type": "code",
   "execution_count": 5,
   "metadata": {},
   "outputs": [
    {
     "data": {
      "text/html": [
       "\n",
       "            <div id=\"plot_output_P0AWux\"></div>\n",
       "            <script type=\"text/javascript\">\n",
       "                (function() {\n",
       "                    var plotSpec={\n",
       "'coord':{\n",
       "'name':\"cartesian\"\n",
       "},\n",
       "'kind':\"plot\",\n",
       "'scales':[],\n",
       "'layers':[{\n",
       "'geom':\"image\",\n",
       "'mapping':{\n",
       "'xmin':\"xmin\",\n",
       "'ymin':\"ymin\",\n",
       "'xmax':\"xmax\",\n",
       "'ymax':\"ymax\"\n",
       "},\n",
       "'href':\"data:image/png;base64,iVBORw0KGgoAAAANSUhEUgAAAGQAAAAKCAIAAADNfmwpAAACG0lEQVR4nF2UAZbjMAxCdf9La7ut4X9NZ16bxLYECDI7n89+PrPv93Pxu/1/PZu/74bvjs223/28E9/z89uoat/lV2vHu+jyW3jPepbD78nr19vUHS8MP+8qh3sgjBbkk5X8w30KlTJb4kMltctlim/VnCg3Rf40qzw0vz23PZ7YlVrEn4ZRqDgYcmFn55FdQ/RWvuuRSvZOB6OcUDbp1I62xawKMWdPIehDVHZd7rSxhmOePdAmcKyrOqs6LvaaEpCyf9oeFxaxp6NlG8U9AFR0YqLn9YVEIAuqsdG5BrUxWgGXnmToyB98aoPptF/pOGaZ26MYEqdmpNXikPNMCP1KkmcPGG2pGZRrUNhy8mHdqHatWfGUXduFaWmxK1pXhfVD5DYB1CqLAEImkcywFQ45fe/1cTl5vT6mB9Em43Ui3j6OPiNQ8Ke09MKgf6XeP8gxMhUMEkx8ZRi4tk1o1pgsuOtwlW+PyrBQFp+sYTlvdC0SMkeYu9s7EnjYwuzGsxYcg6Ic7jBfxtw4Hk2vhChXXgPlVPTT4HMEZPg4MPjhOjeKjcHqEY7pi8JZF2smj7J+AzBUW9wJfhVpIPGTqwaFOHfC4ln9TjA8Y/73hiMcgjl6SbLBpmpvtnjGAikBadpzsSJ6AwErcuvusYIt7BI14nUJKh43kVDHQhJI3J6qiqFxlCO0RnKAQwuN5YvG6ASYBsh1iGpCr9o/e1nYbswVWoEAAAAASUVORK5CYII=\",\n",
       "'data':{\n",
       "'xmin':[-0.5],\n",
       "'ymin':[-0.5],\n",
       "'xmax':[99.5],\n",
       "'ymax':[9.5]\n",
       "}\n",
       "}]\n",
       "};\n",
       "                    var plotContainer = document.getElementById(\"plot_output_P0AWux\");\n",
       "                    window.letsPlotCall(function() {{\n",
       "                        LetsPlot.buildPlotFromProcessedSpecs(plotSpec, -1, -1, plotContainer);\n",
       "                    }});\n",
       "                })();    \n",
       "            </script>\n",
       "        "
      ],
      "text/plain": [
       "<lets_plot.plot.core.PlotSpec at 0x11d26dc10>"
      ]
     },
     "execution_count": 5,
     "metadata": {},
     "output_type": "execute_result"
    }
   ],
   "source": [
    "image = np.random.choice([0.0, 1.0], [10, 100, 3])\n",
    "ggplot() + geom_image(image) + coord_cartesian()\n"
   ]
  }
 ],
 "metadata": {
  "kernelspec": {
   "display_name": "Python 3",
   "language": "python",
   "name": "python3"
  },
  "language_info": {
   "codemirror_mode": {
    "name": "ipython",
    "version": 3
   },
   "file_extension": ".py",
   "mimetype": "text/x-python",
   "name": "python",
   "nbconvert_exporter": "python",
   "pygments_lexer": "ipython3",
   "version": "3.7.5"
  },
  "pycharm": {
   "stem_cell": {
    "cell_type": "raw",
    "source": [],
    "metadata": {
     "collapsed": false
    }
   }
  }
 },
 "nbformat": 4,
 "nbformat_minor": 1
}