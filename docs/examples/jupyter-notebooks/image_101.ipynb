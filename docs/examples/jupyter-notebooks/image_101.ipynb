{
 "cells": [
  {
   "cell_type": "markdown",
   "metadata": {},
   "source": [
    "<em><sub>This page is available as an executable or viewable <strong>Jupyter Notebook</strong>:</sub></em>\n",
    "<br/><br/>\n",
    "<a href=\"https://mybinder.org/v2/gh/JetBrains/lets-plot/v1.5.0demos1?filepath=docs%2Fexamples%2Fjupyter-notebooks%2Fimage_101.ipynb\"\n",
    "   target=\"_parent\"> \n",
    "   <img align=\"left\" \n",
    "        src=\"https://mybinder.org/badge_logo.svg\">\n",
    "</a>\n",
    "<a href=\"https://nbviewer.jupyter.org/github/JetBrains/lets-plot/blob/master/docs/examples/jupyter-notebooks/image_101.ipynb\" \n",
    "   target=\"_parent\"> \n",
    "   <img align=\"right\" \n",
    "        src=\"https://raw.githubusercontent.com/jupyter/design/master/logos/Badges/nbviewer_badge.png\" \n",
    "        width=\"109\" height=\"20\">\n",
    "</a>\n",
    "<br/>\n",
    "<br/>\n",
    "\n",
    "# geom_image\n",
    "\n",
    "*geom\\_image* displays an image specified by a ndarray with shape (n,m) or (n,m,3) or (n,m,4).\n",
    "\n",
    "The `dtype` can be int, uint or float of any size. `int` values are considered pre-scaled and are expected to fit in [0-255] range. `float` values are expected to be in range [0-1].\n"
   ]
  },
  {
   "cell_type": "code",
   "execution_count": 1,
   "metadata": {},
   "outputs": [
    {
     "data": {
      "text/html": [
       "\n",
       "            <div id=\"XtWx1w\"></div>\n",
       "            <script type=\"text/javascript\" data-lets-plot-script=\"library\">\n",
       "                if(!window.letsPlotCallQueue) {\n",
       "                    window.letsPlotCallQueue = [];\n",
       "                }; \n",
       "                window.letsPlotCall = function(f) {\n",
       "                    window.letsPlotCallQueue.push(f);\n",
       "                };\n",
       "                (function() {\n",
       "                    var script = document.createElement(\"script\");\n",
       "                    script.type = \"text/javascript\";\n",
       "                    script.src = \"https://dl.bintray.com/jetbrains/lets-plot/lets-plot-1.5.0.min.js\";\n",
       "                    script.onload = function() {\n",
       "                        window.letsPlotCall = function(f) {f();};\n",
       "                        window.letsPlotCallQueue.forEach(function(f) {f();});\n",
       "                        window.letsPlotCallQueue = [];\n",
       "                        \n",
       "                    };\n",
       "                    script.onerror = function(event) {\n",
       "                        window.letsPlotCall = function(f) {};    // noop\n",
       "                        window.letsPlotCallQueue = [];\n",
       "                        var div = document.createElement(\"div\");\n",
       "                        div.style.color = 'darkred';\n",
       "                        div.textContent = 'Error loading Lets-Plot JS';\n",
       "                        document.getElementById(\"XtWx1w\").appendChild(div);\n",
       "                    };\n",
       "                    var e = document.getElementById(\"XtWx1w\");\n",
       "                    e.appendChild(script);\n",
       "                })()\n",
       "            </script>\n",
       "            "
      ]
     },
     "metadata": {},
     "output_type": "display_data"
    }
   ],
   "source": [
    "import numpy as np\n",
    "from lets_plot import *\n",
    "\n",
    "LetsPlot.setup_html()"
   ]
  },
  {
   "cell_type": "markdown",
   "metadata": {},
   "source": [
    "### Gray-scale image\n",
    "\n",
    "N x M ndarray of `int` is displayed as a `gray-scale` image."
   ]
  },
  {
   "cell_type": "code",
   "execution_count": 2,
   "metadata": {},
   "outputs": [
    {
     "data": {
      "text/html": [
       "   <div id=\"HF33Ou\"></div>\n",
       "   <script type=\"text/javascript\" data-lets-plot-script=\"plot\">\n",
       "       (function() {\n",
       "           var plotSpec={\n",
       "'mapping':{\n",
       "},\n",
       "'data_meta':{\n",
       "},\n",
       "'ggtitle':{\n",
       "'text':\"2 x 3 array\"\n",
       "},\n",
       "'kind':\"plot\",\n",
       "'scales':[],\n",
       "'layers':[{\n",
       "'geom':\"image\",\n",
       "'mapping':{\n",
       "'xmin':\"xmin\",\n",
       "'ymin':\"ymin\",\n",
       "'xmax':\"xmax\",\n",
       "'ymax':\"ymax\"\n",
       "},\n",
       "'data_meta':{\n",
       "},\n",
       "'href':\"data:image/png;base64,iVBORw0KGgoAAAANSUhEUgAAAAMAAAACCAAAAAC4HznGAAAAEElEQVR4nGMwmnaC4USKEQAMJALvf3ld2gAAAABJRU5ErkJggg==\",\n",
       "'data':{\n",
       "'xmin':[-0.5],\n",
       "'ymin':[-0.5],\n",
       "'xmax':[2.5],\n",
       "'ymax':[1.5]\n",
       "}\n",
       "}]\n",
       "};\n",
       "           var plotContainer = document.getElementById(\"HF33Ou\");\n",
       "           window.letsPlotCall(function() {{\n",
       "               LetsPlot.buildPlotFromProcessedSpecs(plotSpec, -1, -1, plotContainer);\n",
       "           }});\n",
       "       })();    \n",
       "   </script>"
      ],
      "text/plain": [
       "<lets_plot.plot.core.PlotSpec at 0x1216acf50>"
      ]
     },
     "execution_count": 2,
     "metadata": {},
     "output_type": "execute_result"
    }
   ],
   "source": [
    "A2x3 = np.array([\n",
    "    [50, 150 ,200],\n",
    "    [200,100,50]\n",
    "    ])\n",
    "ggplot() + geom_image(A2x3) + ggtitle('2 x 3 array')"
   ]
  },
  {
   "cell_type": "markdown",
   "metadata": {},
   "source": [
    "### RGB image\n",
    "\n",
    "N x M x 3 ndarray is displayed as RGB image."
   ]
  },
  {
   "cell_type": "code",
   "execution_count": 3,
   "metadata": {},
   "outputs": [
    {
     "data": {
      "text/html": [
       "   <div id=\"5t69Af\"></div>\n",
       "   <script type=\"text/javascript\" data-lets-plot-script=\"plot\">\n",
       "       (function() {\n",
       "           var plotSpec={\n",
       "'mapping':{\n",
       "},\n",
       "'data_meta':{\n",
       "},\n",
       "'ggtitle':{\n",
       "'text':\"2 x 3 x 3 array\"\n",
       "},\n",
       "'kind':\"plot\",\n",
       "'scales':[],\n",
       "'layers':[{\n",
       "'geom':\"image\",\n",
       "'mapping':{\n",
       "'xmin':\"xmin\",\n",
       "'ymin':\"ymin\",\n",
       "'xmax':\"xmax\",\n",
       "'ymax':\"ymax\"\n",
       "},\n",
       "'data_meta':{\n",
       "},\n",
       "'href':\"data:image/png;base64,iVBORw0KGgoAAAANSUhEUgAAAAMAAAACCAIAAAASFvFNAAAAEklEQVR4nGP4z8DAAMVgCkgAADvYBfuy6mB/AAAAAElFTkSuQmCC\",\n",
       "'data':{\n",
       "'xmin':[-0.5],\n",
       "'ymin':[-0.5],\n",
       "'xmax':[2.5],\n",
       "'ymax':[1.5]\n",
       "}\n",
       "}]\n",
       "};\n",
       "           var plotContainer = document.getElementById(\"5t69Af\");\n",
       "           window.letsPlotCall(function() {{\n",
       "               LetsPlot.buildPlotFromProcessedSpecs(plotSpec, -1, -1, plotContainer);\n",
       "           }});\n",
       "       })();    \n",
       "   </script>"
      ],
      "text/plain": [
       "<lets_plot.plot.core.PlotSpec at 0x124054410>"
      ]
     },
     "execution_count": 3,
     "metadata": {},
     "output_type": "execute_result"
    }
   ],
   "source": [
    "A2x3x3 = np.array([\n",
    "    [[255, 0, 0], [0, 255, 0], [0, 0, 255]],\n",
    "    [[0, 255, 0], [0, 0, 255], [255, 0, 0]]\n",
    "    ])\n",
    "ggplot() + geom_image(A2x3x3) + ggtitle('2 x 3 x 3 array')"
   ]
  },
  {
   "cell_type": "markdown",
   "metadata": {},
   "source": [
    "### Alpha channel\n",
    "\n",
    "N x M x 4 array of `float` is displayed as RGB image with alpha channel."
   ]
  },
  {
   "cell_type": "code",
   "execution_count": 4,
   "metadata": {},
   "outputs": [
    {
     "data": {
      "text/html": [
       "   <div id=\"4wpB6e\"></div>\n",
       "   <script type=\"text/javascript\" data-lets-plot-script=\"plot\">\n",
       "       (function() {\n",
       "           var plotSpec={\n",
       "'mapping':{\n",
       "},\n",
       "'data_meta':{\n",
       "},\n",
       "'ggtitle':{\n",
       "'text':\"2 x 3 x 4 array\"\n",
       "},\n",
       "'kind':\"plot\",\n",
       "'scales':[],\n",
       "'layers':[{\n",
       "'geom':\"image\",\n",
       "'mapping':{\n",
       "'xmin':\"xmin\",\n",
       "'ymin':\"ymin\",\n",
       "'xmax':\"xmax\",\n",
       "'ymax':\"ymax\"\n",
       "},\n",
       "'data_meta':{\n",
       "},\n",
       "'href':\"data:image/png;base64,iVBORw0KGgoAAAANSUhEUgAAAAMAAAACCAYAAACddGYaAAAAGUlEQVR4nGP4z8DwHwwZ/oOZvkDCF8jyBQCLFgnfUCS+/AAAAABJRU5ErkJggg==\",\n",
       "'data':{\n",
       "'xmin':[-0.5],\n",
       "'ymin':[-0.5],\n",
       "'xmax':[2.5],\n",
       "'ymax':[1.5]\n",
       "}\n",
       "}]\n",
       "};\n",
       "           var plotContainer = document.getElementById(\"4wpB6e\");\n",
       "           window.letsPlotCall(function() {{\n",
       "               LetsPlot.buildPlotFromProcessedSpecs(plotSpec, -1, -1, plotContainer);\n",
       "           }});\n",
       "       })();    \n",
       "   </script>"
      ],
      "text/plain": [
       "<lets_plot.plot.core.PlotSpec at 0x124054bd0>"
      ]
     },
     "execution_count": 4,
     "metadata": {},
     "output_type": "execute_result"
    }
   ],
   "source": [
    "A2x3x4 = np.array([\n",
    "    [[1, 0, 0, 1], [0, 1, 0, 1], [0, 0, 1, 1]],\n",
    "    [[0, 1, 0, 0.3], [0, 0, 1, 0.3], [1, 0, 0, 0.3]]\n",
    "    ])\n",
    "\n",
    "ggplot() + geom_image(A2x3x4) + ggtitle('2 x 3 x 4 array')"
   ]
  },
  {
   "cell_type": "markdown",
   "metadata": {},
   "source": [
    "### Just a random image"
   ]
  },
  {
   "cell_type": "code",
   "execution_count": 5,
   "metadata": {},
   "outputs": [
    {
     "data": {
      "text/html": [
       "   <div id=\"2NFTc5\"></div>\n",
       "   <script type=\"text/javascript\" data-lets-plot-script=\"plot\">\n",
       "       (function() {\n",
       "           var plotSpec={\n",
       "'mapping':{\n",
       "},\n",
       "'data_meta':{\n",
       "},\n",
       "'coord':{\n",
       "'name':\"cartesian\"\n",
       "},\n",
       "'kind':\"plot\",\n",
       "'scales':[],\n",
       "'layers':[{\n",
       "'geom':\"image\",\n",
       "'mapping':{\n",
       "'xmin':\"xmin\",\n",
       "'ymin':\"ymin\",\n",
       "'xmax':\"xmax\",\n",
       "'ymax':\"ymax\"\n",
       "},\n",
       "'data_meta':{\n",
       "},\n",
       "'href':\"data:image/png;base64,iVBORw0KGgoAAAANSUhEUgAAAGQAAAAKCAIAAADNfmwpAAACIklEQVR4nGWUCXLDMAwD9f9PsxNbwC7dmTRNJJMEceScmTnze//9O+d9P+/x87HX7+f76bxlz/ffyfOXwufyPRkK7usep91pcS76CqrbbeaolDF59h5fXHcb4XxPpthz6fX73J2QCpYbqu9ZKDoUTggMSGbc23JYCOEa7sPejE7alHXKzBFG6XefGMEdwzgbdpplxYxLkS6WtNHQK8GusHaLY2NgMHWCI/SttPe9lFFVxUsF7p0ij0tObS7Q29ksf9RdCELXFDeco0Wa4gfs1DA4dKMa+wqaWIIL4gM+tRpaalYgYpdGhuXwP/lQPBS7HdVyB9DTjay9zMvOalJzflKDAUQSM7DW3hVAxoU/FCXYiHewrQMzbSjNVspm+b2bK1kI5URCymqZywPMJs3+vVMr7XyalxgxhYMbmK2PjEhCGPffJb3rtsPewC0pOK4K1w1miMQWbNOZxQf4qyra5sejyo3hfQWGJOzjlGbs9HFlml44m5wse/WhjBxqIMfer7qNjNgs1UnpB9Ryko0qUrbMMoe3OcuiyJDJMYVipIjNd272+o4oaS36aF2b+YhfJvOj5MQhsu0RO+Pq4VFHobaVpQRpqXJi2dlTqxE/BZapLDPEvmlP2bat1K/mVvyUEdfuh73/+DtYKqTgB5fJ9kQ9oSDpaHl0CTq00YCmm4Bsqy2hbI2aop0ygHR3NGuVH1IYDOvZHEG4YlIVMVSsXNX+ANkxCE2LDsNMAAAAAElFTkSuQmCC\",\n",
       "'data':{\n",
       "'xmin':[-0.5],\n",
       "'ymin':[-0.5],\n",
       "'xmax':[99.5],\n",
       "'ymax':[9.5]\n",
       "}\n",
       "}]\n",
       "};\n",
       "           var plotContainer = document.getElementById(\"2NFTc5\");\n",
       "           window.letsPlotCall(function() {{\n",
       "               LetsPlot.buildPlotFromProcessedSpecs(plotSpec, -1, -1, plotContainer);\n",
       "           }});\n",
       "       })();    \n",
       "   </script>"
      ],
      "text/plain": [
       "<lets_plot.plot.core.PlotSpec at 0x1216acad0>"
      ]
     },
     "execution_count": 5,
     "metadata": {},
     "output_type": "execute_result"
    }
   ],
   "source": [
    "image = np.random.choice([0.0, 1.0], [10, 100, 3])\n",
    "ggplot() + geom_image(image) + coord_cartesian()\n"
   ]
  }
 ],
 "metadata": {
  "kernelspec": {
   "display_name": "Python 3",
   "language": "python",
   "name": "python3"
  },
  "language_info": {
   "codemirror_mode": {
    "name": "ipython",
    "version": 3
   },
   "file_extension": ".py",
   "mimetype": "text/x-python",
   "name": "python",
   "nbconvert_exporter": "python",
   "pygments_lexer": "ipython3",
   "version": "3.7.6"
  },
  "pycharm": {
   "stem_cell": {
    "cell_type": "raw",
    "metadata": {
     "collapsed": false
    },
    "source": []
   }
  }
 },
 "nbformat": 4,
 "nbformat_minor": 1
}
