{
 "cells": [
  {
   "cell_type": "code",
   "execution_count": null,
   "metadata": {
    "collapsed": true
   },
   "outputs": [],
   "source": [
    "import numpy as np\n",
    "import pandas as pd\n",
    "from lets_plot import *\n",
    "from lets_plot.plot import geom_livemap\n",
    "from scipy.stats import multivariate_normal"
   ]
  },
  {
   "cell_type": "code",
   "execution_count": null,
   "outputs": [],
   "source": [
    "delta = 0.5\n",
    "center_x = - 100\n",
    "center_y = 35\n",
    "x = np.arange(-5.0, 5.0, delta)\n",
    "y = np.arange(-5.0, 5.0, delta)\n",
    "X, Y = np.meshgrid(x, y)\n",
    "\n",
    "mu = np.array([1, 0])\n",
    "sigma = np.diag([1, 4])\n",
    "mu1 = np.array([0, 0])\n",
    "sigma1 = np.diag([4, 1])\n",
    "\n",
    "Z = multivariate_normal.pdf(np.dstack((X, Y)), mean=mu, cov=sigma)\n",
    "Z = Z - multivariate_normal.pdf(np.dstack((X, Y)), mean=mu1, cov=sigma1)\n",
    "\n",
    "x = X.reshape(-1) + center_x\n",
    "y = Y.reshape(-1) + center_y\n",
    "z = Z.reshape(-1)\n",
    "dat = dict(x=x, y=y, z=z)"
   ],
   "metadata": {
    "collapsed": false,
    "pycharm": {
     "name": "#%%\n"
    }
   }
  },
  {
   "cell_type": "code",
   "execution_count": null,
   "outputs": [],
   "source": [
    "p = ggplot(dat, aes('x', 'y', fill='z')) + scale_fill_hue()\n",
    "p += geom_livemap(location = [-114.024353, 22.803856, -85.937366, 42.263288]) + geom_tile()\n",
    "p"
   ],
   "metadata": {
    "collapsed": false,
    "pycharm": {
     "name": "#%%\n"
    }
   }
  }
 ],
 "metadata": {
  "kernelspec": {
   "display_name": "Python 3",
   "language": "python",
   "name": "python3"
  },
  "language_info": {
   "codemirror_mode": {
    "name": "ipython",
    "version": 2
   },
   "file_extension": ".py",
   "mimetype": "text/x-python",
   "name": "python",
   "nbconvert_exporter": "python",
   "pygments_lexer": "ipython2",
   "version": "2.7.6"
  },
  "pycharm": {
   "stem_cell": {
    "cell_type": "raw",
    "source": [],
    "metadata": {
     "collapsed": false
    }
   }
  }
 },
 "nbformat": 4,
 "nbformat_minor": 0
}