{
 "cells": [
  {
   "cell_type": "code",
   "execution_count": null,
   "metadata": {},
   "outputs": [],
   "source": [
    "from lets_plot import *\n",
    "import pandas as pd\n",
    "import numpy as np\n",
    "import random\n",
    "import math"
   ]
  },
  {
   "cell_type": "code",
   "execution_count": null,
   "metadata": {},
   "outputs": [],
   "source": [
    "auto=pd.read_csv('https://raw.githubusercontent.com/plotly/datasets/master/auto-mpg.csv')"
   ]
  },
  {
   "cell_type": "code",
   "execution_count": null,
   "metadata": {},
   "outputs": [],
   "source": [
    "# geom_smooth(method='loess') \n",
    "\n",
    "ggplot(auto, aes(x='horsepower', y='mpg')) + geom_point() + geom_smooth(method='loess', size=2)"
   ]
  },
  {
   "cell_type": "code",
   "execution_count": null,
   "metadata": {},
   "outputs": [],
   "source": [
    "valuesX = np.arange(0.0, 3*3.14,0.03)\n",
    "valuesY = [math.sin(x) + random.uniform(-0.6, 0.6) for x in valuesX]\n",
    "df = {'x': valuesX, 'y': valuesY}"
   ]
  },
  {
   "cell_type": "code",
   "execution_count": null,
   "metadata": {},
   "outputs": [],
   "source": [
    "# geom_smooth(method='loess', span=...)\n",
    "\n",
    "ggplot(df, aes(x='x', y='y')) +\\\n",
    "    geom_point(shape=21, fill='#ffffbf', color='#7c7c7c') +\\\n",
    "    geom_smooth(method='loess', span=0.5, size=2, color='#0000F0') +\\ # blue\n",
    "    geom_smooth(method='loess', span=0.3, size=2, color='#00A000')    # green"
   ]
  },
  {
   "cell_type": "code",
   "execution_count": null,
   "metadata": {},
   "outputs": [],
   "source": []
  }
 ],
 "metadata": {
  "kernelspec": {
   "display_name": "Python 3",
   "language": "python",
   "name": "python3"
  },
  "language_info": {
   "codemirror_mode": {
    "name": "ipython",
    "version": 3
   },
   "file_extension": ".py",
   "mimetype": "text/x-python",
   "name": "python",
   "nbconvert_exporter": "python",
   "pygments_lexer": "ipython3",
   "version": "3.7.3"
  }
 },
 "nbformat": 4,
 "nbformat_minor": 2
}
