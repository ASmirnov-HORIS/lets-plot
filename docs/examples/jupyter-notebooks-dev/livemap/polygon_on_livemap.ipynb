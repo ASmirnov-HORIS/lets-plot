{
 "cells": [
  {
   "cell_type": "code",
   "execution_count": 15,
   "metadata": {},
   "outputs": [],
   "source": [
    "from lets_plot import *\n",
    "from lets_plot.plot import geom_livemap"
   ]
  },
  {
   "cell_type": "code",
   "execution_count": 16,
   "metadata": {},
   "outputs": [],
   "source": [
    "lat = [48.979166, 48.936053, 29.875645, 35.309947,42.309]\n",
    "lng = [-104.032789, -123.242456, -102.492420, -80.237456,-80.237]\n",
    "values = [700, 800, 1500, 200, 500]\n",
    "data = dict(y=lat, x=lng)"
   ]
  },
  {
   "cell_type": "code",
   "execution_count": 17,
   "metadata": {},
   "outputs": [
    {
     "data": {
      "text/html": [
       "\n",
       "            <div id=\"plot_output_FIVrov\"></div>\n",
       "            <script type=\"text/javascript\">\n",
       "                (function() {\n",
       "                    var plotSpec={\n",
       "'data':{\n",
       "},\n",
       "'kind':\"plot\",\n",
       "'scales':[],\n",
       "'layers':[{\n",
       "'geom':\"livemap\",\n",
       "'zoom':4,\n",
       "'mapping':{\n",
       "},\n",
       "'data':{\n",
       "}\n",
       "},{\n",
       "'geom':\"polygon\",\n",
       "'data':{\n",
       "'y':[48.979166,48.936053,29.875645,35.309947,42.309],\n",
       "'x':[-104.032789,-123.242456,-102.49242,-80.237456,-80.237]\n",
       "},\n",
       "'mapping':{\n",
       "'x':\"x\",\n",
       "'y':\"y\"\n",
       "},\n",
       "'fill':\"yellow\",\n",
       "'alpha':0.4,\n",
       "'color':\"green\",\n",
       "'size':3\n",
       "}]\n",
       "};\n",
       "                    var plotContainer = document.getElementById(\"plot_output_FIVrov\");\n",
       "                    window.letsPlotCall(function() {{\n",
       "                        LetsPlot.buildPlotFromProcessedSpecs(plotSpec, -1, -1, plotContainer);\n",
       "                    }});\n",
       "                })();    \n",
       "            </script>\n",
       "        "
      ],
      "text/plain": [
       "<lets_plot.plot.core.PlotSpec at 0x7fcdda146fd0>"
      ]
     },
     "execution_count": 17,
     "metadata": {},
     "output_type": "execute_result"
    }
   ],
   "source": [
    "plot = ggplot(data) + geom_livemap(zoom=4) + geom_polygon(data=data, mapping=aes(x='x', y='y'), fill='yellow',\\\n",
    "                                                    alpha=0.4, color='green', size = 3)\n",
    "plot"
   ]
  },
  {
   "cell_type": "code",
   "execution_count": 18,
   "metadata": {},
   "outputs": [],
   "source": [
    "data2 = {'state': ['Ohio', 'Texas', 'Kansas', 'Iowa', 'Utah', 'Maine'],\\\n",
    "        'val': [3000, 0,  -2000, 1500, 1000, 2500]}"
   ]
  },
  {
   "cell_type": "code",
   "execution_count": 20,
   "metadata": {},
   "outputs": [
    {
     "data": {
      "text/html": [
       "\n",
       "            <div id=\"plot_output_RI7c9t\"></div>\n",
       "            <script type=\"text/javascript\">\n",
       "                (function() {\n",
       "                    var plotSpec={\n",
       "'data':{\n",
       "'state':[\"Ohio\",\"Texas\",\"Kansas\",\"Iowa\",\"Utah\",\"Maine\"],\n",
       "'val':[3000.0,0.0,-2000.0,1500.0,1000.0,2500.0]\n",
       "},\n",
       "'kind':\"plot\",\n",
       "'scales':[{\n",
       "'aesthetic':\"fill\",\n",
       "'h':[0.0,120.0],\n",
       "'scale_mapper_kind':\"color_hue\"\n",
       "}],\n",
       "'layers':[{\n",
       "'geom':\"livemap\",\n",
       "'mapping':{\n",
       "'map_id':\"state\",\n",
       "'fill':\"val\"\n",
       "},\n",
       "'data':{\n",
       "}\n",
       "}]\n",
       "};\n",
       "                    var plotContainer = document.getElementById(\"plot_output_RI7c9t\");\n",
       "                    window.letsPlotCall(function() {{\n",
       "                        LetsPlot.buildPlotFromProcessedSpecs(plotSpec, -1, -1, plotContainer);\n",
       "                    }});\n",
       "                })();    \n",
       "            </script>\n",
       "        "
      ],
      "text/plain": [
       "<lets_plot.plot.core.PlotSpec at 0x7fcdda146780>"
      ]
     },
     "execution_count": 20,
     "metadata": {},
     "output_type": "execute_result"
    }
   ],
   "source": [
    "ggplot(data2) + geom_livemap(aes(map_id='state', fill='val')) + scale_fill_hue(h = [0.,120.])"
   ]
  },
  {
   "cell_type": "code",
   "execution_count": null,
   "metadata": {},
   "outputs": [],
   "source": []
  }
 ],
 "metadata": {
  "kernelspec": {
   "display_name": "Python 3",
   "language": "python",
   "name": "python3"
  },
  "language_info": {
   "codemirror_mode": {
    "name": "ipython",
    "version": 3
   },
   "file_extension": ".py",
   "mimetype": "text/x-python",
   "name": "python",
   "nbconvert_exporter": "python",
   "pygments_lexer": "ipython3",
   "version": "3.7.3"
  }
 },
 "nbformat": 4,
 "nbformat_minor": 1
}
