{
 "cells": [
  {
   "cell_type": "code",
   "execution_count": 4,
   "metadata": {},
   "outputs": [],
   "source": [
    "from lets_plot import *\n",
    "from lets_plot.plot import geom_livemap"
   ]
  },
  {
   "cell_type": "code",
   "execution_count": 5,
   "metadata": {},
   "outputs": [],
   "source": [
    "data = {'state': ['Ohio', 'Texas', 'Kansas', 'Iowa', 'Utah', 'Maine'],\\\n",
    "        'val': [3000, 0,  -2000, 1500, 1000, 2500]}"
   ]
  },
  {
   "cell_type": "code",
   "execution_count": 16,
   "metadata": {},
   "outputs": [
    {
     "data": {
      "text/html": [
       "\n",
       "            <div id=\"plot_output_vluSme\"></div>\n",
       "            <script type=\"text/javascript\">\n",
       "                (function() {\n",
       "                    var plotSpec={\n",
       "'data':{\n",
       "'state':[\"Ohio\",\"Texas\",\"Kansas\",\"Iowa\",\"Utah\",\"Maine\"],\n",
       "'val':[3000.0,0.0,-2000.0,1500.0,1000.0,2500.0]\n",
       "},\n",
       "'kind':\"plot\",\n",
       "'scales':[{\n",
       "'aesthetic':\"color\",\n",
       "'h':[0.0,120.0],\n",
       "'scale_mapper_kind':\"color_hue\"\n",
       "}],\n",
       "'layers':[{\n",
       "'geom':\"livemap\",\n",
       "'mapping':{\n",
       "'map_id':\"state\",\n",
       "'color':\"val\",\n",
       "'fill':\"val\",\n",
       "'shape':\"val\"\n",
       "},\n",
       "'display_mode':\"point\",\n",
       "'size':15,\n",
       "'data':{\n",
       "}\n",
       "}]\n",
       "};\n",
       "                    var plotContainer = document.getElementById(\"plot_output_vluSme\");\n",
       "                    window.letsPlotCall(function() {{\n",
       "                        LetsPlot.buildPlotFromProcessedSpecs(plotSpec, -1, -1, plotContainer);\n",
       "                    }});\n",
       "                })();    \n",
       "            </script>\n",
       "        "
      ],
      "text/plain": [
       "<lets_plot.plot.core.PlotSpec at 0x7efe85125828>"
      ]
     },
     "execution_count": 16,
     "metadata": {},
     "output_type": "execute_result"
    }
   ],
   "source": [
    "ggplot(data) + geom_livemap(aes(map_id='state', color='val', fill='val', shape = 'val'), geom='point', size=15)\\\n",
    "        + scale_color_hue(h = [0.,120.])"
   ]
  },
  {
   "cell_type": "code",
   "execution_count": null,
   "metadata": {},
   "outputs": [],
   "source": []
  }
 ],
 "metadata": {
  "kernelspec": {
   "display_name": "Python 3",
   "language": "python",
   "name": "python3"
  },
  "language_info": {
   "codemirror_mode": {
    "name": "ipython",
    "version": 3
   },
   "file_extension": ".py",
   "mimetype": "text/x-python",
   "name": "python",
   "nbconvert_exporter": "python",
   "pygments_lexer": "ipython3",
   "version": "3.7.3"
  }
 },
 "nbformat": 4,
 "nbformat_minor": 2
}
