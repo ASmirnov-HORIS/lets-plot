{
 "cells": [
  {
   "cell_type": "code",
   "execution_count": 4,
   "metadata": {},
   "outputs": [],
   "source": [
    "from lets_plot import *\n",
    "from lets_plot.plot import geom_livemap"
   ]
  },
  {
   "cell_type": "code",
   "execution_count": 5,
   "metadata": {},
   "outputs": [
    {
     "data": {
      "text/html": [
       "\n",
       "            <div id=\"plot_output_srhEhM\"></div>\n",
       "            <script type=\"text/javascript\">\n",
       "                (function() {\n",
       "                    var plotSpec={\n",
       "'kind':\"plot\",\n",
       "'scales':[],\n",
       "'layers':[{\n",
       "'geom':\"livemap\",\n",
       "'zoom':3,\n",
       "'theme':\"light\",\n",
       "'projection':\"epsg4326\",\n",
       "'dev_params':{\n",
       "'vector_tiles':{\n",
       "'host':\"tiles.datalore.io\",\n",
       "'theme':\"light\"\n",
       "}\n",
       "},\n",
       "'mapping':{\n",
       "},\n",
       "'data':{\n",
       "}\n",
       "}]\n",
       "};\n",
       "                    var plotContainer = document.getElementById(\"plot_output_srhEhM\");\n",
       "                    window.letsPlotCall(function() {{\n",
       "                        LetsPlot.buildPlotFromProcessedSpecs(plotSpec, -1, -1, plotContainer);\n",
       "                    }});\n",
       "                })();    \n",
       "            </script>\n",
       "        "
      ],
      "text/plain": [
       "<lets_plot.plot.core.PlotSpec at 0x7fb33912f7b8>"
      ]
     },
     "execution_count": 5,
     "metadata": {},
     "output_type": "execute_result"
    }
   ],
   "source": [
    "ggplot() + geom_livemap(theme='light', zoom = 3, projection='epsg4326', dev_params={\n",
    "    \"vector_tiles\":{\n",
    "        \"host\":\"tiles.datalore.io\", \n",
    "        \"theme\":\"light\"\n",
    "    }\n",
    "})"
   ]
  },
  {
   "cell_type": "code",
   "execution_count": 6,
   "metadata": {},
   "outputs": [
    {
     "data": {
      "text/html": [
       "\n",
       "            <div id=\"plot_output_KaqcSv\"></div>\n",
       "            <script type=\"text/javascript\">\n",
       "                (function() {\n",
       "                    var plotSpec={\n",
       "'kind':\"plot\",\n",
       "'scales':[],\n",
       "'layers':[{\n",
       "'geom':\"livemap\",\n",
       "'zoom':0,\n",
       "'dev_params':{\n",
       "'raster_tiles':{\n",
       "'host':\"maps.wikimedia.org/osm-intl\",\n",
       "'protocol':\"https\"\n",
       "}\n",
       "},\n",
       "'mapping':{\n",
       "},\n",
       "'data':{\n",
       "}\n",
       "}]\n",
       "};\n",
       "                    var plotContainer = document.getElementById(\"plot_output_KaqcSv\");\n",
       "                    window.letsPlotCall(function() {{\n",
       "                        LetsPlot.buildPlotFromProcessedSpecs(plotSpec, -1, -1, plotContainer);\n",
       "                    }});\n",
       "                })();    \n",
       "            </script>\n",
       "        "
      ],
      "text/plain": [
       "<lets_plot.plot.core.PlotSpec at 0x7fb33912fa58>"
      ]
     },
     "execution_count": 6,
     "metadata": {},
     "output_type": "execute_result"
    }
   ],
   "source": [
    "ggplot() + geom_livemap(zoom = 0, dev_params={\n",
    "    \"raster_tiles\":{\n",
    "        \"host\":\"maps.wikimedia.org/osm-intl\",\n",
    "        \"protocol\":\"https\"\n",
    "    }\n",
    "})"
   ]
  },
  {
   "cell_type": "code",
   "execution_count": null,
   "metadata": {},
   "outputs": [],
   "source": []
  }
 ],
 "metadata": {
  "kernelspec": {
   "display_name": "Python 3",
   "language": "python",
   "name": "python3"
  },
  "language_info": {
   "codemirror_mode": {
    "name": "ipython",
    "version": 3
   },
   "file_extension": ".py",
   "mimetype": "text/x-python",
   "name": "python",
   "nbconvert_exporter": "python",
   "pygments_lexer": "ipython3",
   "version": "3.7.3"
  }
 },
 "nbformat": 4,
 "nbformat_minor": 1
}
