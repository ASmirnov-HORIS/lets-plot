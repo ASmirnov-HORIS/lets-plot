{
 "cells": [
  {
   "cell_type": "code",
   "execution_count": 7,
   "metadata": {},
   "outputs": [],
   "source": [
    "import pandas as pd\n",
    "from lets_plot import *\n",
    "from lets_plot.plot import geom_livemap"
   ]
  },
  {
   "cell_type": "code",
   "execution_count": 8,
   "metadata": {},
   "outputs": [],
   "source": [
    "lat = [48.979166, 48.936053, 29.875645, 35.309947]\n",
    "lon = [-102.492420, -80.237456, -114.032789, -123.242456]\n",
    "values = [700, 800, 1500, 200, 500]"
   ]
  },
  {
   "cell_type": "code",
   "execution_count": 9,
   "metadata": {},
   "outputs": [],
   "source": [
    "data = dict(y_start=lat[0:2], x_start=lon[0:2], y_end=lat[2:4], x_end=lon[2:4])\n",
    "path = pd.DataFrame({'x': lon, 'y': lat})"
   ]
  },
  {
   "cell_type": "code",
   "execution_count": 10,
   "metadata": {},
   "outputs": [
    {
     "data": {
      "text/html": [
       "\n",
       "            <div id=\"plot_output_J7UAl1\"></div>\n",
       "            <script type=\"text/javascript\">\n",
       "                (function() {\n",
       "                    var plotSpec={\n",
       "'ggtitle':{\n",
       "'text':\"Segments on livemap\"\n",
       "},\n",
       "'kind':\"plot\",\n",
       "'scales':[],\n",
       "'layers':[{\n",
       "'geom':\"livemap\",\n",
       "'mapping':{\n",
       "},\n",
       "'data':{\n",
       "}\n",
       "},{\n",
       "'geom':\"segment\",\n",
       "'data':{\n",
       "'y_start':[48.979166,48.936053],\n",
       "'x_start':[-102.49242,-80.237456],\n",
       "'y_end':[29.875645,35.309947],\n",
       "'x_end':[-114.032789,-123.242456]\n",
       "},\n",
       "'mapping':{\n",
       "'x':\"x_start\",\n",
       "'y':\"y_start\",\n",
       "'xend':\"x_end\",\n",
       "'yend':\"y_end\",\n",
       "'color':\"y_end\"\n",
       "},\n",
       "'size':1,\n",
       "'linetype':2\n",
       "}]\n",
       "};\n",
       "                    var plotContainer = document.getElementById(\"plot_output_J7UAl1\");\n",
       "                    window.letsPlotCall(function() {{\n",
       "                        LetsPlot.buildPlotFromProcessedSpecs(plotSpec, -1, -1, plotContainer);\n",
       "                    }});\n",
       "                })();    \n",
       "            </script>\n",
       "        "
      ],
      "text/plain": [
       "<lets_plot.plot.core.PlotSpec at 0x7f9e8ad6e7f0>"
      ]
     },
     "execution_count": 10,
     "metadata": {},
     "output_type": "execute_result"
    }
   ],
   "source": [
    "p = ggplot() + geom_livemap() + ggtitle('Segments on livemap')\n",
    "p += geom_segment(data=data, mapping=aes(x='x_start', y='y_start', xend='x_end', yend='y_end', color='y_end'), \\\n",
    "                       size=1, linetype=2)\n",
    "p"
   ]
  },
  {
   "cell_type": "code",
   "execution_count": null,
   "metadata": {},
   "outputs": [],
   "source": []
  }
 ],
 "metadata": {
  "kernelspec": {
   "display_name": "Python 3",
   "language": "python",
   "name": "python3"
  },
  "language_info": {
   "codemirror_mode": {
    "name": "ipython",
    "version": 3
   },
   "file_extension": ".py",
   "mimetype": "text/x-python",
   "name": "python",
   "nbconvert_exporter": "python",
   "pygments_lexer": "ipython3",
   "version": "3.7.3"
  }
 },
 "nbformat": 4,
 "nbformat_minor": 1
}
